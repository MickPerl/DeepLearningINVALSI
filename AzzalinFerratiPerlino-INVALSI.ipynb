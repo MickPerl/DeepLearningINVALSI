{
 "cells": [
  {
   "cell_type": "markdown",
   "metadata": {},
   "source": [
    "# Modello di deep learning per predizione dropout scolastico su dati INVALSI\n",
    "Progetto del corso di **Intelligenza Artificiale**, A.A. 2020/2021\n",
    "\n",
    "**LM Informatica**, **Alma Mater Studiorum - Università di Bologna**\n",
    "\n",
    "Realizzato da:\n",
    "- Marco Ferrati, matr. 983546\n",
    "- Michele Perlino, matr. 983733\n",
    "- Tommaso Azzalin, matr. 985911"
   ]
  },
  {
   "cell_type": "markdown",
   "metadata": {},
   "source": [
    "# 1 - Setup dell'ambiente"
   ]
  },
  {
   "cell_type": "markdown",
   "metadata": {},
   "source": [
    "## 1.1 - Installazione delle librerie necessarie"
   ]
  },
  {
   "cell_type": "code",
   "execution_count": null,
   "metadata": {},
   "outputs": [],
   "source": [
    "!pip3 install --no-cache-dir -r requirements.txt"
   ]
  },
  {
   "cell_type": "markdown",
   "metadata": {},
   "source": [
    "## 1.2 - Import delle librerie fondamentali per l'analisi dei dati"
   ]
  },
  {
   "cell_type": "code",
   "execution_count": 1,
   "metadata": {},
   "outputs": [],
   "source": [
    "import re\n",
    "from beautifultable import BeautifulTable\n",
    "\n",
    "import pandas as pd\n",
    "import numpy as np\n",
    "from sklearn.model_selection import train_test_split\n",
    "import tensorflow as tf\n",
    "from tensorflow.keras.layers.experimental.preprocessing import IntegerLookup\n",
    "from tensorflow.keras.layers.experimental.preprocessing import Normalization\n",
    "from tensorflow.keras.layers.experimental.preprocessing import StringLookup\n",
    "from tensorflow.keras.callbacks import EarlyStopping\n",
    "from tensorflow.python.keras.callbacks import ModelCheckpoint\n",
    "from imblearn.over_sampling import SMOTENC\n",
    "from livelossplot import PlotLossesKeras"
   ]
  },
  {
   "cell_type": "markdown",
   "metadata": {},
   "source": [
    "Com'è ben noto, il machine learning è un ambito in cui la sperimentazione occupa un ruolo molto importante: una volta consolidati i fondamenti teorici, abbiamo dovuto sperimentare innumerevoli architetture neurali differenti, tracciando di volta in volta le performance raggiunte.  \n",
    "Al fine di rendere il codice del notebook quanto più flessibile, abbiamo creato il file Python `config.py` contenente la definizione degli iperparametri della rete; in dettaglio, in questo file, per ogni iperparametro, si verifica l'esistenza di una variabile d'ambiente col medesimo nome: in caso positivo, si assegna il valore di quest'ultima, mentre, in caso negativo, si assegna un valore di default.\n",
    "\n",
    "Ad esempio:\n",
    "\n",
    "`LEARNING_RATE = float(getenv(key=\"LEARNING_RATE\", default=\"0.001\"))`\n",
    "\n",
    "Per impostare variabili d'ambiente in maniera batch, abbiamo creato dei file con estensione `.env`:\n",
    "- se si opera da PowerShell, è sufficiente dare il comando `Set-PsEnv` (installabile mediante comando `Install-Module -Name Set-PsEnv`) per definire tutte le variabili d'ambiente presenti nel file `.env` che si trova nella directory corrente;\n",
    "- se si opera da una shell Unix, si può impostare una variabile d'ambiente alla volta con `export nome_variabile=valore`: il contenuto di una variabile può essere controllato con `echo $nome_variabile`."
   ]
  },
  {
   "cell_type": "code",
   "execution_count": 2,
   "metadata": {},
   "outputs": [],
   "source": [
    "import src.config as cfg"
   ]
  },
  {
   "cell_type": "code",
   "execution_count": null,
   "metadata": {},
   "outputs": [],
   "source": [
    "print(\"Configuration\")\n",
    "if cfg.check_config() > 0:\n",
    "    print(\"The configuration is incorrect. Please fix it before continuing otherwise you could encounter issues while working with this notebook.\")\n",
    "\n",
    "cfg.print_config()"
   ]
  },
  {
   "cell_type": "markdown",
   "metadata": {},
   "source": [
    "All'interno della directory `src`, abbiamo creato altri due file Python (`mapping_domande_ambiti_processi.py` e `column_converters.py`) contenente del codice che si è voluto separare da quello del notebook, per questioni di ordine e leggibilità. "
   ]
  },
  {
   "cell_type": "code",
   "execution_count": 4,
   "metadata": {},
   "outputs": [],
   "source": [
    "from src.mapping_domande_ambiti_processi import MAPPING_DOMANDE_AMBITI_PROCESSI\n",
    "from src.column_converters import COLUMN_CONVERTERS"
   ]
  },
  {
   "cell_type": "markdown",
   "metadata": {},
   "source": [
    "Nella cartella `src`, di cui sopra, sono presenti altri due file Python `invalsi.py` e `save_plots.py`. Il primo contiene del codice equivalente a quello presente in questo notebook, ma che può essere eseguito da linea di comando come un qualsiasi script Python; la sua creazione si è resa necessaria per l'esecuzione degli script attraverso i job avviati sul Cluster HPC del DISI, descritto nella sezione [Esecuzione su Cluster HPC](#cluster). Il secondo contiene del codice per memorizzare dei grafici sotto forma di file immagine contenenti gli andamenti delle metriche che permettono di valutare il funzionamento di un'architettura neurale."
   ]
  },
  {
   "cell_type": "markdown",
   "metadata": {},
   "source": [
    "## 1.3 - Import del dataset originale"
   ]
  },
  {
   "cell_type": "code",
   "execution_count": 6,
   "metadata": {},
   "outputs": [],
   "source": [
    "\"\"\"\n",
    "Eseguire per: analisi dataset\n",
    "\"\"\"\n",
    "original_dataset = pd.read_csv(cfg.ORIGINAL_DATASET, sep=';', converters=COLUMN_CONVERTERS)"
   ]
  },
  {
   "cell_type": "markdown",
   "metadata": {},
   "source": [
    "# 2 - Exploratory Data Analysis del dataset originale\n",
    "Il codice che segue realizza il processo EDA, acronimo che sta per *Exploratory Data Analysis*, al fine di scandagliare i punti di attenzione del dataset a disposizione."
   ]
  },
  {
   "cell_type": "code",
   "execution_count": null,
   "metadata": {},
   "outputs": [],
   "source": [
    "original_dataset.info()"
   ]
  },
  {
   "cell_type": "markdown",
   "metadata": {},
   "source": [
    "Come restituito dalla funzione `info()`, il dataset presenta 342226 righe e 104 colonne."
   ]
  },
  {
   "cell_type": "code",
   "execution_count": null,
   "metadata": {},
   "outputs": [],
   "source": [
    "original_dataset.columns"
   ]
  },
  {
   "cell_type": "markdown",
   "metadata": {},
   "source": [
    "Il dataset contiene svariate informazioni relative a studenti che hanno ultimato il ciclo di studi delle superiori: l'obiettivo del progetto è la progettazione e implementazione di un classificatore capace di predire, sulla base dei risultati conseguiti al test INVALSI di terza media, quali studenti registreranno un *dropout*.  \n",
    "Il concetto di *dropout* può essere declinato su due livelli:\n",
    "- **implicito**: si dice che lo studente ha registrato un dropout implicito nel caso in cui non abbia acquisito le minime conoscenze e competenze, per cui presenta lacune formative;\n",
    "- **esplicito**: si dice che lo studente ha registrato un dropout esplicito nel caso in cui non abbia conseguito il diploma."
   ]
  },
  {
   "cell_type": "markdown",
   "metadata": {},
   "source": [
    "L'obiettivo del progetto è quello di realizzare un predittore, mediante tecniche di deep learning, che in base ai dati di uno studente e i risultati della sua prova INVALSI di terza media, possa predire un eventuale dropout implicito futuro."
   ]
  },
  {
   "cell_type": "markdown",
   "metadata": {},
   "source": [
    "## 2.1 - Ricerca di colonne con alte percentuali di valori nulli"
   ]
  },
  {
   "cell_type": "code",
   "execution_count": 9,
   "metadata": {},
   "outputs": [
    {
     "name": "stdout",
     "output_type": "stream",
     "text": [
      "Columns with high null values percentages:\n",
      "+=======================+=========+===================+\n",
      "|                       | Type    | Ratio null values |\n",
      "+=======================+=========+===================+\n",
      "| LIVELLI               | int64   | 0.0               |\n",
      "+-----------------------+---------+-------------------+\n",
      "| DROPOUT               | int64   | 0.0               |\n",
      "+-----------------------+---------+-------------------+\n",
      "| voto_orale_ita        | float64 | 0.113             |\n",
      "+-----------------------+---------+-------------------+\n",
      "| voto_orale_mat        | float64 | 0.114             |\n",
      "+-----------------------+---------+-------------------+\n",
      "| voto_scritto_ita      | float64 | 0.683             |\n",
      "+-----------------------+---------+-------------------+\n",
      "| voto_scritto_mat      | float64 | 0.683             |\n",
      "+-----------------------+---------+-------------------+\n",
      "| PesoClasse            | float64 | 0.946             |\n",
      "+-----------------------+---------+-------------------+\n",
      "| PesoScuola            | float64 | 0.946             |\n",
      "+-----------------------+---------+-------------------+\n",
      "| PesoTotale_Matematica | float64 | 0.946             |\n",
      "+-----------------------+---------+-------------------+\n",
      "| codice_orario         | float64 | 1.0               |\n",
      "+-----------------------+---------+-------------------+\n"
     ]
    }
   ],
   "source": [
    "print(\"Columns with high null values percentages:\")\n",
    "\n",
    "table = BeautifulTable()\n",
    "table.columns.header = [\"\", \"Type\",\"Ratio null values\"]\n",
    "\n",
    "for col in original_dataset.columns :\n",
    "    ratio_null_values = original_dataset[col].isnull().mean().round(3)\n",
    "    if ratio_null_values > 0:\n",
    "        table.rows.append([col, str(original_dataset[col].dtypes), ratio_null_values])\n",
    "table.rows.append(['LIVELLI', str(original_dataset['LIVELLI'].dtypes), original_dataset['LIVELLI'].isnull().mean().round(3)])\n",
    "table.rows.append(['DROPOUT', str(original_dataset['DROPOUT'].dtypes), original_dataset['DROPOUT'].isnull().mean().round(3)])\n",
    "        \n",
    "table.columns.alignment = BeautifulTable.ALIGN_LEFT\n",
    "table.set_style(BeautifulTable.STYLE_SEPARATED)\n",
    "table.rows.sort('Ratio null values')\n",
    "print(table)"
   ]
  },
  {
   "cell_type": "code",
   "execution_count": 10,
   "metadata": {},
   "outputs": [],
   "source": [
    "columns_high_ratio_null_values = [\"codice_orario\", \"PesoClasse\", \"PesoScuola\", \"PesoTotale_Matematica\"]\n",
    "columns_low_ratio_null_values = [\n",
    "    \"voto_scritto_ita\",  # 0.683\n",
    "    \"voto_scritto_mat\",  # 0.113\n",
    "    \"voto_orale_ita\",  # 0.683\n",
    "    \"voto_orale_mat\"  # 0.114\n",
    "]"
   ]
  },
  {
   "cell_type": "markdown",
   "metadata": {},
   "source": [
    "## 2.2 - Ricerca colonne con un numero basso di valori distinti "
   ]
  },
  {
   "cell_type": "code",
   "execution_count": 13,
   "metadata": {},
   "outputs": [
    {
     "name": "stdout",
     "output_type": "stream",
     "text": [
      "Columns with unique values:\n",
      "+==================+=======================+\n",
      "|                  | Ratio distinct values |\n",
      "+==================+=======================+\n",
      "| WLE_MAT_200_CORR | 0.464                 |\n",
      "+------------------+-----------------------+\n",
      "| pu_ma_no_corr    | 0.494                 |\n",
      "+------------------+-----------------------+\n",
      "| Unnamed: 0       | 1.0                   |\n",
      "+------------------+-----------------------+\n",
      "| CODICE_STUDENTE  | 1.0                   |\n",
      "+------------------+-----------------------+\n"
     ]
    }
   ],
   "source": [
    "print(\"Columns with unique values:\")\n",
    "\n",
    "table = BeautifulTable()\n",
    "table.columns.header = [\"\", \"Ratio distinct values\"]\n",
    "\n",
    "for col in original_dataset.columns:\n",
    "    ratio_unique_vals = round(original_dataset[col].nunique() / len(original_dataset), 3)\n",
    "    if ratio_unique_vals > 0.1:\n",
    "        table.rows.append([col, ratio_unique_vals]) \n",
    "\n",
    "table.columns.alignment = BeautifulTable.ALIGN_LEFT\n",
    "table.set_style(BeautifulTable.STYLE_SEPARATED)\n",
    "table.rows.sort('Ratio distinct values')\n",
    "print(table)"
   ]
  },
  {
   "cell_type": "markdown",
   "metadata": {},
   "source": [
    "Come era prevedibile, `Unnamed: 0` (corrispondente alla colonna con l'indice della riga) e `CODICE_STUDENTE` presentano una proporzione di valori distinti sul totale delle righe pari a 1, in quanto trattasi di indici/codici che identificano univocamente gli studenti. Queste due colonne possono essere eliminate, dato che non portano alcuna informazione che possa aiutare a ravvisare relazioni tra gli studenti."
   ]
  },
  {
   "cell_type": "code",
   "execution_count": 14,
   "metadata": {},
   "outputs": [],
   "source": [
    "columns_with_unique_values = [\"Unnamed: 0\", \"CODICE_STUDENTE\"]"
   ]
  },
  {
   "cell_type": "markdown",
   "metadata": {},
   "source": [
    "## 2.3 - Ricerca colonne con un singolo valore"
   ]
  },
  {
   "cell_type": "code",
   "execution_count": 16,
   "metadata": {},
   "outputs": [
    {
     "name": "stdout",
     "output_type": "stream",
     "text": [
      "Columns with just one value:\n",
      "macrotipologia\n",
      "livello\n"
     ]
    }
   ],
   "source": [
    "print(\"Columns with just one value:\")\n",
    "for col in original_dataset.columns:\n",
    "    unique_vals = original_dataset[col].nunique()\n",
    "    if unique_vals == 1:\n",
    "        print(col)"
   ]
  },
  {
   "cell_type": "markdown",
   "metadata": {},
   "source": [
    "Similmente, queste colonne possono essere eliminate in quanto non distinguono in alcuna maniera gli studenti."
   ]
  },
  {
   "cell_type": "code",
   "execution_count": 17,
   "metadata": {},
   "outputs": [],
   "source": [
    "columns_with_just_one_value = [\"macrotipologia\", \"livello\"]"
   ]
  },
  {
   "cell_type": "markdown",
   "metadata": {},
   "source": [
    "## 2.4 - Rimozione delle colonne superflue"
   ]
  },
  {
   "cell_type": "code",
   "execution_count": null,
   "metadata": {},
   "outputs": [],
   "source": [
    "\"\"\"\n",
    "Eseguire per: analisi dataset\n",
    "\"\"\"\n",
    "cleaned_original_dataset: pd.DataFrame = original_dataset.drop(\n",
    "    columns_high_ratio_null_values + \n",
    "    columns_with_unique_values + \n",
    "    columns_with_just_one_value, \n",
    "    axis=1\n",
    ")\n",
    "cleaned_original_dataset.to_csv(cfg.CLEANED_DATASET)"
   ]
  },
  {
   "cell_type": "code",
   "execution_count": 18,
   "metadata": {},
   "outputs": [
    {
     "name": "stderr",
     "output_type": "stream",
     "text": [
      "c:\\Users\\azzal\\Progetti\\INVALSI\\MachineLearningProject\\venv\\lib\\site-packages\\IPython\\core\\interactiveshell.py:3441: DtypeWarning: Columns (8) have mixed types.Specify dtype option on import or set low_memory=False.\n",
      "  exec(code_obj, self.user_global_ns, self.user_ns)\n"
     ]
    }
   ],
   "source": [
    "\"\"\"\n",
    "Eseguire per: analisi dataset\n",
    "Attenzione: inutile eseguire se si è eseguita la precedente cella.\n",
    "\"\"\"\n",
    "cleaned_original_dataset = pd.read_csv(cfg.CLEANED_DATASET)"
   ]
  },
  {
   "cell_type": "code",
   "execution_count": 19,
   "metadata": {},
   "outputs": [],
   "source": [
    "if \"Unnamed: 0\" in cleaned_original_dataset.columns:\n",
    "    cleaned_original_dataset.drop(\"Unnamed: 0\", axis=1, inplace=True)"
   ]
  },
  {
   "cell_type": "markdown",
   "metadata": {},
   "source": [
    "## 2.5 - Generalizzazione dataset per supportare altre coorti di studenti\n",
    "Addestrando la rete con le domande specifiche di un test INVALSI di uno specifico anno non si ottiene un classificatore riutilizzabile per coorti successive (le domande cambiano ogni anno). Pertanto, abbiamo pensato di mappare le feature inerenti alle domande in uno spazio più generico che permetta di cogliere la loro semantica piuttosto che la loro rappresentazione letterale; mediante le griglie di correzione fornite ai docenti, abbiamo notato che ogni domanda è caratterizzata da uno o più ambiti e processi: questa corrispondenza ha ispirato la trasformazione dello spazio di rappresentazione delle domande che riportiamo di seguito. "
   ]
  },
  {
   "cell_type": "markdown",
   "metadata": {},
   "source": [
    "Nel file `mapping_domande_ambiti_processi.py` posizionato nella cartella `src` abbiamo creato una mappa (`dict` in Python) le cui chiavi sono le domande e i valori gli ambiti e i processi corrispondenti. Dopo averlo importato nel notebook corrente, abbiamo estratto i distinti ambiti e processi per poi calcolarne il numero di domande che caratterizzano."
   ]
  },
  {
   "cell_type": "code",
   "execution_count": 20,
   "metadata": {},
   "outputs": [],
   "source": [
    "list_ambiti_processi = [AP for val in MAPPING_DOMANDE_AMBITI_PROCESSI.values() for AP in val]\n",
    "ambiti_processi = set(list_ambiti_processi)\n",
    "conteggio_ambiti_processi = {AP: list_ambiti_processi.count(AP) for AP in ambiti_processi}   "
   ]
  },
  {
   "cell_type": "markdown",
   "metadata": {},
   "source": [
    "Abbiamo proceduto con l'aggiungere al dataset originale colonne recanti il nome degli ambiti e processi, inizializzate a 0 per tutte le righe."
   ]
  },
  {
   "cell_type": "code",
   "execution_count": null,
   "metadata": {},
   "outputs": [],
   "source": [
    "\"\"\"\n",
    "Eseguire per: analisi dataset\n",
    "\"\"\"\n",
    "dataset_with_ambiti_processi = cleaned_original_dataset.copy()\n",
    "for AP in ambiti_processi:\n",
    "    dataset_with_ambiti_processi[AP] = 0.0"
   ]
  },
  {
   "cell_type": "markdown",
   "metadata": {},
   "source": [
    "Col codice seguente, ogni studente sarà caratterizzato da un valore per ogni ambito e processo corrispondente alla proporzione di domande che vi si riferivano e a cui ha risposto correttamente: ad esempio, nel caso un processo `x` vada a caratterizzare 10 domande e lo studente risponda correttamente a 5 di queste ultime, allora il valore che quello studente presenterà sotto il processo `x` sarà pari a 5/10 = 0.5."
   ]
  },
  {
   "cell_type": "code",
   "execution_count": null,
   "metadata": {},
   "outputs": [],
   "source": [
    "\"\"\"\n",
    "Eseguire per: rimozione feature sulle domande e aggiunta feature sugli ambiti e processi\n",
    "\"\"\"\n",
    "questions_columns = [col for col in list(cleaned_original_dataset) if re.search(\"^D\\d\", col)]\n",
    "\n",
    "for i, row in dataset_with_ambiti_processi.iterrows():\n",
    "    for question, APs in MAPPING_DOMANDE_AMBITI_PROCESSI.items():\n",
    "        if row[question] is True:   # se ha risposto correttamente\n",
    "            for AP in APs:\n",
    "                dataset_with_ambiti_processi.at[i, AP] += 1 / conteggio_ambiti_processi[AP]\n",
    "\n",
    "dataset_ap = dataset_with_ambiti_processi.drop(questions_columns, axis=1)\n",
    "\n",
    "dataset_ap.to_csv(cfg.CLEANED_DATASET_WITH_AP)"
   ]
  },
  {
   "cell_type": "code",
   "execution_count": 21,
   "metadata": {},
   "outputs": [],
   "source": [
    "\"\"\"\n",
    "Eseguire per: rimozione feature sulle domande e aggiunta feature sugli ambiti e processi\n",
    "Attenzione: inutile eseguire se si è eseguita la precedente cella.\n",
    "\"\"\"\n",
    "dataset_ap = pd.read_csv(cfg.CLEANED_DATASET_WITH_AP)"
   ]
  },
  {
   "cell_type": "code",
   "execution_count": 22,
   "metadata": {},
   "outputs": [],
   "source": [
    "if \"Unnamed: 0\" in dataset_ap.columns:\n",
    "    dataset_ap.drop(\"Unnamed: 0\", axis=1, inplace=True)"
   ]
  },
  {
   "cell_type": "markdown",
   "metadata": {},
   "source": [
    "## 2.6 - Analisi della correlazione fra feature"
   ]
  },
  {
   "cell_type": "code",
   "execution_count": null,
   "metadata": {},
   "outputs": [],
   "source": [
    "corr_matrix = dataset_ap.corr(method='pearson').round(2)\n",
    "corr_matrix.style.background_gradient(cmap='YlOrRd')"
   ]
  },
  {
   "cell_type": "markdown",
   "metadata": {},
   "source": [
    "Emerge un'alta correlazione, 0.87, tra i voti della stessa materia, come prevedibile, mentre una correlazione abbastanza alta tra materie differenti, 0.75. La correlazione pari a 1.0 tra `pu_ma_gr` e `pu_ma_no` si spiega considerando che la seconda è la normalizzazione del valore della prima, per cui portano esattamente la stessa informazione.\n",
    "\n",
    "Abbiamo ritenuto interessante indagare la correlazione sussistente tra i voti agli scritti e agli orali, i punteggi finali ottenuti al test e gli ambiti e i processi: abbiamo previsto solo valori positivi di correlazione, in quanto a voti maggiori, corrispondono punteggi finali maggiori, come anche per i processi e ambiti. Per quanto riguarda invece la correlazione fra gli attributi `LIVELLI` e `DROPOUT`, ci attendiamo una correlazione negativa forte poiché la seconda contiene informazioni estratte dal valore della prima per mezzo della seguente mappatura:\n",
    "- `LIVELLI` $\\in$ {0, 1, 2, 3, 4, 5};\n",
    "- `DROPOUT` $\\in$ {0, 1};\n",
    "- se il valore contenuto nell'attributo `LIVELLI` è $\\leq$ 2 allora quello in `DROPOUT` è 1 (`True`), `0` (`False`) altrimenti."
   ]
  },
  {
   "cell_type": "code",
   "execution_count": 24,
   "metadata": {},
   "outputs": [],
   "source": [
    "interesting_to_check_if_correlated_columns = [\n",
    "    # Alta correlazione fra voti della stessa materia, abbastanza correlate fra materie diverse\n",
    "    \"voto_scritto_ita\",\n",
    "    \"voto_orale_ita\",\n",
    "    \"voto_scritto_mat\",\n",
    "    \"voto_orale_mat\",\n",
    "    # Correlazione totale, abbastanza correlate con voti\n",
    "    \"pu_ma_no\",\n",
    "    # Target columns\n",
    "    \"LIVELLI\",\n",
    "    \"DROPOUT\"\n",
    "] + list(ambiti_processi)"
   ]
  },
  {
   "cell_type": "code",
   "execution_count": 31,
   "metadata": {},
   "outputs": [
    {
     "data": {
      "text/html": [
       "<style type=\"text/css\">\n",
       "#T_a6399_row0_col0, #T_a6399_row1_col1, #T_a6399_row2_col2, #T_a6399_row3_col3, #T_a6399_row4_col4, #T_a6399_row5_col5, #T_a6399_row6_col6, #T_a6399_row7_col7, #T_a6399_row8_col8, #T_a6399_row9_col9, #T_a6399_row10_col10, #T_a6399_row11_col11, #T_a6399_row12_col12, #T_a6399_row13_col13, #T_a6399_row14_col14, #T_a6399_row15_col15, #T_a6399_row16_col16, #T_a6399_row17_col17, #T_a6399_row18_col18 {\n",
       "  background-color: #800026;\n",
       "  color: #f1f1f1;\n",
       "}\n",
       "#T_a6399_row0_col1, #T_a6399_row8_col14, #T_a6399_row14_col8 {\n",
       "  background-color: #ae0026;\n",
       "  color: #f1f1f1;\n",
       "}\n",
       "#T_a6399_row0_col2, #T_a6399_row13_col17 {\n",
       "  background-color: #ce0c22;\n",
       "  color: #f1f1f1;\n",
       "}\n",
       "#T_a6399_row0_col3, #T_a6399_row9_col4 {\n",
       "  background-color: #df171d;\n",
       "  color: #f1f1f1;\n",
       "}\n",
       "#T_a6399_row0_col4, #T_a6399_row9_col13, #T_a6399_row10_col12, #T_a6399_row17_col5 {\n",
       "  background-color: #fc592d;\n",
       "  color: #f1f1f1;\n",
       "}\n",
       "#T_a6399_row0_col5, #T_a6399_row10_col11, #T_a6399_row11_col8, #T_a6399_row16_col5 {\n",
       "  background-color: #f54026;\n",
       "  color: #f1f1f1;\n",
       "}\n",
       "#T_a6399_row0_col6 {\n",
       "  background-color: #fecc68;\n",
       "  color: #000000;\n",
       "}\n",
       "#T_a6399_row0_col7 {\n",
       "  background-color: #fece6a;\n",
       "  color: #000000;\n",
       "}\n",
       "#T_a6399_row0_col8, #T_a6399_row3_col12, #T_a6399_row5_col0, #T_a6399_row10_col15, #T_a6399_row15_col2, #T_a6399_row17_col18 {\n",
       "  background-color: #fd8439;\n",
       "  color: #f1f1f1;\n",
       "}\n",
       "#T_a6399_row0_col9, #T_a6399_row15_col1, #T_a6399_row16_col1 {\n",
       "  background-color: #fd9841;\n",
       "  color: #000000;\n",
       "}\n",
       "#T_a6399_row0_col10, #T_a6399_row0_col14, #T_a6399_row4_col7, #T_a6399_row8_col1, #T_a6399_row12_col9, #T_a6399_row14_col1 {\n",
       "  background-color: #fd863a;\n",
       "  color: #f1f1f1;\n",
       "}\n",
       "#T_a6399_row0_col11, #T_a6399_row1_col13, #T_a6399_row1_col14, #T_a6399_row3_col9, #T_a6399_row5_col9, #T_a6399_row10_col1, #T_a6399_row13_col1 {\n",
       "  background-color: #fd8239;\n",
       "  color: #f1f1f1;\n",
       "}\n",
       "#T_a6399_row0_col12, #T_a6399_row2_col15, #T_a6399_row12_col15 {\n",
       "  background-color: #fd9c42;\n",
       "  color: #000000;\n",
       "}\n",
       "#T_a6399_row0_col13, #T_a6399_row2_col9, #T_a6399_row16_col9, #T_a6399_row17_col10, #T_a6399_row17_col11 {\n",
       "  background-color: #fd8a3b;\n",
       "  color: #f1f1f1;\n",
       "}\n",
       "#T_a6399_row0_col15 {\n",
       "  background-color: #feab49;\n",
       "  color: #000000;\n",
       "}\n",
       "#T_a6399_row0_col16, #T_a6399_row5_col15, #T_a6399_row17_col12 {\n",
       "  background-color: #fea245;\n",
       "  color: #000000;\n",
       "}\n",
       "#T_a6399_row0_col17, #T_a6399_row5_col7, #T_a6399_row16_col7 {\n",
       "  background-color: #feb953;\n",
       "  color: #000000;\n",
       "}\n",
       "#T_a6399_row0_col18 {\n",
       "  background-color: #fd7c37;\n",
       "  color: #f1f1f1;\n",
       "}\n",
       "#T_a6399_row1_col0 {\n",
       "  background-color: #b00026;\n",
       "  color: #f1f1f1;\n",
       "}\n",
       "#T_a6399_row1_col2 {\n",
       "  background-color: #e31a1c;\n",
       "  color: #f1f1f1;\n",
       "}\n",
       "#T_a6399_row1_col3 {\n",
       "  background-color: #d30f20;\n",
       "  color: #f1f1f1;\n",
       "}\n",
       "#T_a6399_row1_col4, #T_a6399_row9_col11, #T_a6399_row16_col18 {\n",
       "  background-color: #fc512b;\n",
       "  color: #f1f1f1;\n",
       "}\n",
       "#T_a6399_row1_col5 {\n",
       "  background-color: #f23924;\n",
       "  color: #f1f1f1;\n",
       "}\n",
       "#T_a6399_row1_col6, #T_a6399_row11_col6, #T_a6399_row13_col6 {\n",
       "  background-color: #fed16e;\n",
       "  color: #000000;\n",
       "}\n",
       "#T_a6399_row1_col7 {\n",
       "  background-color: #fecb67;\n",
       "  color: #000000;\n",
       "}\n",
       "#T_a6399_row1_col8, #T_a6399_row15_col16, #T_a6399_row16_col2, #T_a6399_row18_col15 {\n",
       "  background-color: #fd8038;\n",
       "  color: #f1f1f1;\n",
       "}\n",
       "#T_a6399_row1_col9, #T_a6399_row12_col1 {\n",
       "  background-color: #fd933f;\n",
       "  color: #000000;\n",
       "}\n",
       "#T_a6399_row1_col10, #T_a6399_row1_col11, #T_a6399_row11_col1, #T_a6399_row18_col1 {\n",
       "  background-color: #fd7e38;\n",
       "  color: #f1f1f1;\n",
       "}\n",
       "#T_a6399_row1_col12, #T_a6399_row3_col15, #T_a6399_row7_col8, #T_a6399_row7_col18, #T_a6399_row9_col15, #T_a6399_row12_col0, #T_a6399_row17_col16 {\n",
       "  background-color: #fd9941;\n",
       "  color: #000000;\n",
       "}\n",
       "#T_a6399_row1_col15 {\n",
       "  background-color: #fea848;\n",
       "  color: #000000;\n",
       "}\n",
       "#T_a6399_row1_col16, #T_a6399_row15_col0 {\n",
       "  background-color: #fd9e43;\n",
       "  color: #000000;\n",
       "}\n",
       "#T_a6399_row1_col17 {\n",
       "  background-color: #feb54f;\n",
       "  color: #000000;\n",
       "}\n",
       "#T_a6399_row1_col18, #T_a6399_row9_col2, #T_a6399_row12_col2 {\n",
       "  background-color: #fd7836;\n",
       "  color: #f1f1f1;\n",
       "}\n",
       "#T_a6399_row2_col0, #T_a6399_row9_col10 {\n",
       "  background-color: #d00d21;\n",
       "  color: #f1f1f1;\n",
       "}\n",
       "#T_a6399_row2_col1, #T_a6399_row3_col0, #T_a6399_row3_col5, #T_a6399_row4_col9 {\n",
       "  background-color: #e51e1d;\n",
       "  color: #f1f1f1;\n",
       "}\n",
       "#T_a6399_row2_col3 {\n",
       "  background-color: #a80026;\n",
       "  color: #f1f1f1;\n",
       "}\n",
       "#T_a6399_row2_col4, #T_a6399_row5_col3, #T_a6399_row9_col5, #T_a6399_row14_col18 {\n",
       "  background-color: #f43d25;\n",
       "  color: #f1f1f1;\n",
       "}\n",
       "#T_a6399_row2_col5 {\n",
       "  background-color: #e9261f;\n",
       "  color: #f1f1f1;\n",
       "}\n",
       "#T_a6399_row2_col6 {\n",
       "  background-color: #fed977;\n",
       "  color: #000000;\n",
       "}\n",
       "#T_a6399_row2_col7 {\n",
       "  background-color: #fec45f;\n",
       "  color: #000000;\n",
       "}\n",
       "#T_a6399_row2_col8, #T_a6399_row9_col8, #T_a6399_row14_col2 {\n",
       "  background-color: #fd6e33;\n",
       "  color: #f1f1f1;\n",
       "}\n",
       "#T_a6399_row2_col10, #T_a6399_row4_col0, #T_a6399_row9_col14, #T_a6399_row14_col16, #T_a6399_row15_col10, #T_a6399_row18_col12 {\n",
       "  background-color: #fc6c33;\n",
       "  color: #f1f1f1;\n",
       "}\n",
       "#T_a6399_row2_col11, #T_a6399_row2_col18, #T_a6399_row3_col13, #T_a6399_row5_col11, #T_a6399_row7_col5, #T_a6399_row13_col2 {\n",
       "  background-color: #fc6330;\n",
       "  color: #f1f1f1;\n",
       "}\n",
       "#T_a6399_row2_col12, #T_a6399_row3_col16, #T_a6399_row5_col12, #T_a6399_row8_col15, #T_a6399_row9_col16, #T_a6399_row14_col15, #T_a6399_row16_col15, #T_a6399_row17_col3, #T_a6399_row17_col14 {\n",
       "  background-color: #fd8c3c;\n",
       "  color: #f1f1f1;\n",
       "}\n",
       "#T_a6399_row2_col13, #T_a6399_row8_col2, #T_a6399_row9_col3, #T_a6399_row12_col3, #T_a6399_row12_col13 {\n",
       "  background-color: #fc6a32;\n",
       "  color: #f1f1f1;\n",
       "}\n",
       "#T_a6399_row2_col14, #T_a6399_row5_col1, #T_a6399_row15_col14, #T_a6399_row16_col3, #T_a6399_row18_col9 {\n",
       "  background-color: #fd7234;\n",
       "  color: #f1f1f1;\n",
       "}\n",
       "#T_a6399_row2_col16 {\n",
       "  background-color: #fd903d;\n",
       "  color: #000000;\n",
       "}\n",
       "#T_a6399_row2_col17, #T_a6399_row5_col17, #T_a6399_row9_col17 {\n",
       "  background-color: #feac49;\n",
       "  color: #000000;\n",
       "}\n",
       "#T_a6399_row3_col1 {\n",
       "  background-color: #d6111f;\n",
       "  color: #f1f1f1;\n",
       "}\n",
       "#T_a6399_row3_col2 {\n",
       "  background-color: #aa0026;\n",
       "  color: #f1f1f1;\n",
       "}\n",
       "#T_a6399_row3_col4, #T_a6399_row4_col15, #T_a6399_row5_col4 {\n",
       "  background-color: #ef3323;\n",
       "  color: #f1f1f1;\n",
       "}\n",
       "#T_a6399_row3_col6 {\n",
       "  background-color: #fedd7e;\n",
       "  color: #000000;\n",
       "}\n",
       "#T_a6399_row3_col7, #T_a6399_row12_col7, #T_a6399_row15_col7 {\n",
       "  background-color: #fec15d;\n",
       "  color: #000000;\n",
       "}\n",
       "#T_a6399_row3_col8, #T_a6399_row5_col13, #T_a6399_row9_col18, #T_a6399_row10_col2, #T_a6399_row15_col18 {\n",
       "  background-color: #fc6631;\n",
       "  color: #f1f1f1;\n",
       "}\n",
       "#T_a6399_row3_col10, #T_a6399_row4_col1, #T_a6399_row5_col10, #T_a6399_row5_col14, #T_a6399_row16_col14 {\n",
       "  background-color: #fc612f;\n",
       "  color: #f1f1f1;\n",
       "}\n",
       "#T_a6399_row3_col11, #T_a6399_row7_col4, #T_a6399_row8_col3, #T_a6399_row11_col2, #T_a6399_row14_col3, #T_a6399_row16_col10, #T_a6399_row18_col16 {\n",
       "  background-color: #fc5d2e;\n",
       "  color: #f1f1f1;\n",
       "}\n",
       "#T_a6399_row3_col14, #T_a6399_row8_col12, #T_a6399_row8_col16, #T_a6399_row10_col16, #T_a6399_row12_col14 {\n",
       "  background-color: #fc6832;\n",
       "  color: #f1f1f1;\n",
       "}\n",
       "#T_a6399_row3_col17, #T_a6399_row15_col17 {\n",
       "  background-color: #fea747;\n",
       "  color: #000000;\n",
       "}\n",
       "#T_a6399_row3_col18, #T_a6399_row12_col8, #T_a6399_row13_col15, #T_a6399_row16_col8 {\n",
       "  background-color: #fc5b2e;\n",
       "  color: #f1f1f1;\n",
       "}\n",
       "#T_a6399_row4_col2, #T_a6399_row10_col7, #T_a6399_row12_col5 {\n",
       "  background-color: #f64227;\n",
       "  color: #f1f1f1;\n",
       "}\n",
       "#T_a6399_row4_col3 {\n",
       "  background-color: #f03523;\n",
       "  color: #f1f1f1;\n",
       "}\n",
       "#T_a6399_row4_col5 {\n",
       "  background-color: #e1191d;\n",
       "  color: #f1f1f1;\n",
       "}\n",
       "#T_a6399_row4_col6 {\n",
       "  background-color: #fede80;\n",
       "  color: #000000;\n",
       "}\n",
       "#T_a6399_row4_col8 {\n",
       "  background-color: #cb0a22;\n",
       "  color: #f1f1f1;\n",
       "}\n",
       "#T_a6399_row4_col10 {\n",
       "  background-color: #c30424;\n",
       "  color: #f1f1f1;\n",
       "}\n",
       "#T_a6399_row4_col11 {\n",
       "  background-color: #bd0026;\n",
       "  color: #f1f1f1;\n",
       "}\n",
       "#T_a6399_row4_col12 {\n",
       "  background-color: #e2191c;\n",
       "  color: #f1f1f1;\n",
       "}\n",
       "#T_a6399_row4_col13 {\n",
       "  background-color: #c40524;\n",
       "  color: #f1f1f1;\n",
       "}\n",
       "#T_a6399_row4_col14 {\n",
       "  background-color: #cd0b22;\n",
       "  color: #f1f1f1;\n",
       "}\n",
       "#T_a6399_row4_col16, #T_a6399_row8_col18, #T_a6399_row18_col8 {\n",
       "  background-color: #e41c1d;\n",
       "  color: #f1f1f1;\n",
       "}\n",
       "#T_a6399_row4_col17, #T_a6399_row8_col10, #T_a6399_row11_col14, #T_a6399_row13_col10 {\n",
       "  background-color: #f84528;\n",
       "  color: #f1f1f1;\n",
       "}\n",
       "#T_a6399_row4_col18, #T_a6399_row8_col4, #T_a6399_row14_col4, #T_a6399_row17_col13 {\n",
       "  background-color: #c90823;\n",
       "  color: #f1f1f1;\n",
       "}\n",
       "#T_a6399_row5_col2, #T_a6399_row8_col13, #T_a6399_row12_col10 {\n",
       "  background-color: #fc4d2a;\n",
       "  color: #f1f1f1;\n",
       "}\n",
       "#T_a6399_row5_col6, #T_a6399_row6_col0, #T_a6399_row6_col1, #T_a6399_row6_col2, #T_a6399_row6_col3, #T_a6399_row6_col4, #T_a6399_row6_col5, #T_a6399_row6_col7, #T_a6399_row6_col8, #T_a6399_row6_col9, #T_a6399_row6_col10, #T_a6399_row6_col11, #T_a6399_row6_col12, #T_a6399_row6_col13, #T_a6399_row6_col14, #T_a6399_row6_col15, #T_a6399_row6_col16, #T_a6399_row6_col17, #T_a6399_row6_col18 {\n",
       "  background-color: #ffffcc;\n",
       "  color: #000000;\n",
       "}\n",
       "#T_a6399_row5_col8, #T_a6399_row5_col18, #T_a6399_row12_col18, #T_a6399_row13_col9, #T_a6399_row18_col2 {\n",
       "  background-color: #fc5f2f;\n",
       "  color: #f1f1f1;\n",
       "}\n",
       "#T_a6399_row5_col16, #T_a6399_row9_col12, #T_a6399_row11_col0, #T_a6399_row12_col16, #T_a6399_row16_col12, #T_a6399_row17_col8, #T_a6399_row18_col0 {\n",
       "  background-color: #fd883b;\n",
       "  color: #f1f1f1;\n",
       "}\n",
       "#T_a6399_row7_col0 {\n",
       "  background-color: #feba55;\n",
       "  color: #000000;\n",
       "}\n",
       "#T_a6399_row7_col1 {\n",
       "  background-color: #feb34d;\n",
       "  color: #000000;\n",
       "}\n",
       "#T_a6399_row7_col2 {\n",
       "  background-color: #fea647;\n",
       "  color: #000000;\n",
       "}\n",
       "#T_a6399_row7_col3, #T_a6399_row7_col13, #T_a6399_row14_col17, #T_a6399_row17_col9 {\n",
       "  background-color: #fd9f44;\n",
       "  color: #000000;\n",
       "}\n",
       "#T_a6399_row7_col6 {\n",
       "  background-color: #feb852;\n",
       "  color: #000000;\n",
       "}\n",
       "#T_a6399_row7_col9 {\n",
       "  background-color: #fead4a;\n",
       "  color: #000000;\n",
       "}\n",
       "#T_a6399_row7_col10, #T_a6399_row8_col5, #T_a6399_row10_col5, #T_a6399_row11_col5, #T_a6399_row14_col5, #T_a6399_row18_col5 {\n",
       "  background-color: #ed3022;\n",
       "  color: #f1f1f1;\n",
       "}\n",
       "#T_a6399_row7_col11, #T_a6399_row8_col17, #T_a6399_row10_col17 {\n",
       "  background-color: #fd9d43;\n",
       "  color: #000000;\n",
       "}\n",
       "#T_a6399_row7_col12 {\n",
       "  background-color: #feb04b;\n",
       "  color: #000000;\n",
       "}\n",
       "#T_a6399_row7_col14, #T_a6399_row11_col17, #T_a6399_row18_col17 {\n",
       "  background-color: #fd9a42;\n",
       "  color: #000000;\n",
       "}\n",
       "#T_a6399_row7_col15, #T_a6399_row17_col6 {\n",
       "  background-color: #febb56;\n",
       "  color: #000000;\n",
       "}\n",
       "#T_a6399_row7_col16, #T_a6399_row17_col0 {\n",
       "  background-color: #fea948;\n",
       "  color: #000000;\n",
       "}\n",
       "#T_a6399_row7_col17 {\n",
       "  background-color: #fec561;\n",
       "  color: #000000;\n",
       "}\n",
       "#T_a6399_row8_col0, #T_a6399_row10_col0, #T_a6399_row13_col0, #T_a6399_row14_col0 {\n",
       "  background-color: #fd8e3c;\n",
       "  color: #f1f1f1;\n",
       "}\n",
       "#T_a6399_row8_col6, #T_a6399_row18_col6 {\n",
       "  background-color: #fed673;\n",
       "  color: #000000;\n",
       "}\n",
       "#T_a6399_row8_col7, #T_a6399_row11_col7, #T_a6399_row14_col7, #T_a6399_row18_col7 {\n",
       "  background-color: #feb24c;\n",
       "  color: #000000;\n",
       "}\n",
       "#T_a6399_row8_col9, #T_a6399_row15_col3 {\n",
       "  background-color: #fd7a37;\n",
       "  color: #f1f1f1;\n",
       "}\n",
       "#T_a6399_row8_col11, #T_a6399_row10_col8, #T_a6399_row11_col13, #T_a6399_row13_col11 {\n",
       "  background-color: #f74327;\n",
       "  color: #f1f1f1;\n",
       "}\n",
       "#T_a6399_row9_col0 {\n",
       "  background-color: #fd9740;\n",
       "  color: #000000;\n",
       "}\n",
       "#T_a6399_row9_col1, #T_a6399_row15_col9 {\n",
       "  background-color: #fd8f3d;\n",
       "  color: #f1f1f1;\n",
       "}\n",
       "#T_a6399_row9_col6 {\n",
       "  background-color: #feca66;\n",
       "  color: #000000;\n",
       "}\n",
       "#T_a6399_row9_col7 {\n",
       "  background-color: #febe59;\n",
       "  color: #000000;\n",
       "}\n",
       "#T_a6399_row10_col3, #T_a6399_row11_col9, #T_a6399_row13_col3 {\n",
       "  background-color: #fc572c;\n",
       "  color: #f1f1f1;\n",
       "}\n",
       "#T_a6399_row10_col4, #T_a6399_row13_col4 {\n",
       "  background-color: #c10325;\n",
       "  color: #f1f1f1;\n",
       "}\n",
       "#T_a6399_row10_col6, #T_a6399_row14_col6 {\n",
       "  background-color: #fed572;\n",
       "  color: #000000;\n",
       "}\n",
       "#T_a6399_row10_col9 {\n",
       "  background-color: #d41020;\n",
       "  color: #f1f1f1;\n",
       "}\n",
       "#T_a6399_row10_col13, #T_a6399_row14_col11 {\n",
       "  background-color: #f84628;\n",
       "  color: #f1f1f1;\n",
       "}\n",
       "#T_a6399_row10_col14, #T_a6399_row11_col18, #T_a6399_row14_col10 {\n",
       "  background-color: #e7231e;\n",
       "  color: #f1f1f1;\n",
       "}\n",
       "#T_a6399_row10_col18, #T_a6399_row18_col10 {\n",
       "  background-color: #f33b25;\n",
       "  color: #f1f1f1;\n",
       "}\n",
       "#T_a6399_row11_col3, #T_a6399_row15_col5 {\n",
       "  background-color: #fc4f2a;\n",
       "  color: #f1f1f1;\n",
       "}\n",
       "#T_a6399_row11_col4 {\n",
       "  background-color: #b90026;\n",
       "  color: #f1f1f1;\n",
       "}\n",
       "#T_a6399_row11_col10, #T_a6399_row18_col14 {\n",
       "  background-color: #f43e26;\n",
       "  color: #f1f1f1;\n",
       "}\n",
       "#T_a6399_row11_col12 {\n",
       "  background-color: #c80723;\n",
       "  color: #f1f1f1;\n",
       "}\n",
       "#T_a6399_row11_col15, #T_a6399_row11_col16 {\n",
       "  background-color: #ec2c21;\n",
       "  color: #f1f1f1;\n",
       "}\n",
       "#T_a6399_row12_col4 {\n",
       "  background-color: #da141e;\n",
       "  color: #f1f1f1;\n",
       "}\n",
       "#T_a6399_row12_col6, #T_a6399_row16_col6, #T_a6399_row17_col7 {\n",
       "  background-color: #fec965;\n",
       "  color: #000000;\n",
       "}\n",
       "#T_a6399_row12_col11, #T_a6399_row18_col4 {\n",
       "  background-color: #c70723;\n",
       "  color: #f1f1f1;\n",
       "}\n",
       "#T_a6399_row12_col17 {\n",
       "  background-color: #feae4a;\n",
       "  color: #000000;\n",
       "}\n",
       "#T_a6399_row13_col5, #T_a6399_row16_col13 {\n",
       "  background-color: #ee3122;\n",
       "  color: #f1f1f1;\n",
       "}\n",
       "#T_a6399_row13_col7 {\n",
       "  background-color: #feb44e;\n",
       "  color: #000000;\n",
       "}\n",
       "#T_a6399_row13_col8, #T_a6399_row14_col13, #T_a6399_row15_col13 {\n",
       "  background-color: #fa4a29;\n",
       "  color: #f1f1f1;\n",
       "}\n",
       "#T_a6399_row13_col12, #T_a6399_row14_col12 {\n",
       "  background-color: #fd7435;\n",
       "  color: #f1f1f1;\n",
       "}\n",
       "#T_a6399_row13_col14 {\n",
       "  background-color: #f94828;\n",
       "  color: #f1f1f1;\n",
       "}\n",
       "#T_a6399_row13_col16 {\n",
       "  background-color: #f13624;\n",
       "  color: #f1f1f1;\n",
       "}\n",
       "#T_a6399_row13_col18, #T_a6399_row15_col4 {\n",
       "  background-color: #e61f1d;\n",
       "  color: #f1f1f1;\n",
       "}\n",
       "#T_a6399_row14_col9 {\n",
       "  background-color: #fd7636;\n",
       "  color: #f1f1f1;\n",
       "}\n",
       "#T_a6399_row15_col6 {\n",
       "  background-color: #febd57;\n",
       "  color: #000000;\n",
       "}\n",
       "#T_a6399_row15_col8 {\n",
       "  background-color: #fd7034;\n",
       "  color: #f1f1f1;\n",
       "}\n",
       "#T_a6399_row15_col11, #T_a6399_row18_col13 {\n",
       "  background-color: #e6211e;\n",
       "  color: #f1f1f1;\n",
       "}\n",
       "#T_a6399_row15_col12 {\n",
       "  background-color: #fd923e;\n",
       "  color: #000000;\n",
       "}\n",
       "#T_a6399_row16_col0 {\n",
       "  background-color: #fea044;\n",
       "  color: #000000;\n",
       "}\n",
       "#T_a6399_row16_col4 {\n",
       "  background-color: #dc151e;\n",
       "  color: #f1f1f1;\n",
       "}\n",
       "#T_a6399_row16_col11 {\n",
       "  background-color: #e92720;\n",
       "  color: #f1f1f1;\n",
       "}\n",
       "#T_a6399_row16_col17, #T_a6399_row17_col15 {\n",
       "  background-color: #fea546;\n",
       "  color: #000000;\n",
       "}\n",
       "#T_a6399_row17_col1 {\n",
       "  background-color: #fea446;\n",
       "  color: #000000;\n",
       "}\n",
       "#T_a6399_row17_col2 {\n",
       "  background-color: #fd953f;\n",
       "  color: #000000;\n",
       "}\n",
       "#T_a6399_row17_col4 {\n",
       "  background-color: #ed2e21;\n",
       "  color: #f1f1f1;\n",
       "}\n",
       "#T_a6399_row18_col3 {\n",
       "  background-color: #fc532b;\n",
       "  color: #f1f1f1;\n",
       "}\n",
       "#T_a6399_row18_col11 {\n",
       "  background-color: #e8241f;\n",
       "  color: #f1f1f1;\n",
       "}\n",
       "</style>\n",
       "<table id=\"T_a6399_\">\n",
       "  <thead>\n",
       "    <tr>\n",
       "      <th class=\"blank level0\" >&nbsp;</th>\n",
       "      <th class=\"col_heading level0 col0\" >voto_scritto_ita</th>\n",
       "      <th class=\"col_heading level0 col1\" >voto_orale_ita</th>\n",
       "      <th class=\"col_heading level0 col2\" >voto_scritto_mat</th>\n",
       "      <th class=\"col_heading level0 col3\" >voto_orale_mat</th>\n",
       "      <th class=\"col_heading level0 col4\" >pu_ma_no</th>\n",
       "      <th class=\"col_heading level0 col5\" >LIVELLI</th>\n",
       "      <th class=\"col_heading level0 col6\" >DROPOUT</th>\n",
       "      <th class=\"col_heading level0 col7\" >Relazioni e dati</th>\n",
       "      <th class=\"col_heading level0 col8\" >Dati e previsioni</th>\n",
       "      <th class=\"col_heading level0 col9\" >Pensiero matematico</th>\n",
       "      <th class=\"col_heading level0 col10\" >Relazioni e funzioni</th>\n",
       "      <th class=\"col_heading level0 col11\" >Numeri</th>\n",
       "      <th class=\"col_heading level0 col12\" >Contenuti matematica</th>\n",
       "      <th class=\"col_heading level0 col13\" >Spazio figure</th>\n",
       "      <th class=\"col_heading level0 col14\" >Rappresentazione quantitativa</th>\n",
       "      <th class=\"col_heading level0 col15\" >Utilizzo strumenti misura</th>\n",
       "      <th class=\"col_heading level0 col16\" >Risoluzione problemi</th>\n",
       "      <th class=\"col_heading level0 col17\" >Forme nello spazio</th>\n",
       "      <th class=\"col_heading level0 col18\" >Algoritmi e procedure</th>\n",
       "    </tr>\n",
       "  </thead>\n",
       "  <tbody>\n",
       "    <tr>\n",
       "      <th id=\"T_a6399_level0_row0\" class=\"row_heading level0 row0\" >voto_scritto_ita</th>\n",
       "      <td id=\"T_a6399_row0_col0\" class=\"data row0 col0\" >1.000000</td>\n",
       "      <td id=\"T_a6399_row0_col1\" class=\"data row0 col1\" >0.870000</td>\n",
       "      <td id=\"T_a6399_row0_col2\" class=\"data row0 col2\" >0.750000</td>\n",
       "      <td id=\"T_a6399_row0_col3\" class=\"data row0 col3\" >0.660000</td>\n",
       "      <td id=\"T_a6399_row0_col4\" class=\"data row0 col4\" >0.430000</td>\n",
       "      <td id=\"T_a6399_row0_col5\" class=\"data row0 col5\" >0.370000</td>\n",
       "      <td id=\"T_a6399_row0_col6\" class=\"data row0 col6\" >-0.310000</td>\n",
       "      <td id=\"T_a6399_row0_col7\" class=\"data row0 col7\" >0.150000</td>\n",
       "      <td id=\"T_a6399_row0_col8\" class=\"data row0 col8\" >0.340000</td>\n",
       "      <td id=\"T_a6399_row0_col9\" class=\"data row0 col9\" >0.300000</td>\n",
       "      <td id=\"T_a6399_row0_col10\" class=\"data row0 col10\" >0.340000</td>\n",
       "      <td id=\"T_a6399_row0_col11\" class=\"data row0 col11\" >0.360000</td>\n",
       "      <td id=\"T_a6399_row0_col12\" class=\"data row0 col12\" >0.290000</td>\n",
       "      <td id=\"T_a6399_row0_col13\" class=\"data row0 col13\" >0.340000</td>\n",
       "      <td id=\"T_a6399_row0_col14\" class=\"data row0 col14\" >0.340000</td>\n",
       "      <td id=\"T_a6399_row0_col15\" class=\"data row0 col15\" >0.270000</td>\n",
       "      <td id=\"T_a6399_row0_col16\" class=\"data row0 col16\" >0.260000</td>\n",
       "      <td id=\"T_a6399_row0_col17\" class=\"data row0 col17\" >0.220000</td>\n",
       "      <td id=\"T_a6399_row0_col18\" class=\"data row0 col18\" >0.360000</td>\n",
       "    </tr>\n",
       "    <tr>\n",
       "      <th id=\"T_a6399_level0_row1\" class=\"row_heading level0 row1\" >voto_orale_ita</th>\n",
       "      <td id=\"T_a6399_row1_col0\" class=\"data row1 col0\" >0.870000</td>\n",
       "      <td id=\"T_a6399_row1_col1\" class=\"data row1 col1\" >1.000000</td>\n",
       "      <td id=\"T_a6399_row1_col2\" class=\"data row1 col2\" >0.650000</td>\n",
       "      <td id=\"T_a6399_row1_col3\" class=\"data row1 col3\" >0.720000</td>\n",
       "      <td id=\"T_a6399_row1_col4\" class=\"data row1 col4\" >0.450000</td>\n",
       "      <td id=\"T_a6399_row1_col5\" class=\"data row1 col5\" >0.400000</td>\n",
       "      <td id=\"T_a6399_row1_col6\" class=\"data row1 col6\" >-0.340000</td>\n",
       "      <td id=\"T_a6399_row1_col7\" class=\"data row1 col7\" >0.160000</td>\n",
       "      <td id=\"T_a6399_row1_col8\" class=\"data row1 col8\" >0.350000</td>\n",
       "      <td id=\"T_a6399_row1_col9\" class=\"data row1 col9\" >0.320000</td>\n",
       "      <td id=\"T_a6399_row1_col10\" class=\"data row1 col10\" >0.360000</td>\n",
       "      <td id=\"T_a6399_row1_col11\" class=\"data row1 col11\" >0.370000</td>\n",
       "      <td id=\"T_a6399_row1_col12\" class=\"data row1 col12\" >0.300000</td>\n",
       "      <td id=\"T_a6399_row1_col13\" class=\"data row1 col13\" >0.360000</td>\n",
       "      <td id=\"T_a6399_row1_col14\" class=\"data row1 col14\" >0.350000</td>\n",
       "      <td id=\"T_a6399_row1_col15\" class=\"data row1 col15\" >0.280000</td>\n",
       "      <td id=\"T_a6399_row1_col16\" class=\"data row1 col16\" >0.280000</td>\n",
       "      <td id=\"T_a6399_row1_col17\" class=\"data row1 col17\" >0.230000</td>\n",
       "      <td id=\"T_a6399_row1_col18\" class=\"data row1 col18\" >0.370000</td>\n",
       "    </tr>\n",
       "    <tr>\n",
       "      <th id=\"T_a6399_level0_row2\" class=\"row_heading level0 row2\" >voto_scritto_mat</th>\n",
       "      <td id=\"T_a6399_row2_col0\" class=\"data row2 col0\" >0.750000</td>\n",
       "      <td id=\"T_a6399_row2_col1\" class=\"data row2 col1\" >0.650000</td>\n",
       "      <td id=\"T_a6399_row2_col2\" class=\"data row2 col2\" >1.000000</td>\n",
       "      <td id=\"T_a6399_row2_col3\" class=\"data row2 col3\" >0.880000</td>\n",
       "      <td id=\"T_a6399_row2_col4\" class=\"data row2 col4\" >0.520000</td>\n",
       "      <td id=\"T_a6399_row2_col5\" class=\"data row2 col5\" >0.480000</td>\n",
       "      <td id=\"T_a6399_row2_col6\" class=\"data row2 col6\" >-0.390000</td>\n",
       "      <td id=\"T_a6399_row2_col7\" class=\"data row2 col7\" >0.190000</td>\n",
       "      <td id=\"T_a6399_row2_col8\" class=\"data row2 col8\" >0.400000</td>\n",
       "      <td id=\"T_a6399_row2_col9\" class=\"data row2 col9\" >0.360000</td>\n",
       "      <td id=\"T_a6399_row2_col10\" class=\"data row2 col10\" >0.410000</td>\n",
       "      <td id=\"T_a6399_row2_col11\" class=\"data row2 col11\" >0.440000</td>\n",
       "      <td id=\"T_a6399_row2_col12\" class=\"data row2 col12\" >0.360000</td>\n",
       "      <td id=\"T_a6399_row2_col13\" class=\"data row2 col13\" >0.420000</td>\n",
       "      <td id=\"T_a6399_row2_col14\" class=\"data row2 col14\" >0.390000</td>\n",
       "      <td id=\"T_a6399_row2_col15\" class=\"data row2 col15\" >0.330000</td>\n",
       "      <td id=\"T_a6399_row2_col16\" class=\"data row2 col16\" >0.340000</td>\n",
       "      <td id=\"T_a6399_row2_col17\" class=\"data row2 col17\" >0.270000</td>\n",
       "      <td id=\"T_a6399_row2_col18\" class=\"data row2 col18\" >0.430000</td>\n",
       "    </tr>\n",
       "    <tr>\n",
       "      <th id=\"T_a6399_level0_row3\" class=\"row_heading level0 row3\" >voto_orale_mat</th>\n",
       "      <td id=\"T_a6399_row3_col0\" class=\"data row3 col0\" >0.660000</td>\n",
       "      <td id=\"T_a6399_row3_col1\" class=\"data row3 col1\" >0.720000</td>\n",
       "      <td id=\"T_a6399_row3_col2\" class=\"data row3 col2\" >0.880000</td>\n",
       "      <td id=\"T_a6399_row3_col3\" class=\"data row3 col3\" >1.000000</td>\n",
       "      <td id=\"T_a6399_row3_col4\" class=\"data row3 col4\" >0.550000</td>\n",
       "      <td id=\"T_a6399_row3_col5\" class=\"data row3 col5\" >0.520000</td>\n",
       "      <td id=\"T_a6399_row3_col6\" class=\"data row3 col6\" >-0.430000</td>\n",
       "      <td id=\"T_a6399_row3_col7\" class=\"data row3 col7\" >0.200000</td>\n",
       "      <td id=\"T_a6399_row3_col8\" class=\"data row3 col8\" >0.420000</td>\n",
       "      <td id=\"T_a6399_row3_col9\" class=\"data row3 col9\" >0.380000</td>\n",
       "      <td id=\"T_a6399_row3_col10\" class=\"data row3 col10\" >0.440000</td>\n",
       "      <td id=\"T_a6399_row3_col11\" class=\"data row3 col11\" >0.460000</td>\n",
       "      <td id=\"T_a6399_row3_col12\" class=\"data row3 col12\" >0.380000</td>\n",
       "      <td id=\"T_a6399_row3_col13\" class=\"data row3 col13\" >0.440000</td>\n",
       "      <td id=\"T_a6399_row3_col14\" class=\"data row3 col14\" >0.420000</td>\n",
       "      <td id=\"T_a6399_row3_col15\" class=\"data row3 col15\" >0.340000</td>\n",
       "      <td id=\"T_a6399_row3_col16\" class=\"data row3 col16\" >0.360000</td>\n",
       "      <td id=\"T_a6399_row3_col17\" class=\"data row3 col17\" >0.290000</td>\n",
       "      <td id=\"T_a6399_row3_col18\" class=\"data row3 col18\" >0.450000</td>\n",
       "    </tr>\n",
       "    <tr>\n",
       "      <th id=\"T_a6399_level0_row4\" class=\"row_heading level0 row4\" >pu_ma_no</th>\n",
       "      <td id=\"T_a6399_row4_col0\" class=\"data row4 col0\" >0.430000</td>\n",
       "      <td id=\"T_a6399_row4_col1\" class=\"data row4 col1\" >0.450000</td>\n",
       "      <td id=\"T_a6399_row4_col2\" class=\"data row4 col2\" >0.520000</td>\n",
       "      <td id=\"T_a6399_row4_col3\" class=\"data row4 col3\" >0.550000</td>\n",
       "      <td id=\"T_a6399_row4_col4\" class=\"data row4 col4\" >1.000000</td>\n",
       "      <td id=\"T_a6399_row4_col5\" class=\"data row4 col5\" >0.550000</td>\n",
       "      <td id=\"T_a6399_row4_col6\" class=\"data row4 col6\" >-0.440000</td>\n",
       "      <td id=\"T_a6399_row4_col7\" class=\"data row4 col7\" >0.420000</td>\n",
       "      <td id=\"T_a6399_row4_col8\" class=\"data row4 col8\" >0.760000</td>\n",
       "      <td id=\"T_a6399_row4_col9\" class=\"data row4 col9\" >0.660000</td>\n",
       "      <td id=\"T_a6399_row4_col10\" class=\"data row4 col10\" >0.800000</td>\n",
       "      <td id=\"T_a6399_row4_col11\" class=\"data row4 col11\" >0.830000</td>\n",
       "      <td id=\"T_a6399_row4_col12\" class=\"data row4 col12\" >0.680000</td>\n",
       "      <td id=\"T_a6399_row4_col13\" class=\"data row4 col13\" >0.800000</td>\n",
       "      <td id=\"T_a6399_row4_col14\" class=\"data row4 col14\" >0.760000</td>\n",
       "      <td id=\"T_a6399_row4_col15\" class=\"data row4 col15\" >0.620000</td>\n",
       "      <td id=\"T_a6399_row4_col16\" class=\"data row4 col16\" >0.670000</td>\n",
       "      <td id=\"T_a6399_row4_col17\" class=\"data row4 col17\" >0.570000</td>\n",
       "      <td id=\"T_a6399_row4_col18\" class=\"data row4 col18\" >0.770000</td>\n",
       "    </tr>\n",
       "    <tr>\n",
       "      <th id=\"T_a6399_level0_row5\" class=\"row_heading level0 row5\" >LIVELLI</th>\n",
       "      <td id=\"T_a6399_row5_col0\" class=\"data row5 col0\" >0.370000</td>\n",
       "      <td id=\"T_a6399_row5_col1\" class=\"data row5 col1\" >0.400000</td>\n",
       "      <td id=\"T_a6399_row5_col2\" class=\"data row5 col2\" >0.480000</td>\n",
       "      <td id=\"T_a6399_row5_col3\" class=\"data row5 col3\" >0.520000</td>\n",
       "      <td id=\"T_a6399_row5_col4\" class=\"data row5 col4\" >0.550000</td>\n",
       "      <td id=\"T_a6399_row5_col5\" class=\"data row5 col5\" >1.000000</td>\n",
       "      <td id=\"T_a6399_row5_col6\" class=\"data row5 col6\" >-0.850000</td>\n",
       "      <td id=\"T_a6399_row5_col7\" class=\"data row5 col7\" >0.230000</td>\n",
       "      <td id=\"T_a6399_row5_col8\" class=\"data row5 col8\" >0.440000</td>\n",
       "      <td id=\"T_a6399_row5_col9\" class=\"data row5 col9\" >0.380000</td>\n",
       "      <td id=\"T_a6399_row5_col10\" class=\"data row5 col10\" >0.440000</td>\n",
       "      <td id=\"T_a6399_row5_col11\" class=\"data row5 col11\" >0.440000</td>\n",
       "      <td id=\"T_a6399_row5_col12\" class=\"data row5 col12\" >0.360000</td>\n",
       "      <td id=\"T_a6399_row5_col13\" class=\"data row5 col13\" >0.430000</td>\n",
       "      <td id=\"T_a6399_row5_col14\" class=\"data row5 col14\" >0.440000</td>\n",
       "      <td id=\"T_a6399_row5_col15\" class=\"data row5 col15\" >0.300000</td>\n",
       "      <td id=\"T_a6399_row5_col16\" class=\"data row5 col16\" >0.370000</td>\n",
       "      <td id=\"T_a6399_row5_col17\" class=\"data row5 col17\" >0.270000</td>\n",
       "      <td id=\"T_a6399_row5_col18\" class=\"data row5 col18\" >0.440000</td>\n",
       "    </tr>\n",
       "    <tr>\n",
       "      <th id=\"T_a6399_level0_row6\" class=\"row_heading level0 row6\" >DROPOUT</th>\n",
       "      <td id=\"T_a6399_row6_col0\" class=\"data row6 col0\" >-0.310000</td>\n",
       "      <td id=\"T_a6399_row6_col1\" class=\"data row6 col1\" >-0.340000</td>\n",
       "      <td id=\"T_a6399_row6_col2\" class=\"data row6 col2\" >-0.390000</td>\n",
       "      <td id=\"T_a6399_row6_col3\" class=\"data row6 col3\" >-0.430000</td>\n",
       "      <td id=\"T_a6399_row6_col4\" class=\"data row6 col4\" >-0.440000</td>\n",
       "      <td id=\"T_a6399_row6_col5\" class=\"data row6 col5\" >-0.850000</td>\n",
       "      <td id=\"T_a6399_row6_col6\" class=\"data row6 col6\" >1.000000</td>\n",
       "      <td id=\"T_a6399_row6_col7\" class=\"data row6 col7\" >-0.190000</td>\n",
       "      <td id=\"T_a6399_row6_col8\" class=\"data row6 col8\" >-0.370000</td>\n",
       "      <td id=\"T_a6399_row6_col9\" class=\"data row6 col9\" >-0.300000</td>\n",
       "      <td id=\"T_a6399_row6_col10\" class=\"data row6 col10\" >-0.360000</td>\n",
       "      <td id=\"T_a6399_row6_col11\" class=\"data row6 col11\" >-0.340000</td>\n",
       "      <td id=\"T_a6399_row6_col12\" class=\"data row6 col12\" >-0.290000</td>\n",
       "      <td id=\"T_a6399_row6_col13\" class=\"data row6 col13\" >-0.340000</td>\n",
       "      <td id=\"T_a6399_row6_col14\" class=\"data row6 col14\" >-0.360000</td>\n",
       "      <td id=\"T_a6399_row6_col15\" class=\"data row6 col15\" >-0.220000</td>\n",
       "      <td id=\"T_a6399_row6_col16\" class=\"data row6 col16\" >-0.290000</td>\n",
       "      <td id=\"T_a6399_row6_col17\" class=\"data row6 col17\" >-0.210000</td>\n",
       "      <td id=\"T_a6399_row6_col18\" class=\"data row6 col18\" >-0.370000</td>\n",
       "    </tr>\n",
       "    <tr>\n",
       "      <th id=\"T_a6399_level0_row7\" class=\"row_heading level0 row7\" >Relazioni e dati</th>\n",
       "      <td id=\"T_a6399_row7_col0\" class=\"data row7 col0\" >0.150000</td>\n",
       "      <td id=\"T_a6399_row7_col1\" class=\"data row7 col1\" >0.160000</td>\n",
       "      <td id=\"T_a6399_row7_col2\" class=\"data row7 col2\" >0.190000</td>\n",
       "      <td id=\"T_a6399_row7_col3\" class=\"data row7 col3\" >0.200000</td>\n",
       "      <td id=\"T_a6399_row7_col4\" class=\"data row7 col4\" >0.420000</td>\n",
       "      <td id=\"T_a6399_row7_col5\" class=\"data row7 col5\" >0.230000</td>\n",
       "      <td id=\"T_a6399_row7_col6\" class=\"data row7 col6\" >-0.190000</td>\n",
       "      <td id=\"T_a6399_row7_col7\" class=\"data row7 col7\" >1.000000</td>\n",
       "      <td id=\"T_a6399_row7_col8\" class=\"data row7 col8\" >0.260000</td>\n",
       "      <td id=\"T_a6399_row7_col9\" class=\"data row7 col9\" >0.210000</td>\n",
       "      <td id=\"T_a6399_row7_col10\" class=\"data row7 col10\" >0.590000</td>\n",
       "      <td id=\"T_a6399_row7_col11\" class=\"data row7 col11\" >0.260000</td>\n",
       "      <td id=\"T_a6399_row7_col12\" class=\"data row7 col12\" >0.200000</td>\n",
       "      <td id=\"T_a6399_row7_col13\" class=\"data row7 col13\" >0.250000</td>\n",
       "      <td id=\"T_a6399_row7_col14\" class=\"data row7 col14\" >0.260000</td>\n",
       "      <td id=\"T_a6399_row7_col15\" class=\"data row7 col15\" >0.200000</td>\n",
       "      <td id=\"T_a6399_row7_col16\" class=\"data row7 col16\" >0.230000</td>\n",
       "      <td id=\"T_a6399_row7_col17\" class=\"data row7 col17\" >0.170000</td>\n",
       "      <td id=\"T_a6399_row7_col18\" class=\"data row7 col18\" >0.260000</td>\n",
       "    </tr>\n",
       "    <tr>\n",
       "      <th id=\"T_a6399_level0_row8\" class=\"row_heading level0 row8\" >Dati e previsioni</th>\n",
       "      <td id=\"T_a6399_row8_col0\" class=\"data row8 col0\" >0.340000</td>\n",
       "      <td id=\"T_a6399_row8_col1\" class=\"data row8 col1\" >0.350000</td>\n",
       "      <td id=\"T_a6399_row8_col2\" class=\"data row8 col2\" >0.400000</td>\n",
       "      <td id=\"T_a6399_row8_col3\" class=\"data row8 col3\" >0.420000</td>\n",
       "      <td id=\"T_a6399_row8_col4\" class=\"data row8 col4\" >0.760000</td>\n",
       "      <td id=\"T_a6399_row8_col5\" class=\"data row8 col5\" >0.440000</td>\n",
       "      <td id=\"T_a6399_row8_col6\" class=\"data row8 col6\" >-0.370000</td>\n",
       "      <td id=\"T_a6399_row8_col7\" class=\"data row8 col7\" >0.260000</td>\n",
       "      <td id=\"T_a6399_row8_col8\" class=\"data row8 col8\" >1.000000</td>\n",
       "      <td id=\"T_a6399_row8_col9\" class=\"data row8 col9\" >0.400000</td>\n",
       "      <td id=\"T_a6399_row8_col10\" class=\"data row8 col10\" >0.520000</td>\n",
       "      <td id=\"T_a6399_row8_col11\" class=\"data row8 col11\" >0.530000</td>\n",
       "      <td id=\"T_a6399_row8_col12\" class=\"data row8 col12\" >0.450000</td>\n",
       "      <td id=\"T_a6399_row8_col13\" class=\"data row8 col13\" >0.500000</td>\n",
       "      <td id=\"T_a6399_row8_col14\" class=\"data row8 col14\" >0.870000</td>\n",
       "      <td id=\"T_a6399_row8_col15\" class=\"data row8 col15\" >0.390000</td>\n",
       "      <td id=\"T_a6399_row8_col16\" class=\"data row8 col16\" >0.450000</td>\n",
       "      <td id=\"T_a6399_row8_col17\" class=\"data row8 col17\" >0.330000</td>\n",
       "      <td id=\"T_a6399_row8_col18\" class=\"data row8 col18\" >0.650000</td>\n",
       "    </tr>\n",
       "    <tr>\n",
       "      <th id=\"T_a6399_level0_row9\" class=\"row_heading level0 row9\" >Pensiero matematico</th>\n",
       "      <td id=\"T_a6399_row9_col0\" class=\"data row9 col0\" >0.300000</td>\n",
       "      <td id=\"T_a6399_row9_col1\" class=\"data row9 col1\" >0.320000</td>\n",
       "      <td id=\"T_a6399_row9_col2\" class=\"data row9 col2\" >0.360000</td>\n",
       "      <td id=\"T_a6399_row9_col3\" class=\"data row9 col3\" >0.380000</td>\n",
       "      <td id=\"T_a6399_row9_col4\" class=\"data row9 col4\" >0.660000</td>\n",
       "      <td id=\"T_a6399_row9_col5\" class=\"data row9 col5\" >0.380000</td>\n",
       "      <td id=\"T_a6399_row9_col6\" class=\"data row9 col6\" >-0.300000</td>\n",
       "      <td id=\"T_a6399_row9_col7\" class=\"data row9 col7\" >0.210000</td>\n",
       "      <td id=\"T_a6399_row9_col8\" class=\"data row9 col8\" >0.400000</td>\n",
       "      <td id=\"T_a6399_row9_col9\" class=\"data row9 col9\" >1.000000</td>\n",
       "      <td id=\"T_a6399_row9_col10\" class=\"data row9 col10\" >0.740000</td>\n",
       "      <td id=\"T_a6399_row9_col11\" class=\"data row9 col11\" >0.490000</td>\n",
       "      <td id=\"T_a6399_row9_col12\" class=\"data row9 col12\" >0.370000</td>\n",
       "      <td id=\"T_a6399_row9_col13\" class=\"data row9 col13\" >0.470000</td>\n",
       "      <td id=\"T_a6399_row9_col14\" class=\"data row9 col14\" >0.410000</td>\n",
       "      <td id=\"T_a6399_row9_col15\" class=\"data row9 col15\" >0.340000</td>\n",
       "      <td id=\"T_a6399_row9_col16\" class=\"data row9 col16\" >0.360000</td>\n",
       "      <td id=\"T_a6399_row9_col17\" class=\"data row9 col17\" >0.270000</td>\n",
       "      <td id=\"T_a6399_row9_col18\" class=\"data row9 col18\" >0.420000</td>\n",
       "    </tr>\n",
       "    <tr>\n",
       "      <th id=\"T_a6399_level0_row10\" class=\"row_heading level0 row10\" >Relazioni e funzioni</th>\n",
       "      <td id=\"T_a6399_row10_col0\" class=\"data row10 col0\" >0.340000</td>\n",
       "      <td id=\"T_a6399_row10_col1\" class=\"data row10 col1\" >0.360000</td>\n",
       "      <td id=\"T_a6399_row10_col2\" class=\"data row10 col2\" >0.410000</td>\n",
       "      <td id=\"T_a6399_row10_col3\" class=\"data row10 col3\" >0.440000</td>\n",
       "      <td id=\"T_a6399_row10_col4\" class=\"data row10 col4\" >0.800000</td>\n",
       "      <td id=\"T_a6399_row10_col5\" class=\"data row10 col5\" >0.440000</td>\n",
       "      <td id=\"T_a6399_row10_col6\" class=\"data row10 col6\" >-0.360000</td>\n",
       "      <td id=\"T_a6399_row10_col7\" class=\"data row10 col7\" >0.590000</td>\n",
       "      <td id=\"T_a6399_row10_col8\" class=\"data row10 col8\" >0.520000</td>\n",
       "      <td id=\"T_a6399_row10_col9\" class=\"data row10 col9\" >0.740000</td>\n",
       "      <td id=\"T_a6399_row10_col10\" class=\"data row10 col10\" >1.000000</td>\n",
       "      <td id=\"T_a6399_row10_col11\" class=\"data row10 col11\" >0.540000</td>\n",
       "      <td id=\"T_a6399_row10_col12\" class=\"data row10 col12\" >0.490000</td>\n",
       "      <td id=\"T_a6399_row10_col13\" class=\"data row10 col13\" >0.520000</td>\n",
       "      <td id=\"T_a6399_row10_col14\" class=\"data row10 col14\" >0.630000</td>\n",
       "      <td id=\"T_a6399_row10_col15\" class=\"data row10 col15\" >0.410000</td>\n",
       "      <td id=\"T_a6399_row10_col16\" class=\"data row10 col16\" >0.450000</td>\n",
       "      <td id=\"T_a6399_row10_col17\" class=\"data row10 col17\" >0.330000</td>\n",
       "      <td id=\"T_a6399_row10_col18\" class=\"data row10 col18\" >0.550000</td>\n",
       "    </tr>\n",
       "    <tr>\n",
       "      <th id=\"T_a6399_level0_row11\" class=\"row_heading level0 row11\" >Numeri</th>\n",
       "      <td id=\"T_a6399_row11_col0\" class=\"data row11 col0\" >0.360000</td>\n",
       "      <td id=\"T_a6399_row11_col1\" class=\"data row11 col1\" >0.370000</td>\n",
       "      <td id=\"T_a6399_row11_col2\" class=\"data row11 col2\" >0.440000</td>\n",
       "      <td id=\"T_a6399_row11_col3\" class=\"data row11 col3\" >0.460000</td>\n",
       "      <td id=\"T_a6399_row11_col4\" class=\"data row11 col4\" >0.830000</td>\n",
       "      <td id=\"T_a6399_row11_col5\" class=\"data row11 col5\" >0.440000</td>\n",
       "      <td id=\"T_a6399_row11_col6\" class=\"data row11 col6\" >-0.340000</td>\n",
       "      <td id=\"T_a6399_row11_col7\" class=\"data row11 col7\" >0.260000</td>\n",
       "      <td id=\"T_a6399_row11_col8\" class=\"data row11 col8\" >0.530000</td>\n",
       "      <td id=\"T_a6399_row11_col9\" class=\"data row11 col9\" >0.490000</td>\n",
       "      <td id=\"T_a6399_row11_col10\" class=\"data row11 col10\" >0.540000</td>\n",
       "      <td id=\"T_a6399_row11_col11\" class=\"data row11 col11\" >1.000000</td>\n",
       "      <td id=\"T_a6399_row11_col12\" class=\"data row11 col12\" >0.790000</td>\n",
       "      <td id=\"T_a6399_row11_col13\" class=\"data row11 col13\" >0.530000</td>\n",
       "      <td id=\"T_a6399_row11_col14\" class=\"data row11 col14\" >0.520000</td>\n",
       "      <td id=\"T_a6399_row11_col15\" class=\"data row11 col15\" >0.640000</td>\n",
       "      <td id=\"T_a6399_row11_col16\" class=\"data row11 col16\" >0.620000</td>\n",
       "      <td id=\"T_a6399_row11_col17\" class=\"data row11 col17\" >0.340000</td>\n",
       "      <td id=\"T_a6399_row11_col18\" class=\"data row11 col18\" >0.630000</td>\n",
       "    </tr>\n",
       "    <tr>\n",
       "      <th id=\"T_a6399_level0_row12\" class=\"row_heading level0 row12\" >Contenuti matematica</th>\n",
       "      <td id=\"T_a6399_row12_col0\" class=\"data row12 col0\" >0.290000</td>\n",
       "      <td id=\"T_a6399_row12_col1\" class=\"data row12 col1\" >0.300000</td>\n",
       "      <td id=\"T_a6399_row12_col2\" class=\"data row12 col2\" >0.360000</td>\n",
       "      <td id=\"T_a6399_row12_col3\" class=\"data row12 col3\" >0.380000</td>\n",
       "      <td id=\"T_a6399_row12_col4\" class=\"data row12 col4\" >0.680000</td>\n",
       "      <td id=\"T_a6399_row12_col5\" class=\"data row12 col5\" >0.360000</td>\n",
       "      <td id=\"T_a6399_row12_col6\" class=\"data row12 col6\" >-0.290000</td>\n",
       "      <td id=\"T_a6399_row12_col7\" class=\"data row12 col7\" >0.200000</td>\n",
       "      <td id=\"T_a6399_row12_col8\" class=\"data row12 col8\" >0.450000</td>\n",
       "      <td id=\"T_a6399_row12_col9\" class=\"data row12 col9\" >0.370000</td>\n",
       "      <td id=\"T_a6399_row12_col10\" class=\"data row12 col10\" >0.490000</td>\n",
       "      <td id=\"T_a6399_row12_col11\" class=\"data row12 col11\" >0.790000</td>\n",
       "      <td id=\"T_a6399_row12_col12\" class=\"data row12 col12\" >1.000000</td>\n",
       "      <td id=\"T_a6399_row12_col13\" class=\"data row12 col13\" >0.420000</td>\n",
       "      <td id=\"T_a6399_row12_col14\" class=\"data row12 col14\" >0.420000</td>\n",
       "      <td id=\"T_a6399_row12_col15\" class=\"data row12 col15\" >0.330000</td>\n",
       "      <td id=\"T_a6399_row12_col16\" class=\"data row12 col16\" >0.370000</td>\n",
       "      <td id=\"T_a6399_row12_col17\" class=\"data row12 col17\" >0.260000</td>\n",
       "      <td id=\"T_a6399_row12_col18\" class=\"data row12 col18\" >0.440000</td>\n",
       "    </tr>\n",
       "    <tr>\n",
       "      <th id=\"T_a6399_level0_row13\" class=\"row_heading level0 row13\" >Spazio figure</th>\n",
       "      <td id=\"T_a6399_row13_col0\" class=\"data row13 col0\" >0.340000</td>\n",
       "      <td id=\"T_a6399_row13_col1\" class=\"data row13 col1\" >0.360000</td>\n",
       "      <td id=\"T_a6399_row13_col2\" class=\"data row13 col2\" >0.420000</td>\n",
       "      <td id=\"T_a6399_row13_col3\" class=\"data row13 col3\" >0.440000</td>\n",
       "      <td id=\"T_a6399_row13_col4\" class=\"data row13 col4\" >0.800000</td>\n",
       "      <td id=\"T_a6399_row13_col5\" class=\"data row13 col5\" >0.430000</td>\n",
       "      <td id=\"T_a6399_row13_col6\" class=\"data row13 col6\" >-0.340000</td>\n",
       "      <td id=\"T_a6399_row13_col7\" class=\"data row13 col7\" >0.250000</td>\n",
       "      <td id=\"T_a6399_row13_col8\" class=\"data row13 col8\" >0.500000</td>\n",
       "      <td id=\"T_a6399_row13_col9\" class=\"data row13 col9\" >0.470000</td>\n",
       "      <td id=\"T_a6399_row13_col10\" class=\"data row13 col10\" >0.520000</td>\n",
       "      <td id=\"T_a6399_row13_col11\" class=\"data row13 col11\" >0.530000</td>\n",
       "      <td id=\"T_a6399_row13_col12\" class=\"data row13 col12\" >0.420000</td>\n",
       "      <td id=\"T_a6399_row13_col13\" class=\"data row13 col13\" >1.000000</td>\n",
       "      <td id=\"T_a6399_row13_col14\" class=\"data row13 col14\" >0.510000</td>\n",
       "      <td id=\"T_a6399_row13_col15\" class=\"data row13 col15\" >0.510000</td>\n",
       "      <td id=\"T_a6399_row13_col16\" class=\"data row13 col16\" >0.590000</td>\n",
       "      <td id=\"T_a6399_row13_col17\" class=\"data row13 col17\" >0.780000</td>\n",
       "      <td id=\"T_a6399_row13_col18\" class=\"data row13 col18\" >0.640000</td>\n",
       "    </tr>\n",
       "    <tr>\n",
       "      <th id=\"T_a6399_level0_row14\" class=\"row_heading level0 row14\" >Rappresentazione quantitativa</th>\n",
       "      <td id=\"T_a6399_row14_col0\" class=\"data row14 col0\" >0.340000</td>\n",
       "      <td id=\"T_a6399_row14_col1\" class=\"data row14 col1\" >0.350000</td>\n",
       "      <td id=\"T_a6399_row14_col2\" class=\"data row14 col2\" >0.390000</td>\n",
       "      <td id=\"T_a6399_row14_col3\" class=\"data row14 col3\" >0.420000</td>\n",
       "      <td id=\"T_a6399_row14_col4\" class=\"data row14 col4\" >0.760000</td>\n",
       "      <td id=\"T_a6399_row14_col5\" class=\"data row14 col5\" >0.440000</td>\n",
       "      <td id=\"T_a6399_row14_col6\" class=\"data row14 col6\" >-0.360000</td>\n",
       "      <td id=\"T_a6399_row14_col7\" class=\"data row14 col7\" >0.260000</td>\n",
       "      <td id=\"T_a6399_row14_col8\" class=\"data row14 col8\" >0.870000</td>\n",
       "      <td id=\"T_a6399_row14_col9\" class=\"data row14 col9\" >0.410000</td>\n",
       "      <td id=\"T_a6399_row14_col10\" class=\"data row14 col10\" >0.630000</td>\n",
       "      <td id=\"T_a6399_row14_col11\" class=\"data row14 col11\" >0.520000</td>\n",
       "      <td id=\"T_a6399_row14_col12\" class=\"data row14 col12\" >0.420000</td>\n",
       "      <td id=\"T_a6399_row14_col13\" class=\"data row14 col13\" >0.510000</td>\n",
       "      <td id=\"T_a6399_row14_col14\" class=\"data row14 col14\" >1.000000</td>\n",
       "      <td id=\"T_a6399_row14_col15\" class=\"data row14 col15\" >0.390000</td>\n",
       "      <td id=\"T_a6399_row14_col16\" class=\"data row14 col16\" >0.440000</td>\n",
       "      <td id=\"T_a6399_row14_col17\" class=\"data row14 col17\" >0.320000</td>\n",
       "      <td id=\"T_a6399_row14_col18\" class=\"data row14 col18\" >0.540000</td>\n",
       "    </tr>\n",
       "    <tr>\n",
       "      <th id=\"T_a6399_level0_row15\" class=\"row_heading level0 row15\" >Utilizzo strumenti misura</th>\n",
       "      <td id=\"T_a6399_row15_col0\" class=\"data row15 col0\" >0.270000</td>\n",
       "      <td id=\"T_a6399_row15_col1\" class=\"data row15 col1\" >0.280000</td>\n",
       "      <td id=\"T_a6399_row15_col2\" class=\"data row15 col2\" >0.330000</td>\n",
       "      <td id=\"T_a6399_row15_col3\" class=\"data row15 col3\" >0.340000</td>\n",
       "      <td id=\"T_a6399_row15_col4\" class=\"data row15 col4\" >0.620000</td>\n",
       "      <td id=\"T_a6399_row15_col5\" class=\"data row15 col5\" >0.300000</td>\n",
       "      <td id=\"T_a6399_row15_col6\" class=\"data row15 col6\" >-0.220000</td>\n",
       "      <td id=\"T_a6399_row15_col7\" class=\"data row15 col7\" >0.200000</td>\n",
       "      <td id=\"T_a6399_row15_col8\" class=\"data row15 col8\" >0.390000</td>\n",
       "      <td id=\"T_a6399_row15_col9\" class=\"data row15 col9\" >0.340000</td>\n",
       "      <td id=\"T_a6399_row15_col10\" class=\"data row15 col10\" >0.410000</td>\n",
       "      <td id=\"T_a6399_row15_col11\" class=\"data row15 col11\" >0.640000</td>\n",
       "      <td id=\"T_a6399_row15_col12\" class=\"data row15 col12\" >0.330000</td>\n",
       "      <td id=\"T_a6399_row15_col13\" class=\"data row15 col13\" >0.510000</td>\n",
       "      <td id=\"T_a6399_row15_col14\" class=\"data row15 col14\" >0.390000</td>\n",
       "      <td id=\"T_a6399_row15_col15\" class=\"data row15 col15\" >1.000000</td>\n",
       "      <td id=\"T_a6399_row15_col16\" class=\"data row15 col16\" >0.390000</td>\n",
       "      <td id=\"T_a6399_row15_col17\" class=\"data row15 col17\" >0.290000</td>\n",
       "      <td id=\"T_a6399_row15_col18\" class=\"data row15 col18\" >0.420000</td>\n",
       "    </tr>\n",
       "    <tr>\n",
       "      <th id=\"T_a6399_level0_row16\" class=\"row_heading level0 row16\" >Risoluzione problemi</th>\n",
       "      <td id=\"T_a6399_row16_col0\" class=\"data row16 col0\" >0.260000</td>\n",
       "      <td id=\"T_a6399_row16_col1\" class=\"data row16 col1\" >0.280000</td>\n",
       "      <td id=\"T_a6399_row16_col2\" class=\"data row16 col2\" >0.340000</td>\n",
       "      <td id=\"T_a6399_row16_col3\" class=\"data row16 col3\" >0.360000</td>\n",
       "      <td id=\"T_a6399_row16_col4\" class=\"data row16 col4\" >0.670000</td>\n",
       "      <td id=\"T_a6399_row16_col5\" class=\"data row16 col5\" >0.370000</td>\n",
       "      <td id=\"T_a6399_row16_col6\" class=\"data row16 col6\" >-0.290000</td>\n",
       "      <td id=\"T_a6399_row16_col7\" class=\"data row16 col7\" >0.230000</td>\n",
       "      <td id=\"T_a6399_row16_col8\" class=\"data row16 col8\" >0.450000</td>\n",
       "      <td id=\"T_a6399_row16_col9\" class=\"data row16 col9\" >0.360000</td>\n",
       "      <td id=\"T_a6399_row16_col10\" class=\"data row16 col10\" >0.450000</td>\n",
       "      <td id=\"T_a6399_row16_col11\" class=\"data row16 col11\" >0.620000</td>\n",
       "      <td id=\"T_a6399_row16_col12\" class=\"data row16 col12\" >0.370000</td>\n",
       "      <td id=\"T_a6399_row16_col13\" class=\"data row16 col13\" >0.590000</td>\n",
       "      <td id=\"T_a6399_row16_col14\" class=\"data row16 col14\" >0.440000</td>\n",
       "      <td id=\"T_a6399_row16_col15\" class=\"data row16 col15\" >0.390000</td>\n",
       "      <td id=\"T_a6399_row16_col16\" class=\"data row16 col16\" >1.000000</td>\n",
       "      <td id=\"T_a6399_row16_col17\" class=\"data row16 col17\" >0.300000</td>\n",
       "      <td id=\"T_a6399_row16_col18\" class=\"data row16 col18\" >0.480000</td>\n",
       "    </tr>\n",
       "    <tr>\n",
       "      <th id=\"T_a6399_level0_row17\" class=\"row_heading level0 row17\" >Forme nello spazio</th>\n",
       "      <td id=\"T_a6399_row17_col0\" class=\"data row17 col0\" >0.220000</td>\n",
       "      <td id=\"T_a6399_row17_col1\" class=\"data row17 col1\" >0.230000</td>\n",
       "      <td id=\"T_a6399_row17_col2\" class=\"data row17 col2\" >0.270000</td>\n",
       "      <td id=\"T_a6399_row17_col3\" class=\"data row17 col3\" >0.290000</td>\n",
       "      <td id=\"T_a6399_row17_col4\" class=\"data row17 col4\" >0.570000</td>\n",
       "      <td id=\"T_a6399_row17_col5\" class=\"data row17 col5\" >0.270000</td>\n",
       "      <td id=\"T_a6399_row17_col6\" class=\"data row17 col6\" >-0.210000</td>\n",
       "      <td id=\"T_a6399_row17_col7\" class=\"data row17 col7\" >0.170000</td>\n",
       "      <td id=\"T_a6399_row17_col8\" class=\"data row17 col8\" >0.330000</td>\n",
       "      <td id=\"T_a6399_row17_col9\" class=\"data row17 col9\" >0.270000</td>\n",
       "      <td id=\"T_a6399_row17_col10\" class=\"data row17 col10\" >0.330000</td>\n",
       "      <td id=\"T_a6399_row17_col11\" class=\"data row17 col11\" >0.340000</td>\n",
       "      <td id=\"T_a6399_row17_col12\" class=\"data row17 col12\" >0.260000</td>\n",
       "      <td id=\"T_a6399_row17_col13\" class=\"data row17 col13\" >0.780000</td>\n",
       "      <td id=\"T_a6399_row17_col14\" class=\"data row17 col14\" >0.320000</td>\n",
       "      <td id=\"T_a6399_row17_col15\" class=\"data row17 col15\" >0.290000</td>\n",
       "      <td id=\"T_a6399_row17_col16\" class=\"data row17 col16\" >0.300000</td>\n",
       "      <td id=\"T_a6399_row17_col17\" class=\"data row17 col17\" >1.000000</td>\n",
       "      <td id=\"T_a6399_row17_col18\" class=\"data row17 col18\" >0.340000</td>\n",
       "    </tr>\n",
       "    <tr>\n",
       "      <th id=\"T_a6399_level0_row18\" class=\"row_heading level0 row18\" >Algoritmi e procedure</th>\n",
       "      <td id=\"T_a6399_row18_col0\" class=\"data row18 col0\" >0.360000</td>\n",
       "      <td id=\"T_a6399_row18_col1\" class=\"data row18 col1\" >0.370000</td>\n",
       "      <td id=\"T_a6399_row18_col2\" class=\"data row18 col2\" >0.430000</td>\n",
       "      <td id=\"T_a6399_row18_col3\" class=\"data row18 col3\" >0.450000</td>\n",
       "      <td id=\"T_a6399_row18_col4\" class=\"data row18 col4\" >0.770000</td>\n",
       "      <td id=\"T_a6399_row18_col5\" class=\"data row18 col5\" >0.440000</td>\n",
       "      <td id=\"T_a6399_row18_col6\" class=\"data row18 col6\" >-0.370000</td>\n",
       "      <td id=\"T_a6399_row18_col7\" class=\"data row18 col7\" >0.260000</td>\n",
       "      <td id=\"T_a6399_row18_col8\" class=\"data row18 col8\" >0.650000</td>\n",
       "      <td id=\"T_a6399_row18_col9\" class=\"data row18 col9\" >0.420000</td>\n",
       "      <td id=\"T_a6399_row18_col10\" class=\"data row18 col10\" >0.550000</td>\n",
       "      <td id=\"T_a6399_row18_col11\" class=\"data row18 col11\" >0.630000</td>\n",
       "      <td id=\"T_a6399_row18_col12\" class=\"data row18 col12\" >0.440000</td>\n",
       "      <td id=\"T_a6399_row18_col13\" class=\"data row18 col13\" >0.640000</td>\n",
       "      <td id=\"T_a6399_row18_col14\" class=\"data row18 col14\" >0.540000</td>\n",
       "      <td id=\"T_a6399_row18_col15\" class=\"data row18 col15\" >0.420000</td>\n",
       "      <td id=\"T_a6399_row18_col16\" class=\"data row18 col16\" >0.480000</td>\n",
       "      <td id=\"T_a6399_row18_col17\" class=\"data row18 col17\" >0.340000</td>\n",
       "      <td id=\"T_a6399_row18_col18\" class=\"data row18 col18\" >1.000000</td>\n",
       "    </tr>\n",
       "  </tbody>\n",
       "</table>\n"
      ],
      "text/plain": [
       "<pandas.io.formats.style.Styler at 0x1569e088cd0>"
      ]
     },
     "execution_count": 31,
     "metadata": {},
     "output_type": "execute_result"
    }
   ],
   "source": [
    "check_corr_dataset = dataset_ap[interesting_to_check_if_correlated_columns].copy()\n",
    "check_corr_dataset.rename(columns={\n",
    "    \"Rappresentare relazioni e dati e, in situazioni significative, utilizzare le rappresentazioni per ricavare informazioni, formulare giudizi e prendere decisioni\": \"Relazioni e dati\",\n",
    "    \"Acquisire progressivamente forme tipiche del pensiero matematico\": \"Pensiero matematico\",\n",
    "    \"Conoscere e padroneggiare i contenuti specifici della matematica\": \"Contenuti matematica\",\n",
    "    \"Utilizzare strumenti, modelli e rappresentazioni nel trattamento quantitativo dell'informazione in ambito scientifico, tecnologico, economico e sociale\": \"Rappresentazione quantitativa\",\n",
    "    \"Riconoscere in contesti diversi il carattere misurabile di oggetti e fenomeni, utilizzare strumenti di misura, misurare grandezze, stimare misure di grandezze\": \"Utilizzo strumenti misura\",\n",
    "    \"Risolvere problemi utilizzando strategie in ambiti diversi – numerico, geometrico, algebrico –\": \"Risoluzione problemi\",\n",
    "    \"Riconoscere le forme nello spazio e utilizzarle per la risoluzione di problemi geometrici o di modellizzazione\": \"Forme nello spazio\",\n",
    "    \"Conoscere e utilizzare algoritmi e procedure\": \"Algoritmi e procedure\"\n",
    "}, inplace=True)\n",
    "corr_result = check_corr_dataset.corr(method='pearson').round(2)\n",
    "# Ridenominazione colonne per ragioni di spazio e comprensibilità.\n",
    "corr_result.style.background_gradient(cmap='YlOrRd')"
   ]
  },
  {
   "cell_type": "markdown",
   "metadata": {},
   "source": [
    "La nostra previsione è stata confermata."
   ]
  },
  {
   "cell_type": "markdown",
   "metadata": {},
   "source": [
    "Nonostante questa nostra analisi sulla correlazione fra gli attributi presenti nel dataset, abbiamo deciso di tenere quante più colonne sfruttando la capacità della rete di maneggiare un numero elevato di feature e di determinare automaticamente la loro importanza relativa."
   ]
  },
  {
   "cell_type": "markdown",
   "metadata": {},
   "source": [
    "## 2.7 - Analisi dei tipi e gestione delle colonne"
   ]
  },
  {
   "cell_type": "code",
   "execution_count": null,
   "metadata": {},
   "outputs": [],
   "source": [
    "print(\"Lista colonne e tipi:\")\n",
    "\n",
    "table = BeautifulTable()\n",
    "table.columns.header = [\"\", \"Type\"]\n",
    "\n",
    "for col in dataset_ap.columns :\n",
    "    table.rows.append([col, dataset_ap[col].dtypes])\n",
    "        \n",
    "table.columns.alignment = BeautifulTable.ALIGN_LEFT\n",
    "table.set_style(BeautifulTable.STYLE_SEPARATED)\n",
    "print(table)"
   ]
  },
  {
   "cell_type": "code",
   "execution_count": 33,
   "metadata": {},
   "outputs": [],
   "source": [
    "# Le colonne DROPOUT e LIVELLI non sono considerate fra le feature in quanto colonne target (in particolare, DROPOUT è una trasformazione di LIVELLI).\n",
    "continuous_features = columns_low_ratio_null_values + \\\n",
    "                      [\"pu_ma_gr\", \"pu_ma_no\", \"Fattore_correzione_new\", \"Cheating\", \"WLE_MAT\", \"WLE_MAT_200\", \"WLE_MAT_200_CORR\",\n",
    "                       \"pu_ma_no_corr\"] + \\\n",
    "                      list(ambiti_processi) # Feature sui voti, feature elencate, ambiti e processi\n",
    "if cfg.FILL_NAN == \"remove\":\n",
    "    continuous_features.remove(\"voto_scritto_ita\")\n",
    "    continuous_features.remove(\"voto_orale_ita\")\n",
    "ordinal_features = [\"n_stud_prev\", \"n_classi_prev\"]\n",
    "int_categorical_features = [\n",
    "    \"CODICE_SCUOLA\", \"CODICE_PLESSO\", \"CODICE_CLASSE\", \"campione\", \"prog\",\n",
    "]\n",
    "str_categorical_features = [\n",
    "    \"sesso\", \"mese\", \"anno\", \"luogo\", \"eta\", \"freq_asilo_nido\", \"freq_scuola_materna\",\n",
    "    \"luogo_padre\", \"titolo_padre\", \"prof_padre\", \"luogo_madre\", \"titolo_madre\", \"prof_madre\",\n",
    "    \"regolarità\", \"cittadinanza\", \"cod_provincia_ISTAT\", \"Nome_reg\",\n",
    "    \"Cod_reg\", \"Areageo_3\", \"Areageo_4\", \"Areageo_5\", \"Areageo_5_Istat\"\n",
    "]\n",
    "bool_features = [\"Pon\"]"
   ]
  },
  {
   "cell_type": "markdown",
   "metadata": {},
   "source": [
    "## 2.8 - Gestione dei valori nulli\n",
    "Il dataset in considerazione presenta molti valori nulli.  \n",
    "Vi sono diverse tecniche per gestirli, tra cui:\n",
    "- sostituzione del valore nullo con un indice di sintesi (media, mediana) della colonna in considerazione: la scelta dell'indice dipende da vari fattori, tra cui la forma della distribuzione del certo attributo;\n",
    "- rimozione della riga corrispondente: viene adottata solitamente quando la colonna presenta pochi valori nulli e/o la riga presenta molti valori nulli;\n",
    "- rimozione della colonna corrispondente: viene adottata solitamente quando la colonna presenta un alto numero di valori nulli."
   ]
  },
  {
   "cell_type": "code",
   "execution_count": 34,
   "metadata": {},
   "outputs": [],
   "source": [
    "dataset_ap[\"sigla_provincia_istat\"].fillna(value=\"ND\", inplace=True)\n",
    "\n",
    "if cfg.FILL_NAN == \"remove\":\n",
    "    # Rimuovere colonne voti ita (molti valori nulli).\n",
    "    # Rimuovere record con dati nulli in voti mat (meno valori nulli).\n",
    "    dataset_ap.drop([\"voto_scritto_ita\", \"voto_orale_ita\"], axis=1, inplace=True)\n",
    "    dataset_ap.dropna(subset=[\"voto_scritto_mat\", \"voto_orale_mat\"], inplace=True)\n",
    "else :\n",
    "    for col in columns_low_ratio_null_values : \n",
    "        if cfg.FILL_NAN == \"median\":\n",
    "            replaced_value = dataset_ap[col].median()\n",
    "        elif cfg.FILL_NAN == \"mean\":\n",
    "            replaced_value = dataset_ap[col].mean()\n",
    "\n",
    "        dataset_ap[col].fillna(value=replaced_value, inplace=True)   "
   ]
  },
  {
   "cell_type": "markdown",
   "metadata": {},
   "source": [
    "# 3 - Machine Learning\n",
    "## 3.1 - Suddivisione dataset in training e test\n",
    "Avendo un dataset di una sola coorte di studenti relativi alle prove di un anno, non si dispone di un set per fare testing: Idealmente, l'insieme di testing dovrebbe referirsi ad una coorte diversa da quella su cui è stato effettuato il training. Nel caso di specie, tuttavia, si dispone dei dati relativi ad un'unica coorte, per cui abbiamo pensato di eseguire lo split in questo modo:\n",
    "\n",
    "1. dataset diviso in training set (default 80%) e test set (default 20%);\n",
    "2. training set (ottenuto dalla suddivisione al punto 1) diviso in training set (default 80%) e validation set (default 20%)."
   ]
  },
  {
   "cell_type": "code",
   "execution_count": 35,
   "metadata": {},
   "outputs": [],
   "source": [
    "df_training_set, df_test_set = train_test_split(dataset_ap, test_size=cfg.TEST_SET_PERCENT, random_state=19)"
   ]
  },
  {
   "cell_type": "markdown",
   "metadata": {},
   "source": [
    "## 3.2 - Analisi dello sbilanciamento del dataset"
   ]
  },
  {
   "cell_type": "code",
   "execution_count": 36,
   "metadata": {},
   "outputs": [
    {
     "name": "stdout",
     "output_type": "stream",
     "text": [
      "Total number of records: 342226\n",
      "        \n",
      "Total num. DROPOUT: 116782\n",
      "Total num. NO DROPOUT: 225444\n",
      "    \n",
      "Ratio DROPOUT/TOTAL: 0.34\n",
      "Ratio NO DROPOUT/TOTAL: 0.66\n",
      "    \n",
      "Ratio DROPOUT/NO DROPOUT: 0.52\n"
     ]
    }
   ],
   "source": [
    "nr_nodrop, nr_drop = np.bincount(dataset_ap['DROPOUT'])\n",
    "total_records = nr_drop + nr_nodrop\n",
    "nl = '\\n'\n",
    "print(\n",
    "    f\"Total number of records: {total_records}{nl}\\\n",
    "        {nl}\\\n",
    "Total num. DROPOUT: {nr_drop}{nl}\\\n",
    "Total num. NO DROPOUT: {nr_nodrop}{nl}\\\n",
    "    {nl}\\\n",
    "Ratio DROPOUT/TOTAL: {round(nr_drop / total_records, 2)}{nl}\\\n",
    "Ratio NO DROPOUT/TOTAL: {round(nr_nodrop / total_records, 2)}{nl}\\\n",
    "    {nl}\\\n",
    "Ratio DROPOUT/NO DROPOUT: {round(nr_drop / nr_nodrop, 2)}\"\n",
    ")"
   ]
  },
  {
   "cell_type": "markdown",
   "metadata": {},
   "source": [
    "Le due classi (i.e. target del classificatore) appaiono leggermente sbilanciate: in dettaglio, la classe dei soggetti che manifestano dropout ha una cardinalità inferiore della classe in cui non si è avuto dropout."
   ]
  },
  {
   "cell_type": "markdown",
   "metadata": {},
   "source": [
    "### 3.2.1 - Gestione dello sbilanciamento"
   ]
  },
  {
   "cell_type": "markdown",
   "metadata": {},
   "source": [
    "Vi sono diverse tecniche per gestire lo sbilanciamento tra le classi di un attributo, tra cui:\n",
    "- **ricampionamento dei dati**: \n",
    "    - *random over sampling*: selezionare randomicamente delle istanze della classe sotto rappresentata e duplicarle fino a quando le cardinalità delle classi si equivalgono; aumenta il rischio di overfitting;\n",
    "    - *random under sampling*: rimuovere istanze della classe sovrarappresentata fintanto che le cardinalità delle classi si equivalgono; causa una riduzione del training set;\n",
    "    - *cluster-based over-sampling*: esecuzione dell'algoritmo *k-means* sulle istanze della classe maggiormente rappresentata e su quelle della classe meno rappresentata in modo indipendente, per poi compiere oversampling sui cluster ottenuti fin tanto che le cardinalità dei cluster di una stessa classe si equivalgono come anche le cardinalità delle classi nel loro complesso;\n",
    "- **generazione di dati sintetici**: \n",
    "    - *SMOTE* (Synthetic Minority Over-sampling Technique): selezionare due o più istanze simili della classe sotto rappresentata e modificare leggermente il valore di un attributo alla volta di un ammontare inferiore alla differenza tra le istanze simili; evita l'overfitting (a patto che vi siano poche attributi) ma aumenta il rumore;\n",
    "- **cambiare la natura del problema**: da classificazione a *anomaly detection* o *change detection*;\n",
    "- **penalizzazione delle classificazioni errate sulla classe sottorappresentata**: *Cost-sensitive Training*;\n",
    "- **monitorare metriche diverse dall'accuratezza**, in quanto solitamente si ottengono ottimi valori di accuratezza con dati sbilanciati, perché il modello classifica tutti gli input come appartenenti alla classe più numerosa.\n",
    "\n",
    "Alla luce di queste tecniche e considerate le peculiarità del nostro dataset emerse durante la EDA, abbiamo ritenuto che la tecnica migliore al caso nostro fosse il *random under sampling*: il nostro dataset presenta un alto numero di istanze e le classi dell'attributo target presentano un sbilanciamento poco accentuato per cui conviene ricorrere ad un sottocampionamento randomico, evitando così il rischio di overfitting, piuttosto che al sovracampionamento.\n",
    "\n",
    "\n"
   ]
  },
  {
   "cell_type": "code",
   "execution_count": 37,
   "metadata": {},
   "outputs": [
    {
     "name": "stdout",
     "output_type": "stream",
     "text": [
      "Class NO DROPOUT: 93,278\n",
      "Classe DROPOUT: 93,278\n"
     ]
    }
   ],
   "source": [
    "\"\"\"\n",
    "Eseguire per: campionamento\n",
    "\"\"\"\n",
    "if cfg.SAMPLING_TO_PERFORM == \"random_undersampling\":\n",
    "    # class_nodrop contiene i record della classe sovrarappresentata, ovvero SENZA DROPOUT.\n",
    "    class_nodrop = df_training_set[df_training_set['DROPOUT'] == False]\n",
    "    # class_drop contiene i record della classe sottorappresentata, ovvero CON DROPOUT.\n",
    "    class_drop = df_training_set[df_training_set['DROPOUT'] == True]\n",
    "\n",
    "    # Sotto campionamento di class_drop in modo che abbia stessa cardinalità di class_nodrop.\n",
    "    class_nodrop = class_nodrop.sample(len(class_drop), random_state=19)\n",
    "\n",
    "    print(f'Class NO DROPOUT: {len(class_nodrop):,}')\n",
    "    print(f'Classe DROPOUT: {len(class_drop):,}')\n",
    "\n",
    "    df_training_set = class_drop.append(class_nodrop)\n",
    "    df_training_set = df_training_set.sample(frac=1, random_state=19)\n",
    "else:\n",
    "    categorical_features_indexes = [i for i in range(len(df_training_set.columns)) if\n",
    "                                    df_training_set.columns[i] in str_categorical_features + int_categorical_features]\n",
    "\n",
    "    df_training_set = df_training_set.apply(lambda col: pd.factorize(col)[0] if col.name in str_categorical_features else col)\n",
    "    df_test_set = df_test_set.apply(lambda col: pd.factorize(col)[0] if col.name in str_categorical_features else col)\n",
    "\n",
    "    sm = SMOTENC(categorical_features=categorical_features_indexes, random_state=19)\n",
    "    X_train, y_train = sm.fit_resample(\n",
    "        df_training_set[[col for col in df_training_set.columns if col != 'DROPOUT']],\n",
    "        df_training_set['DROPOUT']\n",
    "    )\n",
    "    df_training_set = pd.concat([X_train, y_train], axis=1)\n",
    "\n",
    "    X_test, y_test = sm.fit_resample(\n",
    "        df_test_set[[col for col in df_test_set.columns if col != 'DROPOUT']],\n",
    "        df_test_set['DROPOUT']\n",
    "    )\n",
    "    df_test_set = pd.concat([X_test, y_test], axis=1)\n",
    "\n",
    "    # Se SMOTENC viene eseguito, ogni feature categorica stringa viene trasformata in feature categorica intera.\n",
    "    int_categorical_features = int_categorical_features + str_categorical_features\n",
    "    str_categorical_features = []"
   ]
  },
  {
   "cell_type": "markdown",
   "metadata": {},
   "source": [
    "Nonostante la scelta di orientarci verso il *random under sampling* abbiamo inserito il codice per poter eseguire l'*over sampling* mediante SMOTENC. Maggiori dettagli su questa tecnica sono presentati nella sezione [Risultati ottenuti](#risultati)."
   ]
  },
  {
   "cell_type": "markdown",
   "metadata": {},
   "source": [
    "Ecco che il training set è stato bilanciato."
   ]
  },
  {
   "cell_type": "code",
   "execution_count": 38,
   "metadata": {},
   "outputs": [],
   "source": [
    "if \"Unnamed: 0\" in df_training_set.columns:\n",
    "    df_training_set.drop(\"Unnamed: 0\", axis=1, inplace=True)"
   ]
  },
  {
   "cell_type": "markdown",
   "metadata": {},
   "source": [
    "## 3.3 - Preprocessing per creazione del modello di Deep Learning"
   ]
  },
  {
   "cell_type": "markdown",
   "metadata": {},
   "source": [
    "### 3.3.1 - Suddivisione del dataset in training e validation"
   ]
  },
  {
   "cell_type": "code",
   "execution_count": 39,
   "metadata": {},
   "outputs": [],
   "source": [
    "df_training_set, df_validation_set = train_test_split(df_training_set, test_size=cfg.VALIDATION_SET_PERCENT, random_state=19)"
   ]
  },
  {
   "cell_type": "markdown",
   "metadata": {},
   "source": [
    "### 3.3.2 - Conversione dei dati da DataFrame (Pandas) a Dataset (Tensorflow/Keras)"
   ]
  },
  {
   "cell_type": "code",
   "execution_count": 40,
   "metadata": {},
   "outputs": [],
   "source": [
    "def convert_dropout_column_to_one_hot(dropout_col):\n",
    "    dropout_col_one_hot = []\n",
    "    for dc in dropout_col:\n",
    "        if dc == 1:\n",
    "            dropout_col_one_hot.append([1, 0])\n",
    "        else:\n",
    "            dropout_col_one_hot.append([0, 1])\n",
    "    return dropout_col_one_hot"
   ]
  },
  {
   "cell_type": "code",
   "execution_count": 41,
   "metadata": {},
   "outputs": [],
   "source": [
    "def pd_dataframe_to_tf_dataset(dataframe: pd.DataFrame):\n",
    "    copied_df = dataframe.copy()\n",
    "    if cfg.PROBLEM_TYPE == \"classification\":\n",
    "        dropout_col = copied_df.pop(\"DROPOUT\")\n",
    "        dropout_col = convert_dropout_column_to_one_hot(dropout_col)\n",
    "        copied_df.drop(\"LIVELLI\", axis=1, inplace=True)\n",
    "    elif cfg.PROBLEM_TYPE == \"regression\":\n",
    "        # La colonna target LIVELLI viene presa, invertiti i valori (0 -> 5, 1 -> 4, ..., 5 -> 0) e poi li divido per 5.\n",
    "        # Questo viene fatto per poter associare a valori sopra 0.6 (corrispondente all'originale 4) il concetto di\n",
    "        # \"Dropout Sì\" e a quelli inferiori il concetto di \"Dropout no\".\n",
    "        dropout_col = copied_df.pop(\"LIVELLI\")\n",
    "        dropout_col = dropout_col.subtract(5)\n",
    "        dropout_col = dropout_col.abs()\n",
    "        dropout_col = dropout_col.divide(5) # Normalizzazione dei valori della colonna da [0..5] a [0..1].\n",
    "        copied_df.drop(\"DROPOUT\", axis=1, inplace=True)\n",
    "    else: # cfg.PROBLEM_TYPE == \"pure_regression\"\n",
    "        dropout_col = copied_df.pop(\"LIVELLI\")\n",
    "        dropout_col = dropout_col.divide(5) # Normalizzazione dei valori della colonna da [0..5] a [0..1].\n",
    "        copied_df.drop(\"DROPOUT\", axis=1, inplace=True)\n",
    "\n",
    "    \"\"\"\n",
    "    Dato che il dataframe ha dati eterogenei lo convertiamo a dizionario (i.e. dict(copied_df)),\n",
    "    in cui le chiavi sono i nomi delle colonne e i valori sono i valori della colonna.\n",
    "    Infine bisogna indicare la colonna target.\n",
    "    \"\"\"\n",
    "\n",
    "    tf_dataset = tf.data.Dataset.from_tensor_slices((dict(copied_df), dropout_col))\n",
    "    tf_dataset = tf_dataset.shuffle(buffer_size=len(copied_df), seed=19)\n",
    "    return tf_dataset"
   ]
  },
  {
   "cell_type": "code",
   "execution_count": 42,
   "metadata": {},
   "outputs": [],
   "source": [
    "ds_training_set = pd_dataframe_to_tf_dataset(df_training_set)\n",
    "ds_validation_set = pd_dataframe_to_tf_dataset(df_validation_set)\n",
    "ds_test_set = pd_dataframe_to_tf_dataset(df_test_set)"
   ]
  },
  {
   "cell_type": "markdown",
   "metadata": {},
   "source": [
    "### 3.3.3 - Suddivisione del dataset in batch\n",
    "Abbiamo proceduto col suddividere i vari set di dati in batch al fine di realizzare la variante del metodo di ottimizzazione del **gradient descent**, nota come **mini-batch gradient descent**: dato un insieme di mini-batch, si alimentare il modello con uno di essi, vi si calcola il gradiente e quindi si procedere all'aggiornamento dei pesi, per poi ripetere tale processo col mini-batch successivo; così facendo, si riduce la complessità computazionale che sarebbe richiesta dalla versione classica del *gradient descent* che considera l'intero training set ad ogni iterazione."
   ]
  },
  {
   "cell_type": "code",
   "execution_count": 43,
   "metadata": {},
   "outputs": [],
   "source": [
    "ds_training_set = ds_training_set.batch(cfg.BATCH_SIZE, drop_remainder=True)\n",
    "ds_validation_set = ds_validation_set.batch(cfg.BATCH_SIZE, drop_remainder=True)\n",
    "ds_test_set = ds_test_set.batch(cfg.BATCH_SIZE, drop_remainder=True)"
   ]
  },
  {
   "cell_type": "markdown",
   "metadata": {},
   "source": [
    "### 3.3.4 - Creazione dei layer di input per ogni feature"
   ]
  },
  {
   "cell_type": "code",
   "execution_count": 44,
   "metadata": {},
   "outputs": [],
   "source": [
    "input_layers = {}\n",
    "for name, column in df_training_set.items():\n",
    "    if name in [\"DROPOUT\", \"LIVELLI\"]:\n",
    "        continue\n",
    "\n",
    "    if name in continuous_features:\n",
    "        dtype = tf.float32\n",
    "    elif name in ordinal_features or name in int_categorical_features or name in bool_features:\n",
    "        dtype = tf.int64\n",
    "    else:  # name in str_categorical_features\n",
    "        dtype = tf.string\n",
    "\n",
    "    input_layers[name] = tf.keras.Input(shape=(), name=name, dtype=dtype)"
   ]
  },
  {
   "cell_type": "markdown",
   "metadata": {},
   "source": [
    "### 3.3.5 - Encoding delle feature in base al loro tipo"
   ]
  },
  {
   "cell_type": "code",
   "execution_count": 45,
   "metadata": {},
   "outputs": [],
   "source": [
    "preprocessed_features = []\n",
    "\n",
    "def stack_dict(inputs, fun=tf.stack):\n",
    "    values = []\n",
    "    for key in sorted(inputs.keys()):\n",
    "        values.append(tf.cast(inputs[key], tf.float32))\n",
    "\n",
    "    return fun(values, axis=-1)"
   ]
  },
  {
   "cell_type": "code",
   "execution_count": 46,
   "metadata": {},
   "outputs": [],
   "source": [
    "# Preprocessing colonne con dati booleani\n",
    "for name in bool_features:\n",
    "    inp = input_layers[name]\n",
    "    inp = inp[:, tf.newaxis]\n",
    "    float_value = tf.cast(inp, tf.float32)\n",
    "    preprocessed_features.append(float_value)"
   ]
  },
  {
   "cell_type": "code",
   "execution_count": 47,
   "metadata": {},
   "outputs": [],
   "source": [
    "# Preprocessing colonne con dati interi ordinali\n",
    "ordinal_inputs = {}\n",
    "for name in ordinal_features:\n",
    "    ordinal_inputs[name] = input_layers[name]\n",
    "\n",
    "normalizer = Normalization(axis=-1)\n",
    "normalizer.adapt(stack_dict(dict(df_training_set[ordinal_features])))\n",
    "ordinal_inputs = stack_dict(ordinal_inputs)\n",
    "ordinal_normalized = normalizer(ordinal_inputs)\n",
    "preprocessed_features.append(ordinal_normalized)"
   ]
  },
  {
   "cell_type": "code",
   "execution_count": 48,
   "metadata": {},
   "outputs": [],
   "source": [
    "# Preprocessing colonne con dati continui\n",
    "continuous_inputs = {}\n",
    "for name in continuous_features:\n",
    "    continuous_inputs[name] = input_layers[name]\n",
    "\n",
    "normalizer = Normalization(axis=-1)\n",
    "normalizer.adapt(stack_dict(dict(df_training_set[continuous_features])))\n",
    "continuous_inputs = stack_dict(continuous_inputs)\n",
    "continuous_normalized = normalizer(continuous_inputs)\n",
    "preprocessed_features.append(continuous_normalized)"
   ]
  },
  {
   "cell_type": "markdown",
   "metadata": {},
   "source": [
    "Per i dati categorici di tipo stringa o intero abbiamo adottato la *one-hot encoding*; tale codifica consiste nel mappare ogni categoria ad un array contenente $n$-1 elementi settati a 0 e un elemento settato a 1, con $n$ pari al numero delle categorie: l'indice dell'elemento settato ad 1 permette di distinguere le diverse categorie."
   ]
  },
  {
   "cell_type": "code",
   "execution_count": 49,
   "metadata": {},
   "outputs": [],
   "source": [
    "# Preprocessing colonne con dati categorici stringa\n",
    "for name in str_categorical_features:\n",
    "    vocab = sorted(set(df_training_set[name]))\n",
    "\n",
    "    lookup = StringLookup(vocabulary=vocab, output_mode='one_hot')\n",
    "\n",
    "    x = input_layers[name][:, tf.newaxis]\n",
    "    x = lookup(x)\n",
    "\n",
    "    preprocessed_features.append(x)"
   ]
  },
  {
   "cell_type": "code",
   "execution_count": 50,
   "metadata": {},
   "outputs": [],
   "source": [
    "# Preprocessing colonne con dati categorici interi\n",
    "for name in int_categorical_features:\n",
    "    vocab = sorted(set(df_training_set[name]))\n",
    "\n",
    "    lookup = IntegerLookup(vocabulary=vocab, output_mode='one_hot')\n",
    "\n",
    "    x = input_layers[name][:, tf.newaxis]\n",
    "    x = lookup(x)\n",
    "\n",
    "    preprocessed_features.append(x)"
   ]
  },
  {
   "cell_type": "markdown",
   "metadata": {},
   "source": [
    "## 3.4 - Assemblaggio dei vari layer e creazione del modello\n",
    "\n",
    "### 3.4.1 - Funzioni di attivazione\n",
    "Abbiamo studiato e approfondito le principali funzioni di attivazione, passandone in rassegna le peculiarità, i pro e i contro. Alla luce di tali nuove conoscenze, abbiamo optato per le seguenti scelte:\n",
    "- *Leaky ReLU* per gli hidden layer: \n",
    "    - abbiamo preferito la variante *Leaky ReLU* piuttosto che la classica ReLU, in quanto la prima, prevedendo una leggera pendenza a sinistra dell'origine, evita il *Dying ReLU Problem*, di cui soffre invece la ReLU;\n",
    "    - il codominio ha cardinalità infinita (dato che per input > 0, diventa la funzione di identità), per cui non vi è una significativa perdita di informazione nel passaggio da un layer al successivo;\n",
    "    - a fronte di somme pesate negative in input, restituisce valori negativi molto bassi che portano a calcoli non pesanti computazionalmente, registrando così tempi minori di addestramento per il modello nel complesso.  \n",
    "    <img src=\"./src/img/leaky_relu.png\" width=\"50%\"/>\n",
    "- *Sigmoid* o *Softmax* per l'output layer: sono le funzione che vengono [consigliate](https://machinelearningmastery.com/choose-an-activation-function-for-deep-learning/) come *best practice* per il livello di output rispettivamente in problemi di regressione e classificazione.\n",
    "    - la *Sigmoid* è la funzione che simula più fedelmente l'attivazione dei neuroni nel cervello: mappa valori negativi a valori tanto più prossimi allo 0 quanto maggiore è il loro valore assoluto e valori positivi a valori tanto più prossimi ad 1 quanto maggiore è il loro valore;\\\n",
    "    <img src=\"./src/img/sigmoid.png\" width=\"50%\"/>\n",
    "    - *Softmax* (anche nota come *Funzione esponenziale normalizzata*) comprime un vettore $k$-dimensionale di valori reali arbitrari in un vettore $k$-dimensionale di valori compresi in un intervallo [0,1] la cui somma è 1.  \n",
    "    <img src=\"./src/img/softmax.png\" width=\"50%\"/>\n"
   ]
  },
  {
   "cell_type": "markdown",
   "metadata": {},
   "source": [
    "### 3.4.2 - Inizializzazione dei pesi\n",
    "L'inizializzazione dei pesi è un aspetto molto importante nella progettazione di una rete neurale: essi incidono in larga misura sulla somma pesata che si accumula in ogni neurone e che viene passata in input alla sua funzione di attivazione, determinando anche la misura in cui l'informazione passa da un layer al successivo.\n",
    "\n",
    "I modelli di reti neurali vengono addestrati mediante l'algoritmo di ottimizzazione noto come **discesa del gradiente**, che modifica iterativamente i pesi della rete con l'obiettivo di minimizzare una funzione di costo: alla fine dell'addestramento, si giunge a quella combinazione di pesi che permettono alla rete di avere una certa performance nelle previsioni.\n",
    "L'algoritmo di ottimizzazione richiede un punto di partenza nello spazio dei possibili valori dei pesi e spesso la sua velocità di convergenza o effettiva convergenza è fortemente determinata dall'inizializzazione iniziale dei pesi.\n",
    "\n",
    "In letteratura, si suggeriscono diverse funzioni di inizializzazione a seconda della funzione di attivazione del layer in oggetto:\n",
    "- con ReLU o Leaky ReLU, è consigliato il metodo di inizializzazione **He** che calcola i pesi a partire dalla distribuzione di probabilità gaussiana con media 0 e deviazione standard pari a $\\sqrt{\\frac{2}{n}}$, con $n$ il numero di input che arrivano al neurone;\n",
    "    - conseguentemente, l'altezza della gaussiana dipende dal numero di input che il neurone riceve: all'aumentare del numero di questi input, l'altezza aumenta e la gaussiana si restringe, diminuendo la probabilità di avere pesi alti. Così i neuroni tendono meno a saturare, permettendo alla rete di raggiungere il massimo dell'accuratezza in meno tempo. Infatti, tale accorgimento non migliora l'accuratezza, ma solo il tempo che la rete impiega a raggiungere quella massima;\n",
    "    \n",
    "<img src=\"./src/img/He.png\" width=\"50%\"/>\n",
    "\n",
    "- con Sigmoid o Tanh, inizializzazione **Glorot** (anche nota *Xavier*, dal nome di *Xavier Glorot*, un ricercatore presso Google DeepMind): questo metodo, per ogni neurone, calcola i diversi pesi da una distribuzione di probabilità uniforme che ha come dominio l'intervallo $[-\\frac{1}{\\sqrt{n}}, \\frac{1}{\\sqrt{n}}]$, con $n$ il numero di input che arrivano al neurone considerato;\n",
    "    - l'immagine seguente mostra il restringersi del range in cui cadono tali pesi (nell'ordinata) all'aumentare del numero di input entranti nel neurone (nell'ascissa);\n",
    "    \n",
    "<img src=\"./src/img/Xavier.png\" width=\"50%\"/>\n",
    "\n",
    "- esiste anche una variante di **Glorot**, chiamata **Normalized Xavier Weight Initialization**: essa estrae i valori da una distribuzione di probabilità uniforme, tuttavia il suo dominio è l'intervallo $[-\\frac{\\sqrt{6}}{\\sqrt{n + m}}, \\frac{\\sqrt{6}}{\\sqrt{n + m}}]$, con $n$ il numero di input al nodo in oggetto (in ascissa), $m$ il numero di output del layer di cui fa parte quel neurone (ossia il numero di neuroni di quel layer).\n",
    "    \n",
    "\n",
    "<img src=\"./src/img/Normalized_Xavier.png\" width=\"50%\"/>\n",
    "\n",
    "    "
   ]
  },
  {
   "cell_type": "code",
   "execution_count": 51,
   "metadata": {},
   "outputs": [],
   "source": [
    "preprocessed = tf.concat(preprocessed_features, axis=-1) # Tensore\n",
    "\n",
    "preprocessor = tf.keras.Model(input_layers, preprocessed) # Tanti input layer quante le feature\n",
    "\n",
    "# inizializzatore che verrà usato per i pesi dei layer con ReLU / LeakyReLU\n",
    "initializer_hidden_layer = tf.keras.initializers.HeNormal(seed=19)\n",
    "# inizializzatore che verrà usato per i pesi dei layer con sigmoid\n",
    "initializer_output_layer = tf.keras.initializers.GlorotNormal(seed=19)"
   ]
  },
  {
   "cell_type": "markdown",
   "metadata": {},
   "source": [
    "### 3.4.3 - Regolarizzazione per evitare overfitting\n",
    "Si ha **overfitting** ogniqualvolta il modello apprende i dati troppo bene, ossia ne incamera il rumore statistico: conseguentemente, il modello presenta un *alto errore di generalizzazione* (scarse performance quando il modello è valutato su dati nuovi, come quelli dell'insieme di test).\n",
    "Il rischio di overfitting si fa più concreto quando la cardinalità del training set è bassa e/o la rete neurale è molto grande.\n",
    "\n",
    "Per ridurre al minimo il rischio di overfitting, vi sono molti metodi di **regolarizzazione**, tra cui il **dropout**: esso approssima l'addestramento in parallelo di un gran numero di reti neurali con architetture differenti; consiste nell'assegnare ad ogni neurone di un certo layer una probabilità $1-p$ che sia ignorato e $p$ che non sia ignorato, per cui si concretizza in un sottocampionamento degli output dei vari layer.\n",
    "La probabilità $p$ viene settato a livello del singolo layer; in letteratura, sono suggeriti valori prossimi a 0.5 per i layer nascosti e prossimi a 1 per i layer visibili, mentre di non settare alcun dropout per il layer di output. Noi abbiamo rispettato tali suggerimenti, come è possibile constatare nel codice che segue.\n",
    "\n",
    "Un effetto collaterale del dropout è la riduzione della capacità rappresentativa della rete, per cui è conveniente solo a fronte di reti neurali grandi: nel caso la rete abbia dimensioni modeste, occorre aumentarne prima l'ampiezza e la profondità e poi settare il dropout ai vari layer. Questo motivo è alla base della nostra scelta di raddoppiare i valori di default degli iperparametri relativi al numero di layer e al numero di neuroni nelle configurazioni in cui è presente il dropout. \n"
   ]
  },
  {
   "cell_type": "markdown",
   "metadata": {},
   "source": [
    "### 3.4.4 - Batch Normalization\n",
    "Tra le innumerevoli architetture esperite, ve ne sono state alcune con un alto numero di hidden layer, nell'ordine delle decine; avendo riscontrato significativi rallentamenti nell'addestramento, abbiamo effettuato diverse ricerche in seguito alle quali abbiamo scoperto la **batch normalization**: trattasi di una tecnica che standardizza gli input al layer cui è applicata per ogni mini-batch di addestramento. In questo modo, i valori in input sono minori e centrati, quindi manipolabili in maniera più agevole: conseguentemente il processo di apprendimento risulta essere più stabile e veloce, impiegando un numero di epoche inferiore.  \n",
    "Gli studi a tal proposito in letteratura suggeriscono di sperimentare l'applicazione di tale processo di standardizzazione in tre punti differenti:\n",
    "- tra l'hidden layer e la sua funzione di attivazione;\n",
    "- dopo la funzione di attivazione di un hidden layer;\n",
    "- subito prima del layer di output. "
   ]
  },
  {
   "cell_type": "code",
   "execution_count": 52,
   "metadata": {},
   "outputs": [],
   "source": [
    "body = tf.keras.Sequential()\n",
    "\n",
    "if cfg.DROPOUT_LAYER:\n",
    "    body.add(tf.keras.layers.Dropout(rate=cfg.DROPOUT_INPUT_LAYER_RATE, seed=19))  # aggiunta dropout a layer di input\n",
    "\n",
    "# segue l'aggiunta degli hidden layers\n",
    "for _ in range(cfg.NUMBER_OF_LAYERS):\n",
    "    body.add(tf.keras.layers.Dense(cfg.NEURONS, kernel_initializer=initializer_hidden_layer))\n",
    "\n",
    "    if cfg.BATCH_NORMALIZATION == \"dense_batch_activation\":\n",
    "        body.add(tf.keras.layers.BatchNormalization())\n",
    "\n",
    "    if cfg.ACTIVATION_LAYER == \"leaky_relu\":\n",
    "        body.add(tf.keras.layers.LeakyReLU())\n",
    "    else:\n",
    "        body.add(tf.keras.layers.ReLU())\n",
    "\n",
    "    if cfg.DROPOUT_LAYER:\n",
    "        body.add(tf.keras.layers.Dropout(rate=cfg.DROPOUT_HIDDEN_LAYER_RATE, seed=19))\n",
    "\n",
    "    if cfg.BATCH_NORMALIZATION == \"dense_activation_batch\":\n",
    "        body.add(tf.keras.layers.BatchNormalization())\n",
    "\n",
    "if cfg.BATCH_NORMALIZATION == \"before_output\":\n",
    "    body.add(tf.keras.layers.BatchNormalization())\n",
    "\n",
    "# segue l'aggiunta dell'output layer\n",
    "if cfg.PROBLEM_TYPE == \"classification\":\n",
    "    body.add(tf.keras.layers.Dense(2, activation=\"softmax\", kernel_initializer=initializer_output_layer))\n",
    "else: # cfg.PROBLEM_TYPE == \"regression\" or cfg.PROBLEM_TYPE == \"pure_regression\"\n",
    "    body.add(tf.keras.layers.Dense(1, activation=\"sigmoid\", kernel_initializer=initializer_output_layer))\n",
    "\n",
    "x = preprocessor(input_layers)\n",
    "\n",
    "result = body(x)\n",
    "\n",
    "model = tf.keras.Model(input_layers, result)"
   ]
  },
  {
   "cell_type": "code",
   "execution_count": null,
   "metadata": {},
   "outputs": [],
   "source": [
    "# Visualizzazione tabellare del modello\n",
    "from keras.utils.vis_utils import plot_model\n",
    "model.summary()\n",
    "plot_model(model, show_shapes=True, show_layer_names=True)"
   ]
  },
  {
   "cell_type": "markdown",
   "metadata": {},
   "source": [
    "### 3.4.5 - Funzione di costo e metriche di performance\n",
    "Riguardo alla funzione di costo, abbiamo scelto per il nostro modello la **Cross-entropy**: come riportato dal libro \"Pattern Recognition and Machine Learning\" (2006), utilizzare la cross-entropy piuttosto che la somma dei quadrati come funzione di costo nei problemi di classificazione porta ad un apprendimento più veloce e ad una generalizzazione maggiore.  \n",
    "Trattasi di una misura derivante dal campo della *Teoria dell'informazione*: nella sua accezione più generale, si concretizza nel calcolare la differenza (in termini più precisi, l'entropia totale) tra due distribuzioni di probabilità, dato una variabile aleatoria o un insieme di eventi. Nell'ambito del *Machine Learning*, tali due distribuzioni sono:\n",
    "- la distribuzione della variabile target e\n",
    "- l'approssimazione della distribuzione della variabile target restituita dal predittore.\n",
    "\n",
    "Pertanto, la cross-entropy è un valore positivo indicante l'entropia totale necessaria affinchè i valori della variabile target siano rappresentati/trasmessi mediante la distribuzione approssimata delle predizioni.\n",
    "\n",
    "[<img src=\"./src/img/cross-entropy.png\" width=\"50%\"/>](https://i.stack.imgur.com/gNip2.png)\n",
    "\n",
    "Più le due distribuzioni divergono, maggiore è la cross-entropy: ciò è dovuto all'informazione ( = $-\\log_2{P(x)}$) maggiore a fronte di predizioni molto distanti da 1.\n",
    "\n",
    "[<img src=\"./src/img/information.png\" width=\"50%\"/>](https://i.stack.imgur.com/gNip2.png)\n",
    "\n",
    "A livello implementativo, nel caso il problema in esame sia visto come un problema di:\n",
    "    \n",
    "- **regressione**, l'output compreso nell'intervallo $[0, 1]$ viene valutato con la funzione di costo `BinaryCrossentropy()` poiché ci interessa sapere solamente quando l'output è inferiore del threshold fissato (0.4) oppure maggiore;\n",
    "- **classificazione**, l'output è un vettore con tante componenti quante le classi di output (in questo caso due, \"dropout sì\" e \"dropout no\"), in cui ogni componente è una misura di probabilità di far parte di quella classe, il tutto valutato con la funzione di costo `CategoricalCrossEntropy()`.\n",
    "\n",
    "In seconda analisi, abbiamo pensato di utilizzare come funzione di costo l'**Errore quadratico medio** o **Mean Squared Error** (MSE) che è una misura della discrepanza quadratica media fra i valori della colonna target e le predizioni restituite dal predittore.\n",
    "\n",
    "$MSE = (\\frac{1}{n})\\sum_{i=1}^{n}(y_{i} - \\hat{y}_{i})^{2}$"
   ]
  },
  {
   "cell_type": "code",
   "execution_count": 53,
   "metadata": {},
   "outputs": [],
   "source": [
    "if cfg.PROBLEM_TYPE == \"classification\":\n",
    "    main_metric = tf.keras.metrics.Accuracy(name=\"acc\")\n",
    "    loss_function = tf.keras.losses.CategoricalCrossentropy()\n",
    "elif cfg.PROBLEM_TYPE == \"regression\":\n",
    "    # 0.6 perché dopo il preprocessing, i LIVELLI in [3,4,5] è DROPOUT = True, LIVELLI in [0,1,2] è DROPOUT = False\n",
    "    main_metric = tf.keras.metrics.BinaryAccuracy(name=\"bin_acc\", threshold=0.6)  \n",
    "    loss_function = tf.keras.losses.BinaryCrossentropy()\n",
    "else: # cfg.PROBLEM_TYPE == \"pure_regression\"\n",
    "    main_metric = tf.keras.metrics.MeanAbsoluteError(name=\"mae\")\n",
    "    loss_function = tf.keras.losses.MeanSquaredError()\n",
    "\n",
    "model.compile(optimizer=tf.keras.optimizers.Adam(learning_rate=cfg.LEARNING_RATE),\n",
    "              loss=loss_function,\n",
    "              metrics=[\n",
    "                main_metric,\n",
    "                tf.keras.metrics.FalsePositives(name=\"fp\"),\n",
    "                tf.keras.metrics.FalseNegatives(name=\"fn\"),\n",
    "                tf.keras.metrics.TruePositives(name=\"tp\"),\n",
    "                tf.keras.metrics.TrueNegatives(name=\"tn\"),\n",
    "                tf.keras.metrics.Precision(name=\"prec\"),\n",
    "                tf.keras.metrics.Recall(name=\"rec\")\n",
    "              ])"
   ]
  },
  {
   "cell_type": "markdown",
   "metadata": {},
   "source": [
    "### 3.4.6 - Early stopping\n",
    "Mano a mano che procedavameno nello sperimentare differenti architetture, abbiamo riscontrato qualche dubbio circa il numero giusto di epoche per l'apprendimento.  \n",
    "In effetti, ricerche a tal proposito, hanno evidenziato che trattasi di un iperparametro il cui settaggio è di fondamentale e delicata importanza; in dettaglio, settare:\n",
    "- un numero troppo elevato di epoche, può portare al rischio dell'overfitting del modello sul training set mentre,\n",
    "- un numero troppo basso può essere la causa di un apprendimento troppo grossolano degli schemi celati dietro ai dati.\n",
    "\n",
    "Uno dei metodi suggeriti in letteratura è il c.d. **Early stopping**: esso permette di specificare un numero di epoche arbitrariamente alto, in quanto gestisce l'effettiva fine dell'addestramento sulla base delle variazioni registrate da una certa metrica specificata. \n",
    "Nel caso del nostro progetto abbiamo specificato come metrica da monitorare il valore restituito dalla funzione di costo sul validation set.  \n",
    "Col parametro `mode` specifichiamo la direzione della variazione della metrica da considerarsi come miglioramento.\n",
    "Per evitare che l'addestramento venga stoppato non appena il valore della funzione di costo non migliora (nel caso di specie, migliora sta per diminuisce), abbiamo settato un ulteriore argomento, `patience` che indica il numero di epoche che occorre attendere prima di fermare l'addestramento in caso non ci siano miglioramenti; così facendo, possiamo contemplare la situazione in cui la metrica monitorata sperimenti un plateau o addirittura un peggioramento (nel caso di specie, sta per aumento) per qualche epoca, prima di tornare a migliorare.  \n",
    "Ulteriormente abbiamo settato a `True` il parametro `restore_best_weight`, allo scopo di ripristinare i valori dell'ultima epoca in cui la metrica monitorata è migliorata: questo permette di non evitare che la rete rimanga coi pesi dell'ultima epoca fin cui si è addestrata, grazie al parametro `patience`."
   ]
  },
  {
   "cell_type": "code",
   "execution_count": 54,
   "metadata": {},
   "outputs": [],
   "source": [
    "\"\"\"\n",
    "Definizione dello stopper per evitare che la reti continui ad addestrarsi quando non ci sono miglioramenti della loss \n",
    "(val_loss = funzione di costo sul validation set) per piu' di 5 epoche\n",
    "\"\"\"\n",
    "early_stopper = EarlyStopping(monitor=\"val_loss\",\n",
    "                              patience=5,\n",
    "                              mode=\"min\",\n",
    "                              restore_best_weights=True)"
   ]
  },
  {
   "cell_type": "markdown",
   "metadata": {},
   "source": [
    "### 3.4.7 - Salvataggio del miglior modello\n",
    "Abbiamo provveduto alla definizione di una callback per salvare il modello migliore: il salvataggio avviene in un file con estenzione `.h5` per mezzo del modulo `h5py`.  \n",
    "Così facendo, in via successiva, è possibile caricare il modello in oggetto col codice seguente, fornire degli input e ottenere gli output corrispondenti.\n",
    "\n",
    "```python\n",
    "from keras.models import load_model\n",
    "saved_model = load_model('best_model.h5')\n",
    "```"
   ]
  },
  {
   "cell_type": "code",
   "execution_count": 55,
   "metadata": {},
   "outputs": [],
   "source": [
    "\"\"\"\n",
    "Definizione della callback che permette durante il training di salvare il miglior modello calcolato.\n",
    "\"\"\"\n",
    "model_checkpoint = ModelCheckpoint(\"best_\" + cfg.PROBLEM_TYPE + \".h5\", monitor='val_loss', mode='min', save_best_only=True)"
   ]
  },
  {
   "cell_type": "markdown",
   "metadata": {},
   "source": [
    "### 3.4.8 - Training"
   ]
  },
  {
   "cell_type": "code",
   "execution_count": null,
   "metadata": {},
   "outputs": [],
   "source": [
    "print(\"[Training]\")\n",
    "history = model.fit(ds_training_set,\n",
    "          epochs=cfg.EPOCH,\n",
    "          batch_size=cfg.BATCH_SIZE,\n",
    "          validation_data=ds_validation_set,\n",
    "          callbacks=([early_stopper] if cfg.EARLY_STOPPING else []) + [PlotLossesKeras(), model_checkpoint],\n",
    "          verbose=False)"
   ]
  },
  {
   "cell_type": "markdown",
   "metadata": {},
   "source": [
    "### 3.4.9 - Test"
   ]
  },
  {
   "cell_type": "code",
   "execution_count": null,
   "metadata": {},
   "outputs": [],
   "source": [
    "print(\"[Test]\")\n",
    "score = model.evaluate(ds_test_set)"
   ]
  },
  {
   "cell_type": "code",
   "execution_count": null,
   "metadata": {},
   "outputs": [],
   "source": [
    "print('Results with test dataset')\n",
    "print('Loss:', round(score[0], 4))\n",
    "print('Accuracy:', round(score[1], 4))\n",
    "print('False positives:', int(score[2]))\n",
    "print('False negatives:', int(score[3]))\n",
    "print('True positives:', int(score[4]))\n",
    "print('True negatives:', int(score[5]))\n",
    "print('Precision: ', round(score[6], 4))\n",
    "print('Recall: ', round(score[7], 4))"
   ]
  },
  {
   "cell_type": "markdown",
   "metadata": {},
   "source": [
    "<a id=\"risultati\"></a>\n",
    "# 4 - Risultati ottenuti dall'esecuzione del modello"
   ]
  },
  {
   "cell_type": "markdown",
   "metadata": {},
   "source": [
    "Abbiamo cercato di trovare la configurazione migliore per risolvere questo tipo di problema avviando numerosi job grazie al Cluster HPC del DISI, di cui viene trattato più in dettaglio in [Esecuzione su Cluster HPC](#cluster).\n",
    "\n",
    "Tutte le configurazioni di iperparametri sono state testate vedendo il problema come **regressione**, cercando di predirre o che gli studenti facciano dropout (oppure no) o che ottengano un certo livello in uscita (i.e. colonna LIVELLI) e come **classificazione**, cercando di predirre la probabilità che gli studenti facciano e non facciano dropout.\n",
    "\n",
    "Abbiamo svolto più iterazioni:\n",
    "- la prima è servita a capire quali iperparametri fornivano i risultati più convincenti da usare nella successiva iterazione;\n",
    "- la seconda ha permesso di testare se configurazioni più avanzate con gli iperparametri più importanti scoperti nell'iterazione precedente fornissero risultati migliori;\n",
    "- la terza ci ha permesso di confermare la bontà degli iperparametri trovati alla seconda iterazione."
   ]
  },
  {
   "cell_type": "markdown",
   "metadata": {},
   "source": [
    "## 4.1 - Prima iterazione"
   ]
  },
  {
   "cell_type": "markdown",
   "metadata": {},
   "source": [
    "La configurazione di default (sia per il problema trattato come classificazione che regressione) è la seguente:\n",
    "\n",
    "|Epoche | Neuroni | Batch | Layer lineari (numero, attivazione) | Tasso apprendimento | Dropout | Tecnica riempimento valori nulli | Batch normalization |\n",
    "| :-: | :-: | :-: | :-: | :-: | :-: | :-: | :-: |\n",
    "| 50 | 128 | 32 | 10, Leaky ReLU | 0.001 | No | mediana | No |"
   ]
  },
  {
   "cell_type": "markdown",
   "metadata": {},
   "source": [
    "Nelle tabella che seguono vengono indicati i valori di accuratezza riscontrati e delle note (quando necessario).\n",
    "\n",
    "**N.B.** Solo le celle che differiscono dalla configurazione di default vengono compilate."
   ]
  },
  {
   "cell_type": "markdown",
   "metadata": {},
   "source": [
    "### 4.1.1 - Classificazione"
   ]
  },
  {
   "cell_type": "markdown",
   "metadata": {},
   "source": [
    "\n",
    "\n",
    "| Configurazione | Epoche | Neuroni | Batch | Layer lineari (numero, attivazione) | Tasso apprendimento | Dropout | Tecnica riempimento valori nulli | Batch normalization | Accuratezza in training | Accuratezza in validation | Accuratezza in test | Note aggiuntive |\n",
    "| :-: | :-: | :-: | :-: | :-: | :-: | :-: | :-: | :-: | :-: | :-: | :-: | :-: |\n",
    "| base_model | - | - | - | - | - | - | - | - | 0.3451 | 0.2581 | 0.2809 | - |\n",
    "| batch128 | - | - | 128 | - | - | - | - | - | 0.2990 | 0.1936 | 0.2076 | - |\n",
    "| neurons256 | - | 256 | - | - | - | - | - | - | 0.6569 | 0.3675 | 0.3995 | - |\n",
    "| batch128neurons256 | - | 256 | 128 | - | - | - | - | - | 0.4621 | 0.3638 | 0.3744 | - |\n",
    "| dense5 | - | - | - | 5, Leaky ReLU | - | - | - | - | 0.3202 | 0.1477 | 0.1645 | - |\n",
    "| dense15 | - | - | - | 15, Leaky ReLU | - | - | - | - | 0.5303 | 0.3234 | 0.3038 | - |\n",
    "| dense15 | - | - | - | 15, Leaky ReLU | - | - | - | - | 0.5303 | 0.3234 | 0.3038 | - |\n",
    "| dropout | - | 256 | - | - | - | Sì | - | - | 0.0024 | 0.0000 | 0.0000 | - |\n",
    "| epoch100 | 100 | - | - | - | - | - | - | - | 0.5000 | 0.2945 | 0.3135 | - |\n",
    "| fillmean | - | - | - | - | - | - | media | - | 0.3538 | 0.2022 | 0.2070 | - |\n",
    "| fillremove | - | - | - | - | - | - | rimozione | - | 0.3538 | 0.2022 | 0.2070 | Le colonne con alto tasso di valori nulli vengono rimosse, mentre quelle con un basso tasso vengono rimossi i record con quella feature a null. |\n",
    "| lr001 | - | - | - | - | - | - | - | - | 0.7400 | 0.7131 | 0.6720 | - |\n",
    "| relu | - | - | - | 10, ReLU | - | - | - | - | 0.4603 | 0.1242 | 0.1639 | - |"
   ]
  },
  {
   "cell_type": "markdown",
   "metadata": {},
   "source": [
    "### 4.1.2 - Regressione (dropout)"
   ]
  },
  {
   "cell_type": "markdown",
   "metadata": {},
   "source": [
    "| Configurazione | Epoche | Neuroni | Batch | Layer lineari (numero, attivazione) | Tasso apprendimento | Dropout | Tecnica riempimento valori nulli | Batch normalization | Accuratezza in training | Accuratezza in validation | Accuratezza in test | Note aggiuntive |\n",
    "| :-: | :-: | :-: | :-: | :-: | :-: | :-: | :-: | :-: | :-: | :-: | :-: | :-: |\n",
    "| base_model | - | - | - | - | - | - | - | - | 0.1975 | 0.1872 | 0.2428 | - |\n",
    "| batch128 | - | - | 128 | - | - | - | - | - | 0.1976 | 0.1901 | 0.2472 | - |\n",
    "| neurons256 | - | 256 | - | - | - | - | - | - | 0.1973 | 0.1873 | 0.2425 | - |\n",
    "| batch128neurons256 | - | 256 | 128 | - | - | - | - | - | 0.1976 | 0.1901 | 0.2463 | - |\n",
    "| dense5 | - | - | - | 5, Leaky ReLU | - | - | - | - | 0.1975 | 0.1857 | 0.2401 | - |\n",
    "| dense15 | - | - | - | 15, Leaky ReLU | - | - | - | - | 0.1975 | 0.1906 | 0.2469 | - |\n",
    "| dropout | - | 256 | - | - | - | Sì | - | - | 0.1906 | 0.1964 | 0.2563 | - |\n",
    "| epoch100 | 100 | - | - | - | - | - | - | - | 0.1975 | 0.1839 | 0.2374 | - |\n",
    "| fillmean | - | - | - | - | - | - | media | - | 0.1975 | 0.1871 | 0.2435 | - |\n",
    "| fillremove | - | - | - | - | - | - | rimozione | - | 0.1869 | 0.1751 | 0.2140 | Le colonne con alto tasso di valori nulli vengono rimosse, mentre quelle con un basso tasso vengono rimossi i record con quella feature a null. |\n",
    "| lr001 | - | - | - | - | - | - | - | - | 0.1497 | 0.0400 | 0.0505 | - |\n",
    "| relu | - | - | - | 10, ReLU | - | - | - | - | 0.1975 | 0.1893 | 0.2453 | - |"
   ]
  },
  {
   "cell_type": "markdown",
   "metadata": {},
   "source": [
    "### 4.1.3 - Regressione (livelli)"
   ]
  },
  {
   "cell_type": "markdown",
   "metadata": {},
   "source": [
    "| Configurazione | Epoche | Neuroni | Batch | Layer lineari (numero, attivazione) | Tasso apprendimento | Dropout | Tecnica riempimento valori nulli | Batch normalization | MAE in training | MAE in validation | MAE in test | Note aggiuntive |\n",
    "| :-: | :-: | :-: | :-: | :-: | :-: | :-: | :-: | :-: | :-: | :-: | :-: | :-: |\n",
    "| base_model | - | - | - | - | - | - | - | - | 0.0160 | 0.1818 | 0.1819 | - |\n",
    "| batch128 | - | - | 128 | - | - | - | - | - | 0.0116 | 0.1754 | 0.1769 | - |\n",
    "| neurons256 | - | 256 | - | - | - | - | - | - | 0.4396 | 0.4385 | 0.3604 | - |\n",
    "| batch128neurons256 | - | 256 | 128 | - | - | - | - | - | 0.4651 | 0.4630 | 0.4787 | - |\n",
    "| dense5 | - | - | - | 5, Leaky ReLU | - | - | - | - | 0.0176 | 0.1785 | 0.1824 | - |\n",
    "| dense15 | - | - | - | 15, Leaky ReLU | - | - | - | - | 0.6443 | 0.6179 | 0.6035 | - |\n",
    "| dropout | - | 256 | - | - | - | Sì | - | - | 0.3995 | 0.3680 | 0.3596 | - |\n",
    "| epoch100 | 100 | - | - | - | - | - | - | - | 0.0154 | 0.1801 | 0.1812 | - |\n",
    "| fillmean | - | - | - | - | - | - | media | - | 0.0146 | 0.1808 | 0.1841 | - |\n",
    "| fillremove | - | - | - | - | - | - | rimozione | - | 0.0171 | 0.1792 | 0.1807 | Le colonne con alto tasso di valori nulli vengono rimosse, mentre quelle con un basso tasso vengono rimossi i record con quella feature a null. |\n",
    "| lr001 | - | - | - | - | - | - | - | - | 0.4413 | 0.4398 | 0.3614 | - |\n",
    "| relu | - | - | - | 10, ReLU | - | - | - | - | 0.0111 | 0.1791 | 0.1824 | - |"
   ]
  },
  {
   "cell_type": "markdown",
   "metadata": {},
   "source": [
    "## 4.2 - Seconda iterazione\n",
    "\n",
    "Analizzando le tabelle della prima iterazione osserviamo che gli iperparametri più importanti sono il numero dei neuroni, il numero di hidden layer e il learning rate.\n",
    "\n",
    "Per questa ragione, abbiamo ideato delle configurazioni con decisamente più neuroni e learning rate più elevati, tenendo però più basso il numero di hidden layer, ottenendo i risultati che seguono. "
   ]
  },
  {
   "cell_type": "markdown",
   "metadata": {},
   "source": [
    "### 4.2.1 - Classificazione"
   ]
  },
  {
   "cell_type": "markdown",
   "metadata": {},
   "source": [
    "| Configurazione | Epoche | Neuroni | Batch | Layer lineari (numero, attivazione) | Tasso apprendimento | Dropout | Tecnica riempimento valori nulli | Batch normalization | Accuratezza in training | Accuratezza in validation | Accuratezza in test | Note aggiuntive |\n",
    "| :-: | :-: | :-: | :-: | :-: | :-: | :-: | :-: | :-: | :-: | :-: | :-: | :-: |\n",
    "| 512N_001LR | - | 512 | - | - | 0.01 | - | - | - | 0.7292 | 0.6546 | 0.7322 | - |\n",
    "| 512N_7L_01LR_DrTrue | - | 512 | - | 7, Leaky ReLU | 0.1 | Sì | - | - | 0.5803 | 0.5965 | 0.4735 | - |\n",
    "| 512N_7L_001LR | - | 512 | - | - | 7, Leaky ReLU | 0.01 | - | - | 0.7561 | 0.6419 | 0.5438 | - |\n",
    "| 512N_7L_001LR_DrTrue | - | - | - | 7, Leaky ReLU | 0.01 | Sì | - | - | 0.5782 | 0.5473 | 0.4065 | - |\n",
    "| before_output | - | - | - | - | - | - | - | Prima del layer di output | $1.8430 \\cdot 10^-4$ | $6.7003 \\cdot 10^-5$ | $7.3082 \\cdot 10^-5$ | - |\n",
    "| dense_activation_batch | - | - | - | - | - | - | - | ... | 0.1437 | 0.0710 | 0.0659 | - |\n",
    "| dense_batch_activation | - | - | - | - | - | - | - | ... | 0.1307 | 0.0809 | 0.0900 | - |"
   ]
  },
  {
   "cell_type": "markdown",
   "metadata": {},
   "source": [
    "### 4.2.2 - Regressione (dropout)"
   ]
  },
  {
   "cell_type": "markdown",
   "metadata": {},
   "source": [
    "| Configurazione | Epoche | Neuroni | Batch | Layer lineari (numero, attivazione) | Tasso apprendimento | Dropout | Tecnica riempimento valori nulli | Batch normalization | Accuratezza in training | Accuratezza in validation | Accuratezza in test | Note aggiuntive |\n",
    "| :-: | :-: | :-: | :-: | :-: | :-: | :-: | :-: | :-: | :-: | :-: | :-: | :-: |\n",
    "| 512N_001LR | - | 512 | - | - | 0.01 | - | - | - | 0.1550 | 0.1637 | 0.2117 | - |\n",
    "| 512N_7L_01LR_DrTrue | - | 512 | - | 7, Leaky ReLU | 0.1 | Sì | - | - | 0.1155 | 0.1964 | 0.2562 | - |\n",
    "| 512N_7L_001LR | - | 512 | - | - | 7, Leaky ReLU | 0.01 | - | - | 0.1534 | 0.1963 | 0.2562 | - |\n",
    "| 512N_7L_001LR_DrTrue | - | - | - | 7, Leaky ReLU | 0.01 | Sì | - | - | 0.1168 | 0.0033 | 0.0019 | - |\n",
    "| before_output | - | - | - | - | - | - | - | Prima del layer di output | 0.1975 | 0.1817 | 0.2352 | - |\n",
    "| dense_activation_batch | - | - | - | - | - | - | - | ... | 0.1975 | 0.1923 | 0.2504 | - |\n",
    "| dense_batch_activation | - | - | - | - | - | - | - | ... | 0.1975 | 0.1862 | 0.2413 | - |"
   ]
  },
  {
   "cell_type": "markdown",
   "metadata": {},
   "source": [
    "### 4.2.3 - Regressione (livelli)"
   ]
  },
  {
   "cell_type": "markdown",
   "metadata": {},
   "source": [
    "| Configurazione | Epoche | Neuroni | Batch | Layer lineari (numero, attivazione) | Tasso apprendimento | Dropout | Tecnica riempimento valori nulli | Batch normalization | MAE in training | MAE in validation | MAE in test | Note aggiuntive |\n",
    "| :-: | :-: | :-: | :-: | :-: | :-: | :-: | :-: | :-: | :-: | :-: | :-: | :-: |\n",
    "| 512N_001LR | - | 512 | - | - | 0.01 | - | - | - | 0.4413 | 0.4398 | 0.3614 | - |\n",
    "| 512N_7L_01LR_DrTrue | - | 512 | - | 7, Leaky ReLU | 0.1 | Sì | - | - | 0.4413 | 0.4398 | 0.3614 | - |\n",
    "| 512N_7L_001LR | - | 512 | - | - | 7, Leaky ReLU | 0.01 | - | - | 0.4413 | 0.4398 | 0.3614 | - |\n",
    "| 512N_7L_001LR_DrTrue | - | - | - | 7, Leaky ReLU | 0.01 | Sì | - | - | 0.4667 | 0.4305 | 0.3551 | - |\n",
    "| before_output | - | - | - | - | - | - | - | Prima del layer di output | 0.0373 | 0.1850 | 0.1876 | - |\n",
    "| dense_activation_batch | - | - | - | - | - | - | - | ... | 0.0477 | 0.1863 | 0.1876 | - |\n",
    "| dense_batch_activation | - | - | - | - | - | - | - | ... | 0.0447 | 0.1832 | 0.1851 | - |"
   ]
  },
  {
   "cell_type": "markdown",
   "metadata": {},
   "source": [
    "## 4.3 - Ultimi tentativi"
   ]
  },
  {
   "cell_type": "markdown",
   "metadata": {},
   "source": [
    "Considerati i buoni risultati ottenuti in particolar modo dalla configurazione chiamata `512N_001LR` abbiamo provato a tenere fisso il numero di neuroni e di aumentare il numero di hidden layer. Al contempo abbiamo provato anche a tenere il learning rate a 0.01 ma il framework Tensorflow non è stato in grado di proseguire per problemi a runtime. Abbiamo quindi provato a ridurre questo tasso fino a 0.005, ovvero la metà di quello desiderato."
   ]
  },
  {
   "cell_type": "markdown",
   "metadata": {},
   "source": [
    "### 4.3.1 - Classificazione"
   ]
  },
  {
   "cell_type": "markdown",
   "metadata": {},
   "source": [
    "| Configurazione | Epoche | Neuroni | Batch | Layer lineari (numero, attivazione) | Tasso apprendimento | Dropout | Tecnica riempimento valori nulli | Batch normalization | Accuratezza in training | Accuratezza in validation | Accuratezza in test | Note aggiuntive |\n",
    "| :-: | :-: | :-: | :-: | :-: | :-: | :-: | :-: | :-: | :-: | :-: | :-: | :-: |\n",
    "| great | - | 512 | - | 15, Leaky ReLU | 0.005 | - | - | - | 0.7230 | 0.7161 | 0.7138 | - |\n",
    "| smotenc | - | - | - | - | - | - | - | - | ND | ND | ND | Dataset diviso in training 50%, validation 25%, test 25%, sampling eseguito con SMOTENC. |"
   ]
  },
  {
   "cell_type": "markdown",
   "metadata": {},
   "source": [
    "### 4.3.2 - Regressione (dropout)"
   ]
  },
  {
   "cell_type": "markdown",
   "metadata": {},
   "source": [
    "| Configurazione | Epoche | Neuroni | Batch | Layer lineari (numero, attivazione) | Tasso apprendimento | Dropout | Tecnica riempimento valori nulli | Batch normalization | Accuratezza in training | Accuratezza in validation | Accuratezza in test | Note aggiuntive |\n",
    "| :-: | :-: | :-: | :-: | :-: | :-: | :-: | :-: | :-: | :-: | :-: | :-: | :-: |\n",
    "| great | - | 512 | - | 15, Leaky ReLU | 0.005 | - | - | - | 0.1476 | 0.0955 | 0.1215 | - |\n",
    "| smotenc | - | - | - | - | - | - | - | - | ND | ND | ND | Dataset diviso in training 50%, validation 25%, test 25%, sampling eseguito con SMOTENC. |"
   ]
  },
  {
   "cell_type": "markdown",
   "metadata": {},
   "source": [
    "### 4.3.3 - Regressione (livelli)"
   ]
  },
  {
   "cell_type": "markdown",
   "metadata": {},
   "source": [
    "| Configurazione | Epoche | Neuroni | Batch | Layer lineari (numero, attivazione) | Tasso apprendimento | Dropout | Tecnica riempimento valori nulli | Batch normalization | Accuratezza in training | Accuratezza in validation | Accuratezza in test | Note aggiuntive |\n",
    "| :-: | :-: | :-: | :-: | :-: | :-: | :-: | :-: | :-: | :-: | :-: | :-: | :-: |\n",
    "| great | - | 512 | - | 15, Leaky ReLU | 0.005 | - | - | - | 0.4413 | 0.4398 | 0.3614 | - |\n",
    "| smotenc | - | - | - | - | - | - | - | - | ND | ND | ND | Dataset diviso in training 50%, validation 25%, test 25%, sampling eseguito con SMOTENC. |"
   ]
  },
  {
   "cell_type": "markdown",
   "metadata": {},
   "source": [
    "## 4.4 - Conclusioni\n",
    "\n",
    "Per quanto riguarda il problema di classificazione, nonostante l'aumento di hidden layer notiamo come la configurazione `great` non fornisca risultati particolarmente migliori rispetto a quelli forniti da quella su cui ci eravamo basati, `512N_001LR`, aumentando al contempo il costo computazionale. Possiamo quindi ritenere la configurazione `512N_001LR` come soddisfacente per la risoluzione di questo problema.\n",
    "A scopo illustrativo, mostriamo l'andamento durante il training dell'accuratezza e del valore della funzione di costo.\n",
    "\n",
    "<img src=\"./src/img/512N_001LR/classification/accuracy.png\" widht=\"45%\" />\n",
    "<img src=\"./src/img/512N_001LR/classification/loss.png\" widht=\"45%\" />\n",
    "\n",
    "Per quanto riguarda il problema di regressione sulla colonna target DROPOUT e su quella LIVELLI, non abbiamo purtroppo ottenuto risultati soddisfacenti e per cui non riteniamo opportuno individuare il modello migliore, come fatto per quanto riguarda la classificazione."
   ]
  },
  {
   "cell_type": "markdown",
   "metadata": {},
   "source": [
    "<a id=\"cluster\"></a>\n",
    "# 5 - Esecuzione su Cluster HPC\n",
    "Per via della numerosità e complessità computazionale dei test nella fase di progettazione dell'architettura della rete, abbiamo pensato di usufruire del servizio di High Performance Computing su cluster dipartimentale con GPU offerto dal dipartimento DISI.\n",
    "\n",
    "Dopo aver fatto richiesta, i nostri account istituzionali sono stati abilitati all'accesso ai sistemi dipartimentali e al cluster stesso: la macchina di nostro interesse è `slurm.cs.unibo.it` su cui si trova lo schedulatore del cluster. \n",
    "\n",
    "In dettaglio, il cluster utilizza uno schedulatore [SLURM](https://slurm.schedmd.com/overview.html) per la distribuzione \n",
    "dei job. Pertanto, per effettuare il submit di un job, abbiamo predisposto nella nostra area di lavoro un file di script \n",
    "SLURM contenente le direttive per la configurazione del job di interesse.  \n",
    "Sulla scia delle [raccomandazioni](https://disi.unibo.it/it/dipartimento/servizi-tecnici-e-amministrativi/servizi-informatici/utilizzo-cluster-hpc/unibo.tiles.multi.links_attachments/e7809f6f52644346a912b99dd2280788/@@objects-download/11906a7e3d2345278c0fc5ee68ce7975/file/IstruzioniUsoClusterGPU.pdf) contenute nelle istruzioni consegnateci dai tecnici del DISI, abbiamo proceduto col creare sulla macchina `slurm` un virtual environment \n",
    "Python, in cui, mediante il comando `pip3 install` abbiamo installato le dipendenze necessarie (specificate nel file di testo `requirements.txt`).\n",
    "\n",
    "Abbiamo creato differenti file di script SLURM per le diverse architetture neurali progettate. A titolo di esempio, riportiamo il contenuto dello script di default.\n",
    "\n",
    "```bash\n",
    "#!/bin/bash\n",
    "#SBATCH --job-name=base_model\n",
    "#SBATCH --mail-type=ALL\n",
    "#SBATCH --mail-user=tommaso.azzalin@studio.unibo.it\n",
    "#SBATCH --time=10:00:00\n",
    "#SBATCH --nodes=1\n",
    "#SBATCH --ntasks-per-node=1\n",
    "#SBATCH --output=base_model\n",
    "#SBATCH --gres=gpu:1\n",
    "\n",
    "cd  ../\n",
    "\n",
    ". venv/bin/activate # per attivare il virtual environment python\n",
    "\n",
    "pip3 install -r requirements.txt\n",
    "\n",
    "python3 src/base.py\n",
    "```"
   ]
  },
  {
   "cell_type": "markdown",
   "metadata": {},
   "source": [
    "# 6 - Lavori futuri\n",
    "Abbiamo intenzione di continuare a lavorare a questo progetto, perché riteniamo sia un ottimo banco di prova per maturare nuove conoscenze e competenze relative al Machine Learning. In dettaglio, prevediamo di concentrare gli sforzi futuro lungo le seguenti direzioni:\n",
    "- gestione dello sbilanciamento del training set mediante:\n",
    "    - *SMOTENC* e *K-Means*, in quanto permette di evitare la riduzione di cardinalità del training set che inevitabilmente segue al *random under-sampling*, senza rischiare l'overfitting proprio del *random over-sampling*;\n",
    "    - *Random Weighted Sampling* per internalizzare nell'architettura della rete la gestione dello sbilanciamento;\n",
    "- miglioramento del modello ai fini della regressione."
   ]
  }
 ],
 "metadata": {
  "interpreter": {
   "hash": "dea9b1862afc9acd5187c15b3c157615bc525d15a5086a5de3d47d6af39a43d8"
  },
  "kernelspec": {
   "display_name": "Python 3",
   "language": "python",
   "name": "python3"
  },
  "language_info": {
   "codemirror_mode": {
    "name": "ipython",
    "version": 3
   },
   "file_extension": ".py",
   "mimetype": "text/x-python",
   "name": "python",
   "nbconvert_exporter": "python",
   "pygments_lexer": "ipython3",
   "version": "3.9.7"
  }
 },
 "nbformat": 4,
 "nbformat_minor": 2
}
