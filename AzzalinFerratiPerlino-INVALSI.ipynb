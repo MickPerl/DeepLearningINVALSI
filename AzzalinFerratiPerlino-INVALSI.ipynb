{
 "cells": [
  {
   "cell_type": "markdown",
   "source": [
    "# Modello di deep learning per predizione dropout scolastico su dati INVALSI\r\n",
    "Progetto del corso di **Intelligenza Artificiale**, A.A. 2020/2021\r\n",
    "\r\n",
    "**LM Informatica**, **Alma Mater Studiorum - Università di Bologna**\r\n",
    "\r\n",
    "Realizzato da:\r\n",
    "- Marco Ferrati, matr. 983546\r\n",
    "- Michele Perlino, matr. \r\n",
    "- Tommaso Azzalin, matr. 985911"
   ],
   "metadata": {}
  },
  {
   "cell_type": "markdown",
   "source": [
    "Per info su come formattare Markdown: [clicca qui](https://medium.com/analytics-vidhya/the-ultimate-markdown-guide-for-jupyter-notebook-d5e5abf728fd)."
   ],
   "metadata": {}
  },
  {
   "cell_type": "code",
   "execution_count": null,
   "source": [
    "import re\n",
    "\n",
    "import pandas as pd\n",
    "import numpy as np\n",
    "from sklearn.model_selection import train_test_split\n",
    "import tensorflow as tf\n",
    "from tensorflow.keras.layers.experimental.preprocessing import IntegerLookup\n",
    "from tensorflow.keras.layers.experimental.preprocessing import Normalization\n",
    "from tensorflow.keras.layers.experimental.preprocessing import StringLookup\n",
    "from tensorflow.keras.callbacks import EarlyStopping\n",
    "\n",
    "import src.config as cfg\n",
    "from src.mapping_domande_ambiti_processi import MAPPING_DOMANDE_AMBITI_PROCESSI\n",
    "from src.column_converters import COLUMN_CONVERTERS"
   ],
   "outputs": [],
   "metadata": {}
  },
  {
   "cell_type": "markdown",
   "source": [
    "## Import del dataset originale"
   ],
   "metadata": {}
  },
  {
   "cell_type": "code",
   "execution_count": null,
   "source": [
    "\"\"\"\n",
    "Eseguire per: analisi dataset\n",
    "\"\"\"\n",
    "original_dataset = pd.read_csv(cfg.ORIGINAL_DATASET, sep=';', converters=COLUMN_CONVERTERS)"
   ],
   "outputs": [],
   "metadata": {}
  },
  {
   "cell_type": "markdown",
   "source": [
    "## Analisi dataset originale"
   ],
   "metadata": {}
  },
  {
   "cell_type": "markdown",
   "source": [
    "### Ricerca colonne che abbiano percentuali di valori nulli"
   ],
   "metadata": {}
  },
  {
   "cell_type": "code",
   "execution_count": null,
   "source": [
    "print(\"Columns with high null values percentages:\")\n",
    "for col in original_dataset.columns:\n",
    "    null_values_mean = original_dataset[col].isnull().mean()\n",
    "    if null_values_mean > 0:\n",
    "        print(col, '\\t\\tType: ', original_dataset[col].dtypes, '\\tMissing values:',\n",
    "                original_dataset[col].isnull().mean().round(3))"
   ],
   "outputs": [],
   "metadata": {}
  },
  {
   "cell_type": "code",
   "execution_count": null,
   "source": [
    "columns_with_high_null_values = [\"codice_orario\", \"PesoClasse\", \"PesoScuola\", \"PesoTotale_Matematica\"]\n",
    "columns_with_lower_null_values = [\n",
    "    \"voto_scritto_ita\",  # 0.683\n",
    "    \"voto_scritto_mat\",  # 0.113\n",
    "    \"voto_orale_ita\",  # 0.683\n",
    "    \"voto_orale_mat\"  # 0.114\n",
    "]"
   ],
   "outputs": [],
   "metadata": {}
  },
  {
   "cell_type": "markdown",
   "source": [
    "### Ricerca colonne con valori univoci (o quasi)"
   ],
   "metadata": {}
  },
  {
   "cell_type": "code",
   "execution_count": null,
   "source": [
    "dataset_len = len(original_dataset)\n",
    "print(\"Columns with unique values:\")\n",
    "for col in original_dataset.columns:\n",
    "    unique_vals = original_dataset[col].nunique()\n",
    "    if unique_vals / dataset_len > 0.1:\n",
    "        print(col, \"ratio = \", round(unique_vals / dataset_len, 3))"
   ],
   "outputs": [],
   "metadata": {}
  },
  {
   "cell_type": "code",
   "execution_count": null,
   "source": [
    "columns_with_unique_values = [\"Unnamed: 0\", \"CODICE_STUDENTE\"]"
   ],
   "outputs": [],
   "metadata": {}
  },
  {
   "cell_type": "markdown",
   "source": [
    "### Ricerca colonne con valori sempre uguali"
   ],
   "metadata": {}
  },
  {
   "cell_type": "code",
   "execution_count": null,
   "source": [
    "print(\"Columns with just one value:\")\n",
    "for col in original_dataset.columns:\n",
    "    unique_vals = original_dataset[col].nunique()\n",
    "    if unique_vals == 1:\n",
    "        print(col)"
   ],
   "outputs": [],
   "metadata": {}
  },
  {
   "cell_type": "code",
   "execution_count": null,
   "source": [
    "columns_with_just_one_value = [\"macrotipologia\", \"livello\"]"
   ],
   "outputs": [],
   "metadata": {}
  },
  {
   "cell_type": "markdown",
   "source": [
    "### Rimozione delle colonne superflue"
   ],
   "metadata": {}
  },
  {
   "cell_type": "code",
   "execution_count": null,
   "source": [
    "\"\"\"\n",
    "Eseguire per: analisi dataset\n",
    "\"\"\"\n",
    "cleaned_original_dataset: pd.DataFrame = original_dataset.drop(\n",
    "    columns_with_high_null_values + \n",
    "    columns_with_unique_values + \n",
    "    columns_with_just_one_value, \n",
    "    axis=1\n",
    ")\n",
    "cleaned_original_dataset.to_csv(cfg.CLEANED_DATASET)"
   ],
   "outputs": [],
   "metadata": {}
  },
  {
   "cell_type": "code",
   "execution_count": null,
   "source": [
    "\"\"\"\n",
    "Eseguire per: analisi dataset\n",
    "Attenzione: inutile eseguire se si è eseguita la precedente cella.\n",
    "\"\"\"\n",
    "cleaned_original_dataset = pd.read_csv(cfg.CLEANED_DATASET)"
   ],
   "outputs": [],
   "metadata": {}
  },
  {
   "cell_type": "code",
   "execution_count": null,
   "source": [
    "if \"Unnamed: 0\" in cleaned_original_dataset.columns:\n",
    "    cleaned_original_dataset.drop(\"cleaned_original_dataset\", axis=1, inplace=True)"
   ],
   "outputs": [],
   "metadata": {}
  },
  {
   "cell_type": "markdown",
   "source": [
    "## Generalizzazione dataset per supporto di altre coorti di studenti"
   ],
   "metadata": {}
  },
  {
   "cell_type": "code",
   "execution_count": null,
   "source": [
    "list_ambiti_processi = [AP for val in MAPPING_DOMANDE_AMBITI_PROCESSI.values() for AP in val]\n",
    "ambiti_processi = set(list_ambiti_processi)\n",
    "conteggio_ambiti_processi = {AP: list_ambiti_processi.count(AP) for AP in ambiti_processi}   "
   ],
   "outputs": [],
   "metadata": {}
  },
  {
   "cell_type": "code",
   "execution_count": null,
   "source": [
    "\"\"\"\n",
    "Eseguire per: analisi dataset\n",
    "\"\"\"\n",
    "dataset_with_ambiti_processi = cleaned_original_dataset.copy()\n",
    "for AP in ambiti_processi:\n",
    "    # Aggiunge una colonna al dataset chiamata AP e inizializza tutti i record a 0.0\n",
    "    dataset_with_ambiti_processi[AP] = 0.0"
   ],
   "outputs": [],
   "metadata": {}
  },
  {
   "cell_type": "code",
   "execution_count": null,
   "source": [
    "\"\"\"\n",
    "Eseguire per: rimozione feature sulle domande e aggiunta feature sugli ambiti e processi\n",
    "\"\"\"\n",
    "questions_columns = [col for col in list(cleaned_original_dataset) if re.search(\"^D\\d\", col)]\n",
    "\n",
    "for i, row in dataset_with_ambiti_processi.iterrows():\n",
    "    for question, APs in MAPPING_DOMANDE_AMBITI_PROCESSI.items():\n",
    "        if row[question] == True:\n",
    "            for AP in APs:\n",
    "                dataset_with_ambiti_processi.at[i, AP] += 1 / conteggio_ambiti_processi[AP]\n",
    "\n",
    "dataset_ap = dataset_with_ambiti_processi.drop(questions_columns, axis=1)\n",
    "\n",
    "dataset_ap.to_csv(cfg.CLEANED_DATASET_WITH_AP)"
   ],
   "outputs": [],
   "metadata": {}
  },
  {
   "cell_type": "code",
   "execution_count": null,
   "source": [
    "\"\"\"\n",
    "Eseguire per: rimozione feature sulle domande e aggiunta feature sugli ambiti e processi\n",
    "Attenzione: inutile eseguire se si è eseguita la precedente cella.\n",
    "\"\"\"\n",
    "dataset_ap = pd.read_csv(cfg.CLEANED_DATASET_WITH_AP)"
   ],
   "outputs": [],
   "metadata": {}
  },
  {
   "cell_type": "code",
   "execution_count": null,
   "source": [
    "if \"Unnamed: 0\" in dataset_ap.columns:\n",
    "    dataset_ap.drop(\"Unnamed: 0\", axis=1, inplace=True)"
   ],
   "outputs": [],
   "metadata": {}
  },
  {
   "cell_type": "markdown",
   "source": [
    "## Analisi correlazione fra feature"
   ],
   "metadata": {}
  },
  {
   "cell_type": "code",
   "execution_count": null,
   "source": [
    "corr_matrix = dataset_ap.corr(method='pearson').round(2)\n",
    "corr_matrix.style.background_gradient(cmap='YlOrRd')"
   ],
   "outputs": [],
   "metadata": {}
  },
  {
   "cell_type": "code",
   "execution_count": null,
   "source": [
    "interisting_to_check_if_correlated_columns = [\n",
    "    # Alta correlazione fra voti della stessa materia, abbastanza correlate fra materie diverse\n",
    "    \"voto_scritto_ita\",\n",
    "    \"voto_orale_ita\",\n",
    "    \"voto_scritto_mat\",\n",
    "    \"voto_orale_mat\",\n",
    "    # Correlazione totale, abbastanza correlate con voti\n",
    "    \"pu_ma_gr\",\n",
    "    \"pu_ma_no\"\n",
    "] + list(ambiti_processi)"
   ],
   "outputs": [],
   "metadata": {}
  },
  {
   "cell_type": "code",
   "execution_count": null,
   "source": [
    "check_corr_dataset = dataset_ap[interisting_to_check_if_correlated_columns].corr(method='pearson').round(2)\n",
    "check_corr_dataset.style.background_gradient(cmap='YlOrRd')"
   ],
   "outputs": [],
   "metadata": {}
  },
  {
   "cell_type": "markdown",
   "source": [
    "### Rimozione colonne altamente correlate"
   ],
   "metadata": {}
  },
  {
   "cell_type": "code",
   "execution_count": null,
   "source": [
    "# TODO Rimozione colonne altamente correlate"
   ],
   "outputs": [],
   "metadata": {}
  },
  {
   "cell_type": "markdown",
   "source": [
    "## Analisi dei tipi delle colonne"
   ],
   "metadata": {}
  },
  {
   "cell_type": "code",
   "execution_count": null,
   "source": [
    "print(\"Lista colonne e tipi:\")\n",
    "print(dataset_ap.info())"
   ],
   "outputs": [],
   "metadata": {}
  },
  {
   "cell_type": "code",
   "execution_count": null,
   "source": [
    "continuous_features = columns_with_lower_null_values + \\\n",
    "                      [\"pu_ma_gr\", \"pu_ma_no\", \"Fattore_correzione_new\", \"Cheating\", \"WLE_MAT\", \"WLE_MAT_200\", \"WLE_MAT_200_CORR\",\n",
    "                       \"pu_ma_no_corr\"] + \\\n",
    "                      list(ambiti_processi) # Feature sui voti, feature elencate, ambiti e processi\n",
    "ordinal_features = [\n",
    "    \"n_stud_prev\", \"n_classi_prev\", \"LIVELLI\", \"voto_scritto_mat\", \"voto_orale_mat\"\n",
    "] + ([\"voto_scritto_ita\", \"voto_orale_ita\"] if cfg.FILL_NAN != \"remove\" else []) # se si rimuovono le colonne dei voti di italiano non vanno messe tra le feature\n",
    "int_categorical_features = [\n",
    "    \"CODICE_SCUOLA\", \"CODICE_PLESSO\", \"CODICE_CLASSE\", \"campione\", \"prog\",\n",
    "]\n",
    "str_categorical_features = [\n",
    "    \"sesso\", \"mese\", \"anno\", \"luogo\", \"eta\", \"freq_asilo_nido\", \"freq_scuola_materna\",\n",
    "    \"luogo_padre\", \"titolo_padre\", \"prof_padre\", \"luogo_madre\", \"titolo_madre\", \"prof_madre\",\n",
    "    \"regolarità\", \"cittadinanza\", \"cod_provincia_ISTAT\", \"Nome_reg\",\n",
    "    \"Cod_reg\", \"Areageo_3\", \"Areageo_4\", \"Areageo_5\", \"Areageo_5_Istat\"\n",
    "]\n",
    "bool_features = [\"Pon\"]"
   ],
   "outputs": [],
   "metadata": {}
  },
  {
   "cell_type": "markdown",
   "source": [
    "## Aggiustamento colonne con valori nulli"
   ],
   "metadata": {}
  },
  {
   "cell_type": "code",
   "execution_count": null,
   "source": [
    "dataset_ap[\"sigla_provincia_istat\"].fillna(value=\"ND\", inplace=True)\n",
    "# TODO Trovare un modo migliore per effettuare il rimpiazzo dei non disponibili.\n",
    "dataset_ap[\"sigla_provincia_istat\"].fillna(value=\"ND\", inplace=True)\n",
    "if cfg.FILL_NAN == \"median\":\n",
    "    dataset_ap[\"voto_scritto_ita\"].fillna(value=dataset_ap[\"voto_scritto_ita\"].median(), inplace=True)\n",
    "    dataset_ap[\"voto_orale_ita\"].fillna(value=dataset_ap[\"voto_orale_ita\"].median(), inplace=True)\n",
    "    dataset_ap[\"voto_scritto_mat\"].fillna(value=dataset_ap[\"voto_scritto_mat\"].median(), inplace=True)\n",
    "    dataset_ap[\"voto_orale_mat\"].fillna(value=dataset_ap[\"voto_orale_mat\"].median(), inplace=True)\n",
    "elif cfg.FILL_NAN == \"mean\":\n",
    "    dataset_ap[\"voto_scritto_ita\"].fillna(value=dataset_ap[\"voto_scritto_ita\"].mean(), inplace=True)\n",
    "    dataset_ap[\"voto_orale_ita\"].fillna(value=dataset_ap[\"voto_orale_ita\"].mean(), inplace=True)\n",
    "    dataset_ap[\"voto_scritto_mat\"].fillna(value=dataset_ap[\"voto_scritto_mat\"].mean(), inplace=True)\n",
    "    dataset_ap[\"voto_orale_mat\"].fillna(value=dataset_ap[\"voto_orale_mat\"].mean(), inplace=True)\n",
    "elif cfg.FILL_NAN == \"mode\":\n",
    "    dataset_ap[\"voto_scritto_ita\"].fillna(value=dataset_ap[\"voto_scritto_ita\"].mode(), inplace=True)\n",
    "    dataset_ap[\"voto_orale_ita\"].fillna(value=dataset_ap[\"voto_orale_ita\"].mode(), inplace=True)\n",
    "    dataset_ap[\"voto_scritto_mat\"].fillna(value=dataset_ap[\"voto_scritto_mat\"].mode(), inplace=True)\n",
    "    dataset_ap[\"voto_orale_mat\"].fillna(value=dataset_ap[\"voto_orale_mat\"].mode(), inplace=True)\n",
    "elif cfg.FILL_NAN == \"remove\":\n",
    "    # Rimuovere colonne voti ita\n",
    "    # Rimuovere record con dati nulli in voti mat\n",
    "    dataset_ap.drop([\"voto_scritto_ita\", \"voto_orale_ita\"], axis=1, inplace=True)\n",
    "    dataset_ap.dropna([\"voto_scritto_mat\", \"voto_orale_mat\"], inplace=True)"
   ],
   "outputs": [],
   "metadata": {}
  },
  {
   "cell_type": "markdown",
   "source": [
    "## Suddivisione dataset in training e test"
   ],
   "metadata": {}
  },
  {
   "cell_type": "code",
   "execution_count": null,
   "source": [
    "df_training_set, df_test_set = train_test_split(dataset_ap, test_size=cfg.TEST_SET_PERCENT)"
   ],
   "outputs": [],
   "metadata": {}
  },
  {
   "cell_type": "markdown",
   "source": [
    "## Analisi e risoluzione dello sbilanciamento del dataset"
   ],
   "metadata": {}
  },
  {
   "cell_type": "code",
   "execution_count": null,
   "source": [
    "nr_nodrop, nr_drop = np.bincount(dataset_ap['DROPOUT'])\n",
    "total_records = nr_drop + nr_nodrop\n",
    "print(\n",
    "    f\"Total number of records: {total_records} - \\\n",
    "Total num. DROPOUT: {nr_drop} - \\\n",
    "Total num. NO DROPOUT: {nr_nodrop} - \\\n",
    "Ratio DROPOUT/TOTAL: {round(nr_drop / total_records, 2)} - \\\n",
    "Ratio NO DROPOUT/TOTAL: {round(nr_nodrop / total_records, 2)} - \\\n",
    "Ratio DROPOUT/NO DROPOUT: {round(nr_drop / nr_nodrop, 2)}\"\n",
    ")"
   ],
   "outputs": [],
   "metadata": {}
  },
  {
   "cell_type": "markdown",
   "source": [
    "### Campionamento: Random undersampling o SMOTE"
   ],
   "metadata": {}
  },
  {
   "cell_type": "code",
   "execution_count": null,
   "source": [
    "\"\"\"\n",
    "Eseguire per: campionamento\n",
    "\"\"\"\n",
    "if cfg.SAMPLING_TO_PERFORM == \"random_undersampling\":\n",
    "    # class_nodrop contiene i record della classe sovrarappresentata, ovvero SENZA DROPOUT.\n",
    "    class_nodrop = df_training_set[df_training_set['DROPOUT'] == False]\n",
    "    # class_drop contiene i record della classe sottorappresentata, ovvero CON DROPOUT.\n",
    "    class_drop = df_training_set[df_training_set['DROPOUT'] == True]\n",
    "\n",
    "    # Sotto campionamento di class_drop in modo che abbia stessa cardinalità di class_nodrop\n",
    "    class_nodrop = class_nodrop.sample(len(class_drop))\n",
    "\n",
    "    print(f'Class NO DROPOUT: {len(class_nodrop):,}')\n",
    "    print(f'Classe DROPOUT: {len(class_drop):,}')\n",
    "\n",
    "    df_training_set = class_drop.append(class_nodrop)\n",
    "    df_training_set = df_training_set.sample(frac=1)\n",
    "elif cfg.SAMPLING_TO_PERFORM == \"SMOTE\":\n",
    "    print(\"SMOTE not yet implemented\")\n",
    "else:\n",
    "    print(f\"SAMPLING_TO_PERFORM = {cfg.SAMPLING_TO_PERFORM} not recognized.\")"
   ],
   "outputs": [],
   "metadata": {}
  },
  {
   "cell_type": "code",
   "execution_count": null,
   "source": [
    "if \"Unnamed: 0\" in df_training_set.columns:\n",
    "    df_training_set.drop(\"Unnamed: 0\", axis=1, inplace=True)"
   ],
   "outputs": [],
   "metadata": {}
  },
  {
   "cell_type": "markdown",
   "source": [
    "## Preprocessing per creazione del modello di Deep Learning"
   ],
   "metadata": {}
  },
  {
   "cell_type": "markdown",
   "source": [
    "### Suddivisione del dataset in training e test"
   ],
   "metadata": {}
  },
  {
   "cell_type": "code",
   "execution_count": null,
   "source": [
    "df_training_set, df_validation_set = train_test_split(df_training_set, test_size=cfg.VALIDATION_SET_PERCENT)"
   ],
   "outputs": [],
   "metadata": {}
  },
  {
   "cell_type": "markdown",
   "source": [
    "### Conversione dei dati da DataFrame (Pandas) a Dataset (Tensorflow/Keras)"
   ],
   "metadata": {}
  },
  {
   "cell_type": "code",
   "execution_count": null,
   "source": [
    "def pd_dataframe_to_tf_dataset(dataframe: pd.DataFrame):\n",
    "    copied_df = dataframe.copy()\n",
    "    dropout_col = copied_df.pop(\"DROPOUT\")\n",
    "    \"\"\"\n",
    "    Dato che il dataframe ha dati eterogenei lo convertiamo a dizionario,\n",
    "    in cui le chiavi sono i nomi delle colonne e i valori sono i valori della colonna.\n",
    "    Infine bisogna indicare la colonna target.\n",
    "    \"\"\"\n",
    "    tf_dataset = tf.data.Dataset.from_tensor_slices((dict(copied_df), dropout_col))\n",
    "    tf_dataset = tf_dataset.shuffle(buffer_size=len(copied_df))\n",
    "    return tf_dataset"
   ],
   "outputs": [],
   "metadata": {}
  },
  {
   "cell_type": "code",
   "execution_count": null,
   "source": [
    "ds_training_set = pd_dataframe_to_tf_dataset(df_training_set)\n",
    "ds_validation_set = pd_dataframe_to_tf_dataset(df_validation_set)\n",
    "ds_test_set = pd_dataframe_to_tf_dataset(df_test_set)"
   ],
   "outputs": [],
   "metadata": {}
  },
  {
   "cell_type": "markdown",
   "source": [
    "### Suddivisione del dataset in batch"
   ],
   "metadata": {}
  },
  {
   "cell_type": "code",
   "execution_count": null,
   "source": [
    "ds_training_set = ds_training_set.batch(cfg.BATCH_SIZE, drop_remainder=True)\n",
    "ds_validation_set = ds_validation_set.batch(cfg.BATCH_SIZE, drop_remainder=True)\n",
    "ds_test_set = ds_test_set.batch(cfg.BATCH_SIZE, drop_remainder=True)"
   ],
   "outputs": [],
   "metadata": {}
  },
  {
   "cell_type": "markdown",
   "source": [
    "### Creazione dei layer di input per ogni feature"
   ],
   "metadata": {}
  },
  {
   "cell_type": "code",
   "execution_count": null,
   "source": [
    "input_layers = {}\n",
    "for name, column in df_training_set.items():\n",
    "    if name == \"DROPOUT\":\n",
    "        continue\n",
    "\n",
    "    if name in continuous_features:\n",
    "        dtype = tf.float32\n",
    "    elif name in ordinal_features or name in int_categorical_features or name in bool_features:\n",
    "        dtype = tf.int64\n",
    "    else:  # str_categorical_features\n",
    "        dtype = tf.string\n",
    "\n",
    "    input_layers[name] = tf.keras.Input(shape=(), name=name, dtype=dtype)"
   ],
   "outputs": [],
   "metadata": {}
  },
  {
   "cell_type": "markdown",
   "source": [
    "### Encoding delle feature in base al loro tipo"
   ],
   "metadata": {}
  },
  {
   "cell_type": "code",
   "execution_count": null,
   "source": [
    "preprocessed_features = []\n",
    "\n",
    "def stack_dict(inputs, fun=tf.stack):\n",
    "    values = []\n",
    "    for key in sorted(inputs.keys()):\n",
    "        values.append(tf.cast(inputs[key], tf.float32))\n",
    "\n",
    "    return fun(values, axis=-1)"
   ],
   "outputs": [],
   "metadata": {}
  },
  {
   "cell_type": "code",
   "execution_count": null,
   "source": [
    "# Preprocessing colonne con dati booleani\n",
    "for name in bool_features:\n",
    "    inp = input_layers[name]\n",
    "    inp = inp[:, tf.newaxis]\n",
    "    float_value = tf.cast(inp, tf.float32)\n",
    "    preprocessed_features.append(float_value)"
   ],
   "outputs": [],
   "metadata": {}
  },
  {
   "cell_type": "code",
   "execution_count": null,
   "source": [
    "# Preprocessing colonne con dati interi ordinali\n",
    "ordinal_inputs = {}\n",
    "for name in ordinal_features:\n",
    "    ordinal_inputs[name] = input_layers[name]\n",
    "\n",
    "normalizer = Normalization(axis=-1)\n",
    "normalizer.adapt(stack_dict(dict(df_training_set[ordinal_features])))\n",
    "ordinal_inputs = stack_dict(ordinal_inputs)\n",
    "ordinal_normalized = normalizer(ordinal_inputs)\n",
    "preprocessed_features.append(ordinal_normalized)"
   ],
   "outputs": [],
   "metadata": {}
  },
  {
   "cell_type": "code",
   "execution_count": null,
   "source": [
    "# Preprocessing colonne con dati continui\n",
    "continuous_inputs = {}\n",
    "for name in continuous_features:\n",
    "    continuous_inputs[name] = input_layers[name]\n",
    "\n",
    "normalizer = Normalization(axis=-1)\n",
    "normalizer.adapt(stack_dict(dict(df_training_set[continuous_features])))\n",
    "continuous_inputs = stack_dict(continuous_inputs)\n",
    "continuous_normalized = normalizer(continuous_inputs)\n",
    "preprocessed_features.append(continuous_normalized)"
   ],
   "outputs": [],
   "metadata": {}
  },
  {
   "cell_type": "code",
   "execution_count": null,
   "source": [
    "# Preprocessing colonne con dati categorici stringa\n",
    "for name in str_categorical_features:\n",
    "    vocab = sorted(set(df_training_set[name]))\n",
    "\n",
    "    lookup = StringLookup(vocabulary=vocab, output_mode='one_hot')\n",
    "\n",
    "    x = input_layers[name][:, tf.newaxis]\n",
    "    x = lookup(x)\n",
    "\n",
    "    preprocessed_features.append(x)"
   ],
   "outputs": [],
   "metadata": {}
  },
  {
   "cell_type": "code",
   "execution_count": null,
   "source": [
    "# Preprocessing colonne con dati categorici interi\n",
    "for name in int_categorical_features:\n",
    "    vocab = sorted(set(df_training_set[name]))\n",
    "\n",
    "    lookup = IntegerLookup(vocabulary=vocab, output_mode='one_hot')\n",
    "\n",
    "    x = input_layers[name][:, tf.newaxis]\n",
    "    x = lookup(x)\n",
    "\n",
    "    preprocessed_features.append(x)"
   ],
   "outputs": [],
   "metadata": {}
  },
  {
   "cell_type": "markdown",
   "source": [
    "### Assemblaggio dei vari layer e creazione del modello"
   ],
   "metadata": {}
  },
  {
   "cell_type": "code",
   "execution_count": null,
   "source": [
    "# initializer = tf.keras.initializers.glorot_uniform(seed=19)\n",
    "\n",
    "preprocessed = tf.concat(preprocessed_features, axis=-1)\n",
    "\n",
    "preprocessor = tf.keras.Model(input_layers, preprocessed)\n",
    "\n",
    "\"\"\"\n",
    "body = tf.keras.Sequential(\n",
    "    [tf.keras.layers.Dense(cfg.NEURONS, activation=cfg.DENSE_LAYER_ACTIVATION) for _ in range(cfg.NUMBER_OF_LAYERS)] +\n",
    "    [tf.keras.layers.Dropout(cfg.DROPOUT_LAYER_RATE)] if cfg.DROPOUT_LAYER else [] +\n",
    "    [tf.keras.layers.Dense(1, activation=cfg.OUTPUT_ACTIVATION_FUNCTION)]\n",
    ")\n",
    "\"\"\"\n",
    "body = tf.keras.Sequential()\n",
    "for _ in range(cfg.NUMBER_OF_LAYERS):\n",
    "    if cfg.LEAKY_RELU:\n",
    "        body.add(tf.keras.layers.Dense(cfg.NEURONS))\n",
    "        body.add(tf.keras.layers.LeakyReLU())\n",
    "    else:\n",
    "        body.add(tf.keras.layers.Dense(cfg.NEURONS, activation=cfg.DENSE_LAYER_ACTIVATION))\n",
    "if cfg.DROPOUT_LAYER:\n",
    "    body.add(tf.keras.layers.Dropout(cfg.DROPOUT_LAYER_RATE))\n",
    "body.add(tf.keras.layers.Dense(1, activation=cfg.OUTPUT_ACTIVATION_FUNCTION))\n",
    "\n",
    "x = preprocessor(input_layers)\n",
    "\n",
    "result = body(x)\n",
    "\n",
    "model = tf.keras.Model(input_layers, result)"
   ],
   "outputs": [],
   "metadata": {}
  },
  {
   "cell_type": "code",
   "execution_count": null,
   "source": [
    "# Visualizzazione tabellare del modello\n",
    "from keras.utils.vis_utils import plot_model\n",
    "model.summary()\n",
    "plot_model(model, show_shapes=True, show_layer_names=True)"
   ],
   "outputs": [],
   "metadata": {}
  },
  {
   "cell_type": "markdown",
   "source": [
    "### Compilazione del modello e scelta delle metriche"
   ],
   "metadata": {}
  },
  {
   "cell_type": "code",
   "execution_count": null,
   "source": [
    "model.compile(optimizer=tf.keras.optimizers.Adam(learning_rate=cfg.LEARNING_RATE),\n",
    "              loss=tf.losses.BinaryCrossentropy(),\n",
    "              metrics=[\n",
    "                  tf.metrics.Accuracy(),\n",
    "                  tf.metrics.BinaryAccuracy(),\n",
    "                  tf.metrics.Precision(),\n",
    "                  tf.metrics.Recall(),\n",
    "                  tf.metrics.FalseNegatives(),\n",
    "                  tf.metrics.FalsePositives(),\n",
    "                  tf.metrics.TrueNegatives(),\n",
    "                  tf.metrics.TruePositives()])"
   ],
   "outputs": [],
   "metadata": {}
  },
  {
   "cell_type": "markdown",
   "source": [
    "### Early stopping"
   ],
   "metadata": {}
  },
  {
   "cell_type": "code",
   "execution_count": null,
   "source": [
    "\"\"\"\n",
    "Definizione dello stopper per evitare che la reti continui ad addestrarsi quando non ci sono miglioramenti della loss \n",
    "(val_loss = funzione di costo sul validation set) per piu' di 3 epoche\n",
    "\"\"\"\n",
    "early_stopper = EarlyStopping(monitor=\"val_loss\", patience=2)"
   ],
   "outputs": [],
   "metadata": {}
  },
  {
   "cell_type": "markdown",
   "source": [
    "### Training"
   ],
   "metadata": {}
  },
  {
   "cell_type": "code",
   "execution_count": null,
   "source": [
    "model.fit(ds_training_set,\n",
    "          epochs=cfg.EPOCH,\n",
    "          batch_size=cfg.BATCH_SIZE,\n",
    "          validation_data=ds_validation_set,\n",
    "          callbacks=[early_stopper],\n",
    "          verbose=2)"
   ],
   "outputs": [],
   "metadata": {}
  },
  {
   "cell_type": "markdown",
   "source": [
    "### Test"
   ],
   "metadata": {}
  },
  {
   "cell_type": "code",
   "execution_count": null,
   "source": [
    "score = model.evaluate(ds_test_set)"
   ],
   "outputs": [],
   "metadata": {}
  },
  {
   "cell_type": "markdown",
   "source": [
    "## Risultati ottenuti"
   ],
   "metadata": {}
  },
  {
   "cell_type": "markdown",
   "source": [
    "\r\n",
    "| Epoche | Neuroni | Batch | Tecnica di sampling | Layer lineari | Tasso apprendimento | Dropout | Tasso di dropout | Accuratezza in training | Accuratezza in test | Note aggiuntive |\r\n",
    "| :-: | :-: | :-: | :-: | :-: | :-: | :-: | :-: | :-: | :-: | :-: |\r\n",
    "|     10 |     128 |    32 |       Undersampling |            10 |               0.001 |      No |                - |                  0.2339 |              0.2336 | C'erano colonne con alta correlazione. |\r\n",
    "|     50 |     128 |    32 |       Undersampling |            10 |               0.001 |      No |                - |                  0.6938 |              0.6874 | C'erano colonne con alta correlazione. |\r\n",
    "|     50 |     256 |    32 |       Undersampling |            10 |               0.001 |      No |                - |                  0.6944 |              0.6873 | C'erano colonne con alta correlazione. |\r\n",
    "|     50 |     128 |   128 |       Undersampling |            10 |               0.001 |      No |                - |                  0.2386 |              0.2341 | C'erano colonne con alta correlazione. Perché è così pessimo il risultato? |"
   ],
   "metadata": {}
  }
 ],
 "metadata": {
  "orig_nbformat": 4,
  "language_info": {
   "name": "python",
   "version": "3.7.3",
   "mimetype": "text/x-python",
   "codemirror_mode": {
    "name": "ipython",
    "version": 3
   },
   "pygments_lexer": "ipython3",
   "nbconvert_exporter": "python",
   "file_extension": ".py"
  },
  "kernelspec": {
   "name": "python3",
   "display_name": "Python 3.7.3 64-bit ('venv': virtualenv)"
  },
  "interpreter": {
   "hash": "d5eff28add82fd6e8c4693fed40b1715c623a35f94f64d25fc933aca83306cd5"
  }
 },
 "nbformat": 4,
 "nbformat_minor": 2
}