{
  "nbformat": 4,
  "nbformat_minor": 0,
  "metadata": {
    "colab": {
      "name": "ProjectAI.ipynb",
      "provenance": [],
      "collapsed_sections": [],
      "toc_visible": true
    },
    "kernelspec": {
      "display_name": "Python 3",
      "language": "python",
      "name": "python3"
    },
    "language_info": {
      "codemirror_mode": {
        "name": "ipython",
        "version": 3
      },
      "file_extension": ".py",
      "mimetype": "text/x-python",
      "name": "python",
      "nbconvert_exporter": "python",
      "pygments_lexer": "ipython3",
      "version": "3.9.5"
    },
    "accelerator": "GPU"
  },
  "cells": [
    {
      "cell_type": "markdown",
      "metadata": {
        "id": "XDspGgUS55Xo"
      },
      "source": [
        "[![Open In Colab](https://colab.research.google.com/assets/colab-badge.svg)](https://colab.research.google.com/drive/1QPsU3xbgoY25jiMgoWamYhxKLT_iMHYA#scrollTo=XDspGgUS55Xo)"
      ]
    },
    {
      "cell_type": "markdown",
      "metadata": {
        "id": "HkcKgoFzNz6q"
      },
      "source": [
        "# Installazione delle librerie necessarie per l'analisi dei dati"
      ]
    },
    {
      "cell_type": "code",
      "metadata": {
        "colab": {
          "base_uri": "https://localhost:8080/"
        },
        "id": "4edKDd_3aPHe",
        "outputId": "aab81588-7e71-4565-b2e5-33df5f8e2670"
      },
      "source": [
        "!pip install scikit-learn==0.24.2 cluster-over-sampling"
      ],
      "execution_count": null,
      "outputs": [
        {
          "output_type": "stream",
          "text": [
            "Collecting scikit-learn==0.24.2\n",
            "  Downloading scikit_learn-0.24.2-cp37-cp37m-manylinux2010_x86_64.whl (22.3 MB)\n",
            "\u001b[K     |████████████████████████████████| 22.3 MB 1.4 MB/s \n",
            "\u001b[?25hCollecting cluster-over-sampling\n",
            "  Downloading cluster_over_sampling-0.2.6-py3-none-any.whl (32 kB)\n",
            "Requirement already satisfied: numpy>=1.13.3 in /usr/local/lib/python3.7/dist-packages (from scikit-learn==0.24.2) (1.19.5)\n",
            "Requirement already satisfied: joblib>=0.11 in /usr/local/lib/python3.7/dist-packages (from scikit-learn==0.24.2) (1.0.1)\n",
            "Requirement already satisfied: scipy>=0.19.1 in /usr/local/lib/python3.7/dist-packages (from scikit-learn==0.24.2) (1.4.1)\n",
            "Collecting threadpoolctl>=2.0.0\n",
            "  Downloading threadpoolctl-2.2.0-py3-none-any.whl (12 kB)\n",
            "Collecting imbalanced-learn>=0.6.2\n",
            "  Downloading imbalanced_learn-0.8.0-py3-none-any.whl (206 kB)\n",
            "\u001b[K     |████████████████████████████████| 206 kB 60.1 MB/s \n",
            "\u001b[?25hInstalling collected packages: threadpoolctl, scikit-learn, imbalanced-learn, cluster-over-sampling\n",
            "  Attempting uninstall: scikit-learn\n",
            "    Found existing installation: scikit-learn 0.22.2.post1\n",
            "    Uninstalling scikit-learn-0.22.2.post1:\n",
            "      Successfully uninstalled scikit-learn-0.22.2.post1\n",
            "  Attempting uninstall: imbalanced-learn\n",
            "    Found existing installation: imbalanced-learn 0.4.3\n",
            "    Uninstalling imbalanced-learn-0.4.3:\n",
            "      Successfully uninstalled imbalanced-learn-0.4.3\n",
            "Successfully installed cluster-over-sampling-0.2.6 imbalanced-learn-0.8.0 scikit-learn-0.24.2 threadpoolctl-2.2.0\n"
          ],
          "name": "stdout"
        }
      ]
    },
    {
      "cell_type": "markdown",
      "metadata": {
        "id": "NUg8I6hAdzjz"
      },
      "source": [
        "# Import delle librerire fondamentali per l'analisi dei dati"
      ]
    },
    {
      "cell_type": "code",
      "metadata": {
        "id": "dxT1q959d-rL"
      },
      "source": [
        "import pandas as pd\n",
        "import numpy as np\n",
        "import tensorflow as tf\n",
        "from tensorflow import keras\n",
        "from tensorflow.keras import layers\n",
        "import re\n",
        "from sklearn.model_selection import train_test_split"
      ],
      "execution_count": null,
      "outputs": []
    },
    {
      "cell_type": "markdown",
      "metadata": {
        "id": "kcnbPK6Ibq7D"
      },
      "source": [
        "# Ottenimento dataset\n",
        "La variabile `DATASET_PATH` sarà settata con il valore corretto.\n",
        "\n",
        "**Settare a** `True` **la variabile** `from_gdrive` **per accedere al dataset tramite Google Drive. Settarla a** `False`\n",
        "**per accedere al dataset in locale.**"
      ]
    },
    {
      "cell_type": "code",
      "metadata": {
        "colab": {
          "base_uri": "https://localhost:8080/"
        },
        "id": "ICIk29N7Rf88",
        "outputId": "feb3c317-ea8e-46ea-d7d7-96ef60fda5f5"
      },
      "source": [
        "from_gdrive = True\n",
        "if from_gdrive:\n",
        "    from google.colab import drive\n",
        "    drive.mount(\"/content/gdrive\")\n",
        "    %cd gdrive/MyDrive/ProjectAI/\n",
        "    DATASET_PATH = \"Data/invalsi_mat_2014.csv\"\n",
        "else:\n",
        "    DATASET_PATH = \"../invalsi_mat_2014.csv\""
      ],
      "execution_count": null,
      "outputs": [
        {
          "output_type": "stream",
          "text": [
            "Mounted at /content/gdrive\n",
            "/content/gdrive/.shortcut-targets-by-id/1A0bC_-pQ-oWUI2c5-EqQVAZ6051G0tKg/ProjectAI\n"
          ],
          "name": "stdout"
        }
      ]
    },
    {
      "cell_type": "code",
      "metadata": {
        "id": "FGOx3t8pZpnm"
      },
      "source": [
        "in_jupyter_notebook = False\n",
        "if in_jupyter_notebook:\n",
        "    from IPython.core.display import display, HTML\n",
        "    display(HTML(\"<style>.container { width:100% !important; }</style>\"))"
      ],
      "execution_count": null,
      "outputs": []
    },
    {
      "cell_type": "code",
      "metadata": {
        "id": "y19qe5o3xt9x"
      },
      "source": [
        "from_azure = False\n",
        "if from_azure:\n",
        "    from azureml.core import Workspace\n",
        "    from os import environ\n",
        "    #%load_ext dotenv\n",
        "    #%dotenv\n",
        "    # Eseguire export $(cat .env | xargs)\n",
        "    subscription_id = environ.get('subscription_id')\n",
        "    resource_group = environ.get('resource_group')\n",
        "    workspace_name = environ.get('workspace_name')\n",
        "    workspace = Workspace(subscription_id, resource_group, workspace_name)"
      ],
      "execution_count": null,
      "outputs": []
    },
    {
      "cell_type": "markdown",
      "metadata": {
        "id": "ImDtO788e8ZM"
      },
      "source": [
        "## Utility per tipi e conversioni"
      ]
    },
    {
      "cell_type": "code",
      "metadata": {
        "id": "XRNMMf13oGTm"
      },
      "source": [
        "from typing import List, Dict, Tuple\n",
        "string_list = List[str]\n",
        "one_hot_list = Tuple[int]\n",
        "one_hot_encoding_list = Dict[str, one_hot_list]\n",
        "one_hot_encoding_int = Dict[str, int]"
      ],
      "execution_count": null,
      "outputs": []
    },
    {
      "cell_type": "markdown",
      "metadata": {
        "id": "o38E8qc6eCgd"
      },
      "source": [
        "## Mappe e funzioni per conversioni valori del dataset in valori numerici o booleani"
      ]
    },
    {
      "cell_type": "code",
      "metadata": {
        "id": "Ix0xEhejePKl"
      },
      "source": [
        "def from_categorical_to_one_hot_int(categorical_data: string_list) -> one_hot_encoding_int:\n",
        "    dictionary_to_return = {}\n",
        "    for index, key in enumerate(categorical_data):\n",
        "        dictionary_to_return[key] = index\n",
        "    \n",
        "    return dictionary_to_return\n",
        "\n",
        "def from_categorical_to_one_hot_list(categorical_data: string_list) -> one_hot_encoding_list:\n",
        "    dictionary_to_return = {}\n",
        "    indexes = range(len(categorical_data))\n",
        "    for index, key in enumerate(categorical_data):\n",
        "        dictionary_to_return[key] = [1 if index == i else 0 for i in indexes]\n",
        "    \n",
        "    return dictionary_to_return\n",
        "\n",
        "#Features categorica -> One Hot Encoding\n",
        "list_MESI = [\"Gennaio\", \"Febbraio\", \"Marzo\", \"Aprile\", \"Maggio\", \"Giugno\", \"Luglio\", \"Agosto\", \"Settembre\", \"Ottobre\", \"Novembre\", \"Dicembre\", \"Non disponibile\"]\n",
        "MESI = from_categorical_to_one_hot_int(list_MESI)\n",
        "\n",
        "#Features categorica -> One Hot Encoding\n",
        "list_ANNI = [\"2000\", \"2001\", \"1999\", \"1998\", \"<=1997\", \">=2002\", \"Non disponibile\"]\n",
        "ANNI = from_categorical_to_one_hot_int(list_ANNI)\n",
        "\n",
        "#Features categorica -> One Hot Encoding\n",
        "list_ETA = ['Mancante di sistema', 'Non disponibile', '6 anni', '5 anni', '10 anni o più', '2 anni', '1 anno o prima', '9 anni', '8 anni', '4 anni', '7 anni', '3 anni']\n",
        "ETA = from_categorical_to_one_hot_int(list_ETA)\n",
        "\n",
        "def convert_question_result(result: str) -> bool:\n",
        "    return result == \"Corretta\" # alternativamente result == \"Errata\"\n",
        "\n",
        "#Features categorica -> One Hot Encoding\n",
        "list_REGOLARITA = ['Regolare', 'Posticipatario', 'Anticipatario', 'Dato mancante']\n",
        "REGOLARITA = from_categorical_to_one_hot_int(list_REGOLARITA)\n",
        "\n",
        "#Features categorica -> One Hot Encoding\n",
        "list_AREA_GEOGRAFICA_5_ISTAT = ['Sud', 'Nord est', 'Centro', 'Nord ovest', 'Isole']\n",
        "AREA_GEOGRAFICA_5_ISTAT = from_categorical_to_one_hot_int(list_AREA_GEOGRAFICA_5_ISTAT)\n",
        "\n",
        "#Features categorica -> One Hot Encoding\n",
        "list_AREA_GEOGRAFICA_5 = ['Sud', 'Nord est', 'Centro', 'Nord ovest', 'Sud e isole']\n",
        "AREA_GEOGRAFICA_5 = from_categorical_to_one_hot_int(list_AREA_GEOGRAFICA_5)\n",
        "\n",
        "#Features categorica -> One Hot Encoding\n",
        "list_AREA_GEOGRAFICA_4 = ['Mezzogiorno', 'Nord est', 'Centro', 'Nord ovest']\n",
        "AREA_GEOGRAFICA_4 = from_categorical_to_one_hot_int(list_AREA_GEOGRAFICA_4)\n",
        "\n",
        "#Features categorica -> One Hot Encoding\n",
        "list_AREA_GEOGRAFICA_3 = ['Mezzogiorno', 'Nord', 'Centro']\n",
        "AREA_GEOGRAFICA_3 = from_categorical_to_one_hot_int(list_AREA_GEOGRAFICA_3)\n",
        "\n",
        "#Features categorica -> One Hot Encoding\n",
        "list_REGIONI = ['Campania', 'Emilia-Romagna', 'Lazio', 'Piemonte', 'Puglia', 'Lombardia', 'Veneto', 'Sicilia', 'Prov. Aut. Trento', 'Friuli-Venezia Giulia', 'Abruzzo', 'Liguria', 'Toscana', 'Sardegna', 'Calabria', 'Molise', 'Marche', 'Umbria', 'Basilicata', 'Prov. Aut. Bolzano (l. it.)']\n",
        "REGIONI = from_categorical_to_one_hot_int(list_REGIONI)\n",
        "\n",
        "#Features categorica -> One Hot Encoding\n",
        "list_PROVINCE = ['', 'RE', 'FR', 'TO', 'BA', 'CO', 'LE', 'RO', 'CT', 'RM', 'TA', 'BS', 'SA', 'TN', 'UD', 'FG', 'LT', 'AG', 'CH', 'PC', 'TS', 'SR', 'SP', 'PD', 'SI', 'PA', 'TP', 'BO', 'CA', 'CN', 'RC', 'TE', 'MI', 'LC', 'LU', 'FI', 'AQ', 'TV', 'RG', 'VA', 'GO', 'MO', 'GE', 'AL', 'CB', 'PR', 'OR', 'VE', 'MC', 'NO', 'PT', 'MN', 'VR', 'PI', 'AP', 'LO', 'VI', 'SV', 'PU', 'BG', 'AR', 'VT', 'LI', 'SS', 'BR', 'RA', 'TR', 'SO', 'IM', 'PZ', 'GR', 'AN', 'PN', 'ME', 'CR', 'FE', 'BI', 'PV', 'PG', 'VB', 'BL', 'PE', 'CS', 'CZ', 'AV', 'RN', 'CL', 'AT', 'MS', 'KR', 'RI', 'EN', 'CE', 'MT', 'VV', 'VC', 'NU', 'FC', 'PO', 'BZ', 'BN', 'IS', \n",
        "            'NA', # presente in cod_provincia_ISTAT ma non in sigla_provincia_istat\n",
        "            'PS', # presente in cod_provincia_ISTAT ma non in sigla_provincia_istat\n",
        "            'FO', # presente in cod_provincia_ISTAT ma non in sigla_provincia_istat\n",
        "            'LB', # presente in cod_provincia_ISTAT ma non in sigla_provincia_istat\n",
        "]\n",
        "PROVINCE = from_categorical_to_one_hot_int(list_PROVINCE)\n",
        "\n",
        "#Features categorica -> One Hot Encoding\n",
        "list_CITTADINANZA = ['Italiano', 'Straniero II generazione', 'Straniero I generazione', 'Dato mancante']\n",
        "CITTADINANZA = from_categorical_to_one_hot_int(list_CITTADINANZA)\n",
        "\n",
        "list_VOTI_NUMERICI = ['1', '2', '3', '4', '5', '6', '7', '8', '9', '10']\n",
        "def voto_orale_decode(voto_orale: str) -> float:\n",
        "    if voto_orale in list_VOTI_NUMERICI:\n",
        "        return float(voto_orale)\n",
        "    elif voto_orale == 'Non disponibile':\n",
        "        return np.nan\n",
        "    elif voto_orale == 'Non classificato': \n",
        "        return 0.0\n",
        "\n",
        "list_VOTI_NAN = ['Non disponibile', 'Senza voto scritto']\n",
        "def voto_scritto_decode(voto_scritto: str) -> float:\n",
        "    if voto_scritto in list_VOTI_NUMERICI:\n",
        "        return float(voto_scritto)\n",
        "    elif voto_scritto in list_VOTI_NAN:\n",
        "        return np.nan\n",
        "    elif voto_scritto == 'Non classificato': \n",
        "        return 0.0\n",
        "\n",
        "def sesso_to_num(sesso: str) -> int:\n",
        "    return 0 if sesso == \"Maschio\" else 1\n",
        "\n",
        "#Features categorica -> One Hot Encoding\n",
        "list_PROFESSIONI = ['1. Disoccupato/a', '2. Casalingo/a', '3. Dirigente, docente universitario, funzionario o ufficiale militare', '4. Imprenditore/proprietario agricolo', '5. Professionista dipendente, sottuff. militare o libero profession. (medico, av', '6. Lavoratore in proprio (commerciante, coltivatore diretto, artigiano, meccanic', '7. Insegnante, impiegato, militare graduato', '8. Operaio, addetto ai servizi/socio di cooperativa', '9. Pensionato/a', '10. Non disponibile']\n",
        "PROFESSIONI = from_categorical_to_one_hot_int(list_PROFESSIONI)\n",
        "\n",
        "#Features categorica -> One Hot Encoding\n",
        "list_TITOLI = ['1. Licenza elementare', '2. Licenza media', '3. Qualifica professionale triennale', '4. Diploma di maturità', '5. Altro titolo di studio superiore al diploma (I.S.E.F., Accademia di Belle Art', '6. Laurea o titolo superiore (ad esempio Dottorato di Ricerca)', '7. Non disponibile']\n",
        "TITOLI = from_categorical_to_one_hot_int(list_TITOLI)\n",
        "\n",
        "#Features categorica -> One Hot Encoding\n",
        "list_LUOGHI_GENITORI = ['Italia (o Repubblica di San Marino)', 'Unione Europea', 'Paese europeo Non UE', 'Altro', 'Non disponibile']\n",
        "LUOGHI_GENITORI = from_categorical_to_one_hot_int(list_LUOGHI_GENITORI)\n",
        "\n",
        "#Features categorica -> One Hot Encoding\n",
        "list_FREQUENZA_SCUOLA = ['No', 'Sì', 'Non disponibile']\n",
        "FREQUENZA_SCUOLA = from_categorical_to_one_hot_int(list_FREQUENZA_SCUOLA)\n",
        "\n",
        "#Features categorica -> One Hot Encoding\n",
        "list_LUOGO_DI_NASCITA = ['Italia (o Repubblica di San Marino)', 'Unione Europea', 'Paese europeo Non UE', 'Altro', 'Non disponibile']\n",
        "LUOGO_DI_NASCITA = from_categorical_to_one_hot_int(list_LUOGO_DI_NASCITA)"
      ],
      "execution_count": null,
      "outputs": []
    },
    {
      "cell_type": "markdown",
      "metadata": {
        "id": "PB7HCRC7eemV"
      },
      "source": [
        "Definiamo le conversioni che si dovranno eseguire al momento dell'import."
      ]
    },
    {
      "cell_type": "code",
      "metadata": {
        "id": "mTqfUwl0erHM"
      },
      "source": [
        "columns_converters = {\n",
        "    \"CODICE_SCUOLA\": str, #identificativo della scuola (non considerato)\n",
        "    \"CODICE_PLESSO\": str, #identificativo del plesso (non considerato)\n",
        "    \"CODICE_CLASSE\": str, #identificato della classe (non considerato)\n",
        "    \"macrotipologia\": str, #categoria di scuola (non considerato)\n",
        "    \"campione\": int, #campione di riferimento (non considerato)\n",
        "    \"livello\": int, # (non considerato)\n",
        "    \"prog\": int,\n",
        "    \"CODICE_STUDENTE\": str, #codice dello studente (non considerato)\n",
        "    \"sesso\": sesso_to_num, #sesso dello studente\n",
        "    \"mese\": lambda month: MESI[month], #mese di nascita\n",
        "    \"anno\": lambda year: ANNI[year], #anno di nascita\n",
        "    \"luogo\": lambda luogo: LUOGO_DI_NASCITA[luogo],\n",
        "    \"eta\": lambda eta: ETA[eta], # cosa vuol dire eta?\n",
        "    \"codice_orario\": lambda _: np.nan, # unico dato: Mancante di sistema\n",
        "    \"freq_asilo_nido\": lambda frequenza: FREQUENZA_SCUOLA[frequenza],\n",
        "    \"freq_scuola_materna\": lambda frequenza: FREQUENZA_SCUOLA[frequenza],\n",
        "    \"luogo_padre\": lambda luogo: LUOGHI_GENITORI[luogo],\n",
        "    \"titolo_padre\": lambda titolo: TITOLI[titolo],\n",
        "    \"prof_padre\": lambda professione: PROFESSIONI[professione],\n",
        "    \"luogo_madre\": lambda luogo: LUOGHI_GENITORI[luogo],\n",
        "    \"titolo_madre\": lambda titolo: TITOLI[titolo],\n",
        "    \"prof_madre\": lambda professione: PROFESSIONI[professione],\n",
        "    \"voto_scritto_ita\": lambda voto: voto_scritto_decode(voto),\n",
        "    \"voto_orale_ita\": lambda voto: voto_orale_decode(voto),\n",
        "    \"voto_scritto_mat\": lambda voto: voto_scritto_decode(voto),\n",
        "    \"voto_orale_mat\": lambda voto: voto_orale_decode(voto),\n",
        "    \"D1\": lambda result: convert_question_result(result),\n",
        "    \"D2\": lambda result: convert_question_result(result),\n",
        "    \"D3_a\": lambda result: convert_question_result(result),\n",
        "    \"D3_b\": lambda result: convert_question_result(result),\n",
        "    \"D4_a\": lambda result: convert_question_result(result),\n",
        "    \"D4_b\": lambda result: convert_question_result(result),\n",
        "    \"D4_c\": lambda result: convert_question_result(result),\n",
        "    \"D4_d\": lambda result: convert_question_result(result),\n",
        "    \"D5_a\": lambda result: convert_question_result(result),\n",
        "    \"D5_b\": lambda result: convert_question_result(result),\n",
        "    \"D6\": lambda result: convert_question_result(result),\n",
        "    \"D7_a\": lambda result: convert_question_result(result),\n",
        "    \"D7_b\": lambda result: convert_question_result(result),\n",
        "    \"D8\": lambda result: convert_question_result(result),\n",
        "    \"D9\": lambda result: convert_question_result(result),\n",
        "    \"D10_a\": lambda result: convert_question_result(result),\n",
        "    \"D10_b1\": lambda result: convert_question_result(result),\n",
        "    \"D10_b2\": lambda result: convert_question_result(result),\n",
        "    \"D10_b3\": lambda result: convert_question_result(result),\n",
        "    \"D11_a\": lambda result: convert_question_result(result),\n",
        "    \"D11_b\": lambda result: convert_question_result(result),\n",
        "    \"D12_a\": lambda result: convert_question_result(result),\n",
        "    \"D12_b\": lambda result: convert_question_result(result),\n",
        "    \"D13_a\": lambda result: convert_question_result(result),\n",
        "    \"D13_b\": lambda result: convert_question_result(result),\n",
        "    \"D13_c\": lambda result: convert_question_result(result),\n",
        "    \"D14\": lambda result: convert_question_result(result),\n",
        "    \"D15\": lambda result: convert_question_result(result),\n",
        "    \"D16_a\": lambda result: convert_question_result(result),\n",
        "    \"D16_b\": lambda result: convert_question_result(result),\n",
        "    \"D16_c\": lambda result: convert_question_result(result),\n",
        "    \"D16_d\": lambda result: convert_question_result(result),\n",
        "    \"D17_a\": lambda result: convert_question_result(result),\n",
        "    \"D17_b\": lambda result: convert_question_result(result),\n",
        "    \"D18\": lambda result: convert_question_result(result),\n",
        "    \"D19_a\": lambda result: convert_question_result(result),\n",
        "    \"D19_b\": lambda result: convert_question_result(result),\n",
        "    \"D20\": lambda result: convert_question_result(result),\n",
        "    \"D21\": lambda result: convert_question_result(result),\n",
        "    \"D22\": lambda result: convert_question_result(result),\n",
        "    \"D23_a\": lambda result: convert_question_result(result),\n",
        "    \"D23_b\": lambda result: convert_question_result(result),\n",
        "    \"D23_c\": lambda result: convert_question_result(result),\n",
        "    \"D23_d\": lambda result: convert_question_result(result),\n",
        "    \"D24_a\": lambda result: convert_question_result(result),\n",
        "    \"D24_b\": lambda result: convert_question_result(result),\n",
        "    \"D25\": lambda result: convert_question_result(result),\n",
        "    \"D26_a\": lambda result: convert_question_result(result),\n",
        "    \"D26_b\": lambda result: convert_question_result(result),\n",
        "    \"D26_c\": lambda result: convert_question_result(result),\n",
        "    \"D26_d\": lambda result: convert_question_result(result),\n",
        "    \"regolarità\": lambda regular: REGOLARITA[regular],\n",
        "    \"cittadinanza\": lambda cittadinanza: CITTADINANZA[cittadinanza],\n",
        "    \"cod_provincia_ISTAT\": lambda province_istat: PROVINCE[province_istat.upper()],\n",
        "    \"sigla_provincia_istat\": lambda province: PROVINCE[province],\n",
        "    \"Nome_reg\": lambda regione: REGIONI[\" \".join(regione.split())],\n",
        "    \"Cod_reg\": lambda codice: REGIONI[codice],\n",
        "    \"Areageo_3\": lambda area: AREA_GEOGRAFICA_3[area],\n",
        "    \"Areageo_4\": lambda area: AREA_GEOGRAFICA_4[area],\n",
        "    \"Areageo_5\": lambda area: AREA_GEOGRAFICA_5[area],\n",
        "    \"Areageo_5_Istat\": lambda area: AREA_GEOGRAFICA_5_ISTAT[area],\n",
        "    \"Pon\": lambda pon: True if pon == \"Area_Pon\" else False, # lo studente appartiene all'aera Pon oppure no\n",
        "    \"pu_ma_gr\": int,\n",
        "    \"pu_ma_no\": float,\n",
        "    \"Fattore_correzione_new\": float,\n",
        "    \"Cheating\": float,\n",
        "    \"PesoClasse\": lambda val: float(val) if val != \"\" else np.nan, # (non considerato)\n",
        "    \"PesoScuola\": lambda val: float(val) if val != \"\" else np.nan, # (non considerato)\n",
        "    \"PesoTotale_Matematica\": lambda val: float(val) if val != \"\" else np.nan, # (non considerato)\n",
        "    \"WLE_MAT\": float,\n",
        "    \"WLE_MAT_200\": float,\n",
        "    \"WLE_MAT_200_CORR\": float,\n",
        "    \"pu_ma_no_corr\": float,\n",
        "    \"n_stud_prev\": lambda val: int(float(val)),\n",
        "    \"n_classi_prev\": lambda val: int(float(val)),\n",
        "    \"LIVELLI\": int,\n",
        "    \"DROPOUT\": eval\n",
        "}"
      ],
      "execution_count": null,
      "outputs": []
    },
    {
      "cell_type": "markdown",
      "metadata": {
        "id": "Ef9Xh_mJfGPS"
      },
      "source": [
        "## Lettura del dataset"
      ]
    },
    {
      "cell_type": "code",
      "metadata": {
        "id": "POdTrO5WfJpq"
      },
      "source": [
        "if not from_azure:\n",
        "    dataset = pd.read_csv(DATASET_PATH, sep=';', converters=columns_converters)\n",
        "else:\n",
        "    from azureml.core import Workspace, Dataset\n",
        "    dataset = Dataset.get_by_name(workspace, name='invalsi_mat_2014')\n",
        "    dataset = dataset.to_pandas_dataframe()"
      ],
      "execution_count": null,
      "outputs": []
    },
    {
      "cell_type": "markdown",
      "metadata": {
        "id": "fqN-4pz_-lGw"
      },
      "source": [
        "## Verifica per la presenza di variabili categoriche\n",
        "Oltre alle variabili categoriche fin qui trovate si vuole verificare quali discriminano in maniera non significativa le osservazioni."
      ]
    },
    {
      "cell_type": "code",
      "metadata": {
        "colab": {
          "base_uri": "https://localhost:8080/"
        },
        "id": "vplCl4Nq2xLB",
        "outputId": "7605e5fb-3570-4ce9-f1db-d0d3a01bb1a3"
      },
      "source": [
        "# codice che restituisce le colonne che hanno un nr di valori distinti < 4\n",
        "[cname for cname in dataset.columns if dataset[cname].nunique() < 4 and dataset[cname].dtype != \"bool\"]"
      ],
      "execution_count": null,
      "outputs": [
        {
          "output_type": "execute_result",
          "data": {
            "text/plain": [
              "['macrotipologia',\n",
              " 'campione',\n",
              " 'livello',\n",
              " 'sesso',\n",
              " 'codice_orario',\n",
              " 'freq_asilo_nido',\n",
              " 'freq_scuola_materna',\n",
              " 'Areageo_3']"
            ]
          },
          "metadata": {
            "tags": []
          },
          "execution_count": 24
        }
      ]
    },
    {
      "cell_type": "code",
      "metadata": {
        "colab": {
          "base_uri": "https://localhost:8080/"
        },
        "id": "zxGS6Cq14Xjc",
        "outputId": "d6a1ae51-5ad1-41de-9e6f-18641ed6ed33"
      },
      "source": [
        "# codice per ottenere le variabili qualitative/categoriche\n",
        "s = (dataset.dtypes == 'object')\n",
        "object_cols = list(s[s].index)\n",
        "\n",
        "print(\"Categorical variables:\")\n",
        "print(object_cols)"
      ],
      "execution_count": null,
      "outputs": [
        {
          "output_type": "stream",
          "text": [
            "Categorical variables:\n",
            "['CODICE_SCUOLA', 'CODICE_PLESSO', 'CODICE_CLASSE', 'macrotipologia', 'CODICE_STUDENTE']\n"
          ],
          "name": "stdout"
        }
      ]
    },
    {
      "cell_type": "markdown",
      "metadata": {
        "id": "kAMeln9J19au"
      },
      "source": [
        "## Eliminazione colonne superflue\n",
        "Vengono rimosse dal dataset originale tutte quegli attributi che si suppone non abbiano alcuna rilevanza nell'esito della cella DROPOUT.\n",
        "Inoltre, per la compuntazione del clustering ai fini dell'oversampling è necessario rimuovere degli ulteriori attributi poiché ricchi di valori nulli e quindi problematici.\n"
      ]
    },
    {
      "cell_type": "code",
      "metadata": {
        "id": "v4T5s4Yb1_qA",
        "colab": {
          "base_uri": "https://localhost:8080/"
        },
        "outputId": "583e13ce-195f-49da-fb26-9f885dd7b408"
      },
      "source": [
        "columns_to_drop = [\"Unnamed: 0\", # Indice record\n",
        "                   \"CODICE_SCUOLA\",\n",
        "                   \"CODICE_PLESSO\",\n",
        "                   \"CODICE_CLASSE\",\n",
        "                   \"macrotipologia\",\n",
        "                   \"campione\",\n",
        "                   \"livello\",\n",
        "                   \"CODICE_STUDENTE\",\n",
        "                   \"codice_orario\",\n",
        "                   \"PesoClasse\", # potrebbe essere utile?\n",
        "                   \"PesoScuola\", # potrebbe essere utile?\n",
        "                   \"PesoTotale_Matematica\", # potrebbe essere utile?\n",
        "                   ]\n",
        "columns_maybe_to_drop = [\"voto_scritto_ita\", #Ricco di NaN\n",
        "                         \"voto_scritto_mat\",#Ricco di NaN\n",
        "                         \"voto_orale_ita\", # Pochi NaN ma va tolto per cluster-based oversampling\n",
        "                         \"voto_orale_mat\" # Pochi NaN ma va tolto per cluster-based oversampling\n",
        "                        ]\n",
        "for col in columns_maybe_to_drop:\n",
        "   print(\"Percentage of NaN in column: \", col, end=\" \")\n",
        "   print(round(dataset[col].isnull().mean() * 100, 2), \"%\")\n",
        "   \n",
        "dataset = dataset.drop(columns_to_drop + columns_maybe_to_drop, axis=1)"
      ],
      "execution_count": null,
      "outputs": [
        {
          "output_type": "stream",
          "text": [
            "Percentage of NaN in column:  voto_scritto_ita 68.33 %\n",
            "Percentage of NaN in column:  voto_scritto_mat 68.27 %\n",
            "Percentage of NaN in column:  voto_orale_ita 11.3 %\n",
            "Percentage of NaN in column:  voto_orale_mat 11.42 %\n"
          ],
          "name": "stdout"
        }
      ]
    },
    {
      "cell_type": "markdown",
      "metadata": {
        "id": "j3YeO8Ycfx7u"
      },
      "source": [
        "# Matrici correlazione tra domande\n",
        "Con le seguenti matrici di correlazione si cerca di vedere se sono presenti domande fortemente correlate in modo da poterne rimuovere e semplificare una riduzione di dimensionalità."
      ]
    },
    {
      "cell_type": "code",
      "metadata": {
        "id": "6EqG0d5Mf2CO"
      },
      "source": [
        "questions_columns = [col for col in columns_converters.keys() if re.search(\"^D\\d\", col)]\n",
        "questions_dataset = dataset[questions_columns]"
      ],
      "execution_count": null,
      "outputs": []
    },
    {
      "cell_type": "markdown",
      "metadata": {
        "id": "RNEbExY6gQcu"
      },
      "source": [
        "## Standard correlation coefficient (pearson method)"
      ]
    },
    {
      "cell_type": "code",
      "metadata": {
        "id": "pe416QwMgJ6U",
        "scrolled": true
      },
      "source": [
        "questions_correlate_matrix_pearson = questions_dataset.corr(method='pearson').round(2)\n",
        "questions_correlate_matrix_pearson.style.background_gradient(cmap='YlOrRd')"
      ],
      "execution_count": null,
      "outputs": []
    },
    {
      "cell_type": "markdown",
      "metadata": {
        "id": "ABgGSd1tgYej"
      },
      "source": [
        "## Kendall Tau correlation coefficient"
      ]
    },
    {
      "cell_type": "code",
      "metadata": {
        "id": "VN09a_kCgNe0",
        "scrolled": true
      },
      "source": [
        "questions_correlate_matrix_kendall = questions_dataset.corr(method='kendall').round(2)\n",
        "questions_correlate_matrix_kendall.style.background_gradient(cmap='YlOrRd')"
      ],
      "execution_count": null,
      "outputs": []
    },
    {
      "cell_type": "markdown",
      "metadata": {
        "id": "e7wAdEsKgkvg"
      },
      "source": [
        "## Spearman rank correlation"
      ]
    },
    {
      "cell_type": "code",
      "metadata": {
        "id": "gKUli2aEgfZ5",
        "scrolled": true
      },
      "source": [
        "questions_correlate_matrix_spearman = questions_dataset.corr(method='spearman').round(2)\n",
        "questions_correlate_matrix_spearman.style.background_gradient(cmap='YlOrRd')"
      ],
      "execution_count": null,
      "outputs": []
    },
    {
      "cell_type": "markdown",
      "metadata": {
        "id": "JBU9svIjbD9t"
      },
      "source": [
        "## Nota sulle matrici di correlazione ottenute\n",
        "Le **matrici di correlazione sulle domande** non evidenziano significative dipendenze lineari tra di esse: i valori più elevati appaiono in corrispondenza di domande consecutive, il più delle volte parti della stessa domanda (e.g. D7, D3 e D4).  \n",
        "Conseguentemente, **non è possibile realizzare alcuna riduzione di dimensionalità**."
      ]
    },
    {
      "cell_type": "markdown",
      "metadata": {
        "id": "rsdodsx-2kGV"
      },
      "source": [
        "# Rappresentazione delle domande per generalizzazione con coorti diverse\n",
        "Addestrando la rete con le domande non si ottiene nulla di replicabili in coorti successive.\n",
        "E' possibile però trasformare le domande e i risultati dati dagli studenti in altre feature. Ogni domanda dispone infatti di un ambito, uno scopo e un processo.  \n",
        "Per questo motivo le domande vengono trasformate in due modalità:\n",
        "\n",
        "- da domanda a coppia ambito - processo;\n",
        "- da domanda a vettore di termini chiave  estratti tramite Natural Language Processing dallo scopo."
      ]
    },
    {
      "cell_type": "markdown",
      "metadata": {
        "id": "v2LLlA3bC0w8"
      },
      "source": [
        "## Generalizzazione Domanda => (Ambito, Processo)"
      ]
    },
    {
      "cell_type": "code",
      "metadata": {
        "colab": {
          "base_uri": "https://localhost:8080/",
          "height": 370
        },
        "id": "yUB0DaHnzePw",
        "outputId": "e099064e-daa7-437a-fd6f-56d9e532d4e2"
      },
      "source": [
        "# mapping domanda - ambito, processo\n",
        "questions_ambiti_processi = {\n",
        "    'D1' : ('Numeri', 'Conoscere e utilizzare algoritmi e procedure'),\n",
        "    'D2' : ('Dati e previsioni', 'Conoscere e padroneggiare i contenuti specifici della matematica'),\n",
        "    'D3_a' : ('Dati e previsioni', 'Utilizzare strumenti, modelli e rappresentazioni nel trattamento quantitativo dell\\'informazione in ambito scientifico, tecnologico, economico e sociale'),\n",
        "    'D3_b': ('Numeri', 'Conoscere e utilizzare algoritmi e procedure'),\n",
        "    'D4_a' : ('Spazio figure', 'Riconoscere le forme nello spazio e utilizzarle per la risoluzione di problemi geometrici o di modellizzazione'),\n",
        "    'D4_b' : ('Spazio figure', 'Riconoscere le forme nello spazio e utilizzarle per la risoluzione di problemi geometrici o di modellizzazione'),\n",
        "    'D4_c' : ('Spazio figure', 'Riconoscere le forme nello spazio e utilizzarle per la risoluzione di problemi geometrici o di modellizzazione'),\n",
        "    'D4_d' : ('Spazio figure', 'Riconoscere le forme nello spazio e utilizzarle per la risoluzione di problemi geometrici o di modellizzazione'),\n",
        "    'D5_a' : ('Relazioni e funzioni', 'Conoscere e utilizzare algoritmi e procedure'),\n",
        "    'D5_b' : ('Relazioni e funzioni', 'Utilizzare strumenti, modelli e rappresentazioni nel trattamento quantitativo dell\\'informazione in ambito scientifico, tecnologico, economico e sociale'),\n",
        "    'D6' : ('Numeri', 'Acquisire progressivamente forme tipiche del pensiero matematico'),\n",
        "    'D7_a' : ('Numeri', 'Conoscere e padroneggiare i contenuti specifici della matematica'),\n",
        "    'D7_b' : ('Numeri', 'Conoscere e padroneggiare i contenuti specifici della matematica'),\n",
        "    'D8' : ('Spazio figure', 'Riconoscere le forme nello spazio e utilizzarle per la risoluzione di problemi geometrici o di modellizzazione'),\n",
        "    'D9' : ('Relazioni e funzioni', 'Utilizzare strumenti, modelli e rappresentazioni nel trattamento quantitativo dell\\'informazione in ambito scientifico, tecnologico, economico e sociale'),\n",
        "    'D10_a'  : ('Relazioni e funzioni', 'Rappresentare relazioni e dati e, in situazioni significative, utilizzare le rappresentazioni per ricavare informazioni, formulare giudizi e prendere decisioni'),\n",
        "    'D10_b1' : ('Relazioni e funzioni', 'Rappresentare relazioni e dati e, in situazioni significative, utilizzare le rappresentazioni per ricavare informazioni, formulare giudizi e prendere decisioni'),\n",
        "    'D10_b2' : ('Relazioni e funzioni', 'Rappresentare relazioni e dati e, in situazioni significative, utilizzare le rappresentazioni per ricavare informazioni, formulare giudizi e prendere decisioni'),\n",
        "    'D10_b3' : ('Relazioni e funzioni', 'Rappresentare relazioni e dati e, in situazioni significative, utilizzare le rappresentazioni per ricavare informazioni, formulare giudizi e prendere decisioni'),\n",
        "    'D11_a' : ('Spazio figure', 'Riconoscere in contesti diversi il carattere misurabile di oggetti e fenomeni, utilizzare strumenti di misura, misurare grandezze, stimare misure di grandezze'),\n",
        "    'D11_b' : ('Spazio figure', 'Conoscere e utilizzare algoritmi e procedure'),\n",
        "    'D12_a' : ('Numeri', 'Risolvere problemi utilizzando strategie in ambiti diversi – numerico, geometrico, algebrico –'),\n",
        "    'D12_b' : ('Numeri', 'Risolvere problemi utilizzando strategie in ambiti diversi – numerico, geometrico, algebrico –'),\n",
        "    'D13_a' : ('Dati e previsioni', 'Utilizzare strumenti, modelli e rappresentazioni nel trattamento quantitativo dell\\'informazione in ambito scientifico, tecnologico, economico e sociale'),\n",
        "    'D13_b' : ('Dati e previsioni', 'Utilizzare strumenti, modelli e rappresentazioni nel trattamento quantitativo dell\\'informazione in ambito scientifico, tecnologico, economico e sociale'),\n",
        "    'D13_c' : ('Dati e previsioni', 'Utilizzare strumenti, modelli e rappresentazioni nel trattamento quantitativo dell\\'informazione in ambito scientifico, tecnologico, economico e sociale'),\n",
        "    'D14' : ('Relazioni e funzioni', 'Acquisire progressivamente forme tipiche del pensiero matematico'),\n",
        "    'D15' : ('Dati e previsioni', 'Conoscere e utilizzare algoritmi e procedure'),\n",
        "    'D16_a' : ('Dati e previsioni', 'Utilizzare strumenti, modelli e rappresentazioni nel trattamento quantitativo dell\\'informazione in ambito scientifico, tecnologico, economico e sociale'),\n",
        "    'D16_b' : ('Dati e previsioni', 'Utilizzare strumenti, modelli e rappresentazioni nel trattamento quantitativo dell\\'informazione in ambito scientifico, tecnologico, economico e sociale'),\n",
        "    'D16_c' : ('Dati e previsioni', 'Utilizzare strumenti, modelli e rappresentazioni nel trattamento quantitativo dell\\'informazione in ambito scientifico, tecnologico, economico e sociale'),\n",
        "    'D16_d' : ('Dati e previsioni', 'Utilizzare strumenti, modelli e rappresentazioni nel trattamento quantitativo dell\\'informazione in ambito scientifico, tecnologico, economico e sociale'),\n",
        "    'D17_a' : ('Numeri', 'Riconoscere in contesti diversi il carattere misurabile di oggetti e fenomeni, utilizzare strumenti di misura, misurare grandezze, stimare misure di grandezze'),\n",
        "    'D17_b' : ('Numeri', 'Riconoscere in contesti diversi il carattere misurabile di oggetti e fenomeni, utilizzare strumenti di misura, misurare grandezze, stimare misure di grandezze'),\n",
        "    'D18' : ('Spazio figure', 'Conoscere e utilizzare algoritmi e procedure'),\n",
        "    'D19_a' : ('Spazio figure', 'Risolvere problemi utilizzando strategie in ambiti diversi – numerico, geometrico, algebrico –'),\n",
        "    'D19_b' : ('Spazio figure', 'Risolvere problemi utilizzando strategie in ambiti diversi – numerico, geometrico, algebrico –'),\n",
        "    'D20' : ('Dati e previsioni', 'Conoscere e utilizzare algoritmi e procedure'),\n",
        "    'D21' : ('Numeri', 'Riconoscere in contesti diversi il carattere misurabile di oggetti e fenomeni, utilizzare strumenti di misura, misurare grandezze, stimare misure di grandezze'),\n",
        "    'D22' : ('Spazio figure', 'Acquisire progressivamente forme tipiche del pensiero matematico'),\n",
        "    'D23_a' : ('Relazioni e funzioni', 'Acquisire progressivamente forme tipiche del pensiero matematico'),\n",
        "    'D23_b' : ('Relazioni e funzioni', 'Acquisire progressivamente forme tipiche del pensiero matematico'),\n",
        "    'D23_c' : ('Relazioni e funzioni', 'Acquisire progressivamente forme tipiche del pensiero matematico'),\n",
        "    'D23_d' : ('Relazioni e funzioni', 'Acquisire progressivamente forme tipiche del pensiero matematico'),\n",
        "    'D24_a' : ('Relazioni e funzioni', 'Conoscere e padroneggiare i contenuti specifici della matematica'),\n",
        "    'D24_b' : ('Relazioni e funzioni', 'Utilizzare strumenti, modelli e rappresentazioni nel trattamento quantitativo dell\\'informazione in ambito scientifico, tecnologico, economico e sociale'),\n",
        "    'D25' : ('Spazio figure', 'Conoscere e utilizzare algoritmi e procedure'),\n",
        "    'D26_a': ('Numeri', 'Conoscere e padroneggiare i contenuti specifici della matematica'),\n",
        "    'D26_b': ('Numeri', 'Conoscere e padroneggiare i contenuti specifici della matematica'),\n",
        "    'D26_c': ('Numeri', 'Conoscere e padroneggiare i contenuti specifici della matematica'),\n",
        "    'D26_d': ('Numeri', 'Conoscere e padroneggiare i contenuti specifici della matematica')\n",
        "}\n",
        "\n",
        "list_ambiti_processi = [AP for dom in questions_ambiti_processi.values() for AP in dom]\n",
        "ambiti_processi = set(list_ambiti_processi)\n",
        "conteggio_ambiti_processi = {AP: list_ambiti_processi.count(AP) for AP in ambiti_processi}\n",
        "\n",
        "for AP in ambiti_processi:\n",
        "    dataset[AP] = 0.0\n",
        "\n",
        "for i, row in dataset.iterrows():\n",
        "    for question, APs in questions_ambiti_processi.items():\n",
        "        if row[question] == True:\n",
        "            for AP in APs:\n",
        "                dataset.at[i, AP] += 1/conteggio_ambiti_processi[AP]\n",
        "\n",
        "dataset = dataset.drop(questions_columns, axis=1)"
      ],
      "execution_count": null,
      "outputs": [
        {
          "output_type": "error",
          "ename": "KeyboardInterrupt",
          "evalue": "ignored",
          "traceback": [
            "\u001b[0;31m---------------------------------------------------------------------------\u001b[0m",
            "\u001b[0;31mKeyboardInterrupt\u001b[0m                         Traceback (most recent call last)",
            "\u001b[0;32m<ipython-input-19-4f6b487587d2>\u001b[0m in \u001b[0;36m<module>\u001b[0;34m()\u001b[0m\n\u001b[1;32m     63\u001b[0m \u001b[0;32mfor\u001b[0m \u001b[0mi\u001b[0m\u001b[0;34m,\u001b[0m \u001b[0mrow\u001b[0m \u001b[0;32min\u001b[0m \u001b[0mdataset\u001b[0m\u001b[0;34m.\u001b[0m\u001b[0miterrows\u001b[0m\u001b[0;34m(\u001b[0m\u001b[0;34m)\u001b[0m\u001b[0;34m:\u001b[0m\u001b[0;34m\u001b[0m\u001b[0;34m\u001b[0m\u001b[0m\n\u001b[1;32m     64\u001b[0m     \u001b[0;32mfor\u001b[0m \u001b[0mquestion\u001b[0m\u001b[0;34m,\u001b[0m \u001b[0mAPs\u001b[0m \u001b[0;32min\u001b[0m \u001b[0mquestions_ambiti_processi\u001b[0m\u001b[0;34m.\u001b[0m\u001b[0mitems\u001b[0m\u001b[0;34m(\u001b[0m\u001b[0;34m)\u001b[0m\u001b[0;34m:\u001b[0m\u001b[0;34m\u001b[0m\u001b[0;34m\u001b[0m\u001b[0m\n\u001b[0;32m---> 65\u001b[0;31m         \u001b[0;32mif\u001b[0m \u001b[0mrow\u001b[0m\u001b[0;34m[\u001b[0m\u001b[0mquestion\u001b[0m\u001b[0;34m]\u001b[0m \u001b[0;34m==\u001b[0m \u001b[0;32mTrue\u001b[0m\u001b[0;34m:\u001b[0m\u001b[0;34m\u001b[0m\u001b[0;34m\u001b[0m\u001b[0m\n\u001b[0m\u001b[1;32m     66\u001b[0m             \u001b[0;32mfor\u001b[0m \u001b[0mAP\u001b[0m \u001b[0;32min\u001b[0m \u001b[0mAPs\u001b[0m\u001b[0;34m:\u001b[0m\u001b[0;34m\u001b[0m\u001b[0;34m\u001b[0m\u001b[0m\n\u001b[1;32m     67\u001b[0m                 \u001b[0mdataset\u001b[0m\u001b[0;34m.\u001b[0m\u001b[0mat\u001b[0m\u001b[0;34m[\u001b[0m\u001b[0mi\u001b[0m\u001b[0;34m,\u001b[0m \u001b[0mAP\u001b[0m\u001b[0;34m]\u001b[0m \u001b[0;34m+=\u001b[0m \u001b[0;36m1\u001b[0m\u001b[0;34m/\u001b[0m\u001b[0mconteggio_ambiti_processi\u001b[0m\u001b[0;34m[\u001b[0m\u001b[0mAP\u001b[0m\u001b[0;34m]\u001b[0m\u001b[0;34m\u001b[0m\u001b[0;34m\u001b[0m\u001b[0m\n",
            "\u001b[0;32m/usr/local/lib/python3.7/dist-packages/pandas/core/series.py\u001b[0m in \u001b[0;36m__getitem__\u001b[0;34m(self, key)\u001b[0m\n\u001b[1;32m    880\u001b[0m \u001b[0;34m\u001b[0m\u001b[0m\n\u001b[1;32m    881\u001b[0m         \u001b[0;32melif\u001b[0m \u001b[0mkey_is_scalar\u001b[0m\u001b[0;34m:\u001b[0m\u001b[0;34m\u001b[0m\u001b[0;34m\u001b[0m\u001b[0m\n\u001b[0;32m--> 882\u001b[0;31m             \u001b[0;32mreturn\u001b[0m \u001b[0mself\u001b[0m\u001b[0;34m.\u001b[0m\u001b[0m_get_value\u001b[0m\u001b[0;34m(\u001b[0m\u001b[0mkey\u001b[0m\u001b[0;34m)\u001b[0m\u001b[0;34m\u001b[0m\u001b[0;34m\u001b[0m\u001b[0m\n\u001b[0m\u001b[1;32m    883\u001b[0m \u001b[0;34m\u001b[0m\u001b[0m\n\u001b[1;32m    884\u001b[0m         \u001b[0;32mif\u001b[0m \u001b[0mis_hashable\u001b[0m\u001b[0;34m(\u001b[0m\u001b[0mkey\u001b[0m\u001b[0;34m)\u001b[0m\u001b[0;34m:\u001b[0m\u001b[0;34m\u001b[0m\u001b[0;34m\u001b[0m\u001b[0m\n",
            "\u001b[0;32m/usr/local/lib/python3.7/dist-packages/pandas/core/series.py\u001b[0m in \u001b[0;36m_get_value\u001b[0;34m(self, label, takeable)\u001b[0m\n\u001b[1;32m    989\u001b[0m         \u001b[0;31m# Similar to Index.get_value, but we do not fall back to positional\u001b[0m\u001b[0;34m\u001b[0m\u001b[0;34m\u001b[0m\u001b[0;34m\u001b[0m\u001b[0m\n\u001b[1;32m    990\u001b[0m         \u001b[0mloc\u001b[0m \u001b[0;34m=\u001b[0m \u001b[0mself\u001b[0m\u001b[0;34m.\u001b[0m\u001b[0mindex\u001b[0m\u001b[0;34m.\u001b[0m\u001b[0mget_loc\u001b[0m\u001b[0;34m(\u001b[0m\u001b[0mlabel\u001b[0m\u001b[0;34m)\u001b[0m\u001b[0;34m\u001b[0m\u001b[0;34m\u001b[0m\u001b[0m\n\u001b[0;32m--> 991\u001b[0;31m         \u001b[0;32mreturn\u001b[0m \u001b[0mself\u001b[0m\u001b[0;34m.\u001b[0m\u001b[0mindex\u001b[0m\u001b[0;34m.\u001b[0m\u001b[0m_get_values_for_loc\u001b[0m\u001b[0;34m(\u001b[0m\u001b[0mself\u001b[0m\u001b[0;34m,\u001b[0m \u001b[0mloc\u001b[0m\u001b[0;34m,\u001b[0m \u001b[0mlabel\u001b[0m\u001b[0;34m)\u001b[0m\u001b[0;34m\u001b[0m\u001b[0;34m\u001b[0m\u001b[0m\n\u001b[0m\u001b[1;32m    992\u001b[0m \u001b[0;34m\u001b[0m\u001b[0m\n\u001b[1;32m    993\u001b[0m     \u001b[0;32mdef\u001b[0m \u001b[0m__setitem__\u001b[0m\u001b[0;34m(\u001b[0m\u001b[0mself\u001b[0m\u001b[0;34m,\u001b[0m \u001b[0mkey\u001b[0m\u001b[0;34m,\u001b[0m \u001b[0mvalue\u001b[0m\u001b[0;34m)\u001b[0m\u001b[0;34m:\u001b[0m\u001b[0;34m\u001b[0m\u001b[0;34m\u001b[0m\u001b[0m\n",
            "\u001b[0;32m/usr/local/lib/python3.7/dist-packages/pandas/core/indexes/base.py\u001b[0m in \u001b[0;36m_get_values_for_loc\u001b[0;34m(self, series, loc, key)\u001b[0m\n\u001b[1;32m   4634\u001b[0m         \"\"\"\n\u001b[1;32m   4635\u001b[0m         \u001b[0;32mif\u001b[0m \u001b[0mis_integer\u001b[0m\u001b[0;34m(\u001b[0m\u001b[0mloc\u001b[0m\u001b[0;34m)\u001b[0m\u001b[0;34m:\u001b[0m\u001b[0;34m\u001b[0m\u001b[0;34m\u001b[0m\u001b[0m\n\u001b[0;32m-> 4636\u001b[0;31m             \u001b[0;32mreturn\u001b[0m \u001b[0mseries\u001b[0m\u001b[0;34m.\u001b[0m\u001b[0m_values\u001b[0m\u001b[0;34m[\u001b[0m\u001b[0mloc\u001b[0m\u001b[0;34m]\u001b[0m\u001b[0;34m\u001b[0m\u001b[0;34m\u001b[0m\u001b[0m\n\u001b[0m\u001b[1;32m   4637\u001b[0m \u001b[0;34m\u001b[0m\u001b[0m\n\u001b[1;32m   4638\u001b[0m         \u001b[0;32mreturn\u001b[0m \u001b[0mseries\u001b[0m\u001b[0;34m.\u001b[0m\u001b[0miloc\u001b[0m\u001b[0;34m[\u001b[0m\u001b[0mloc\u001b[0m\u001b[0;34m]\u001b[0m\u001b[0;34m\u001b[0m\u001b[0;34m\u001b[0m\u001b[0m\n",
            "\u001b[0;32m/usr/local/lib/python3.7/dist-packages/pandas/core/series.py\u001b[0m in \u001b[0;36m_values\u001b[0;34m(self)\u001b[0m\n\u001b[1;32m    570\u001b[0m \u001b[0;34m\u001b[0m\u001b[0m\n\u001b[1;32m    571\u001b[0m         \"\"\"\n\u001b[0;32m--> 572\u001b[0;31m         \u001b[0;32mreturn\u001b[0m \u001b[0mself\u001b[0m\u001b[0;34m.\u001b[0m\u001b[0m_mgr\u001b[0m\u001b[0;34m.\u001b[0m\u001b[0minternal_values\u001b[0m\u001b[0;34m(\u001b[0m\u001b[0;34m)\u001b[0m\u001b[0;34m\u001b[0m\u001b[0;34m\u001b[0m\u001b[0m\n\u001b[0m\u001b[1;32m    573\u001b[0m \u001b[0;34m\u001b[0m\u001b[0m\n\u001b[1;32m    574\u001b[0m     \u001b[0;34m@\u001b[0m\u001b[0mAppender\u001b[0m\u001b[0;34m(\u001b[0m\u001b[0mbase\u001b[0m\u001b[0;34m.\u001b[0m\u001b[0mIndexOpsMixin\u001b[0m\u001b[0;34m.\u001b[0m\u001b[0marray\u001b[0m\u001b[0;34m.\u001b[0m\u001b[0m__doc__\u001b[0m\u001b[0;34m)\u001b[0m  \u001b[0;31m# type: ignore\u001b[0m\u001b[0;34m\u001b[0m\u001b[0;34m\u001b[0m\u001b[0m\n",
            "\u001b[0;32m/usr/local/lib/python3.7/dist-packages/pandas/core/internals/managers.py\u001b[0m in \u001b[0;36minternal_values\u001b[0;34m(self)\u001b[0m\n\u001b[1;32m   1622\u001b[0m     \u001b[0;32mdef\u001b[0m \u001b[0minternal_values\u001b[0m\u001b[0;34m(\u001b[0m\u001b[0mself\u001b[0m\u001b[0;34m)\u001b[0m\u001b[0;34m:\u001b[0m\u001b[0;34m\u001b[0m\u001b[0;34m\u001b[0m\u001b[0m\n\u001b[1;32m   1623\u001b[0m         \u001b[0;34m\"\"\"The array that Series._values returns\"\"\"\u001b[0m\u001b[0;34m\u001b[0m\u001b[0;34m\u001b[0m\u001b[0m\n\u001b[0;32m-> 1624\u001b[0;31m         \u001b[0;32mreturn\u001b[0m \u001b[0mself\u001b[0m\u001b[0;34m.\u001b[0m\u001b[0m_block\u001b[0m\u001b[0;34m.\u001b[0m\u001b[0minternal_values\u001b[0m\u001b[0;34m(\u001b[0m\u001b[0;34m)\u001b[0m\u001b[0;34m\u001b[0m\u001b[0;34m\u001b[0m\u001b[0m\n\u001b[0m\u001b[1;32m   1625\u001b[0m \u001b[0;34m\u001b[0m\u001b[0m\n\u001b[1;32m   1626\u001b[0m     \u001b[0;34m@\u001b[0m\u001b[0mproperty\u001b[0m\u001b[0;34m\u001b[0m\u001b[0;34m\u001b[0m\u001b[0m\n",
            "\u001b[0;32m/usr/local/lib/python3.7/dist-packages/pandas/core/internals/managers.py\u001b[0m in \u001b[0;36m_block\u001b[0;34m(self)\u001b[0m\n\u001b[1;32m   1582\u001b[0m         \u001b[0;32mpass\u001b[0m\u001b[0;34m\u001b[0m\u001b[0;34m\u001b[0m\u001b[0m\n\u001b[1;32m   1583\u001b[0m \u001b[0;34m\u001b[0m\u001b[0m\n\u001b[0;32m-> 1584\u001b[0;31m     \u001b[0;34m@\u001b[0m\u001b[0mproperty\u001b[0m\u001b[0;34m\u001b[0m\u001b[0;34m\u001b[0m\u001b[0m\n\u001b[0m\u001b[1;32m   1585\u001b[0m     \u001b[0;32mdef\u001b[0m \u001b[0m_block\u001b[0m\u001b[0;34m(\u001b[0m\u001b[0mself\u001b[0m\u001b[0;34m)\u001b[0m \u001b[0;34m->\u001b[0m \u001b[0mBlock\u001b[0m\u001b[0;34m:\u001b[0m\u001b[0;34m\u001b[0m\u001b[0;34m\u001b[0m\u001b[0m\n\u001b[1;32m   1586\u001b[0m         \u001b[0;32mreturn\u001b[0m \u001b[0mself\u001b[0m\u001b[0;34m.\u001b[0m\u001b[0mblocks\u001b[0m\u001b[0;34m[\u001b[0m\u001b[0;36m0\u001b[0m\u001b[0;34m]\u001b[0m\u001b[0;34m\u001b[0m\u001b[0;34m\u001b[0m\u001b[0m\n",
            "\u001b[0;31mKeyboardInterrupt\u001b[0m: "
          ]
        }
      ]
    },
    {
      "cell_type": "code",
      "metadata": {
        "colab": {
          "base_uri": "https://localhost:8080/"
        },
        "id": "-cq9WOJSI1xM",
        "outputId": "b51b017d-816f-4f2c-aa1f-a52f7069f81c"
      },
      "source": [
        "type(questions_ambiti_processi)"
      ],
      "execution_count": null,
      "outputs": [
        {
          "output_type": "execute_result",
          "data": {
            "text/plain": [
              "dict"
            ]
          },
          "metadata": {
            "tags": []
          },
          "execution_count": 35
        }
      ]
    },
    {
      "cell_type": "markdown",
      "metadata": {
        "id": "2GkD_CRbIE0y"
      },
      "source": [
        "### Importazione dataset salvato"
      ]
    },
    {
      "cell_type": "code",
      "metadata": {
        "id": "sriI349OIvW0"
      },
      "source": [
        "if not from_azure:\n",
        "    if from_gdrive:\n",
        "        AP_DATASET_PATH = \"Data/dataset_with_AP/dataset_with_AP.csv\"\n",
        "    else:\n",
        "        AP_DATASET_PATH = \"../dataset_with_AP/dataset_with_AP.csv\" \n",
        "\n",
        "    dataset = pd.read_csv(AP_DATASET_PATH, sep=',')\n",
        "\n",
        "    dataset['DROPOUT'] = dataset['DROPOUT'].astype('int64')\n",
        "    dataset['Pon'] = dataset['Pon'].astype('int64')\n",
        "    dataset['sesso'] = dataset['sesso'].astype('int64')\n",
        "else:\n",
        "    from azureml.core import Workspace, Dataset\n",
        "    dataset = Dataset.get_by_name(workspace, name='dataset_with_AP')\n",
        "    dataset = dataset.to_pandas_dataframe()\n",
        "\n",
        "dataset['DROPOUT'] = dataset['DROPOUT'].astype('int64') # Memorizzati come boolean e qui convertiti\n",
        "dataset['Pon'] = dataset['Pon'].astype('int64') # Memorizzati come boolean e qui convertiti\n",
        "dataset['sesso'] = dataset['sesso'].astype('int64') # Memorizzati come boolean e qui convertiti"
      ],
      "execution_count": null,
      "outputs": []
    },
    {
      "cell_type": "markdown",
      "metadata": {
        "id": "6gKlTKS_CqfF"
      },
      "source": [
        "## Generalizzazione Domanda => termini chiave da Scopo"
      ]
    },
    {
      "cell_type": "markdown",
      "metadata": {
        "id": "x4rVw_SqFdPe"
      },
      "source": [
        "# Split dataset in training, validation e test\n",
        "Avendo un dataset di una sola coorte di studenti relativi alle prove di un anno, non si dispone di un set per fare testing.\n",
        "Per questo motivo si è scelto di separare il dataset in questo modo:\n",
        "\n",
        "1. dataset diviso in train_dataset (80%) e test_dataset (20%)\n",
        "2. train_dataset diviso in train_dataset (80%) e validation_dataset (20%)"
      ]
    },
    {
      "cell_type": "code",
      "metadata": {
        "id": "YK77ZxFOFjpS"
      },
      "source": [
        "train_dataset, test_dataset = train_test_split(dataset, test_size=0.2)\n",
        "train_dataset, validation_dataset = train_test_split(train_dataset, test_size=0.2)"
      ],
      "execution_count": null,
      "outputs": []
    },
    {
      "cell_type": "markdown",
      "metadata": {
        "id": "Ce0xEolbKOeQ"
      },
      "source": [
        "# Valutazione e gestione dello sbilanciamento del dataset"
      ]
    },
    {
      "cell_type": "code",
      "metadata": {
        "colab": {
          "base_uri": "https://localhost:8080/"
        },
        "id": "SM8tXExZKaF7",
        "outputId": "b3ec1687-b85d-4d75-f003-5c8440a40942"
      },
      "source": [
        "nr_nodrop_original, nr_drop_original = np.bincount(dataset['DROPOUT'])\n",
        "nr_nodrop, nr_drop = np.bincount(train_dataset['DROPOUT'])\n",
        "total_original = nr_nodrop_original + nr_drop_original\n",
        "total = nr_nodrop + nr_drop\n",
        "print('Dataset originale')\n",
        "print(f'Nr di istanze: {total_original:,}\\nIstanze con dropout a True: {nr_nodrop_original:,} ({(100 * nr_nodrop_original / total_original):.2f}% del totale)\\nProporzione dropout True v/s False: {round(nr_drop_original/nr_nodrop_original, 2)} : 1')\n",
        "print('Training dataset')\n",
        "print(f'Nr di istanze: {total:,}\\nIstanze con dropout a True: {nr_drop:,} ({(100 * nr_drop / total):.2f}% del totale)\\nProporzione dropout True v/s False: {round(nr_drop/nr_nodrop, 2)} : 1')"
      ],
      "execution_count": null,
      "outputs": [
        {
          "output_type": "stream",
          "text": [
            "Dataset originale\n",
            "Nr di istanze: 342,226\n",
            "Istanze con dropout a True: 225,444 (65.88% del totale)\n",
            "Proporzione dropout True v/s False: 0.52 : 1\n",
            "Training dataset\n",
            "Nr di istanze: 219,024\n",
            "Istanze con dropout a True: 74,620 (34.07% del totale)\n",
            "Proporzione dropout True v/s False: 0.52 : 1\n"
          ],
          "name": "stdout"
        }
      ]
    },
    {
      "cell_type": "markdown",
      "metadata": {
        "id": "AEoSFlmxE-q2"
      },
      "source": [
        "## Sbilanciamento dataset originale"
      ]
    },
    {
      "cell_type": "code",
      "metadata": {
        "colab": {
          "base_uri": "https://localhost:8080/",
          "height": 248
        },
        "id": "Cnn9VuBDFG85",
        "outputId": "cca7e12d-f0fe-4480-92d7-8a772a052cf4"
      },
      "source": [
        "data = pd.Series([nr_nodrop_original, nr_drop_original])\n",
        "data.plot.pie(autopct=\"%.1f%%\");"
      ],
      "execution_count": null,
      "outputs": [
        {
          "output_type": "display_data",
          "data": {
            "image/png": "[encoded data removed]",
            "text/plain": [
              "<Figure size 432x288 with 1 Axes>"
            ]
          },
          "metadata": {
            "tags": []
          }
        }
      ]
    },
    {
      "cell_type": "markdown",
      "metadata": {
        "id": "TG-fa363FCSK"
      },
      "source": [
        "## Sbilanciamento dataset di training"
      ]
    },
    {
      "cell_type": "code",
      "metadata": {
        "colab": {
          "base_uri": "https://localhost:8080/",
          "height": 248
        },
        "id": "tR5LJ8RUl9LL",
        "outputId": "c608c560-3f61-4c91-c913-ba1b98601818"
      },
      "source": [
        "data = pd.Series([nr_nodrop, nr_drop])\n",
        "data.plot.pie(autopct=\"%.1f%%\");"
      ],
      "execution_count": null,
      "outputs": [
        {
          "output_type": "display_data",
          "data": {
            "image/png": "[encoded data removed]",
            "text/plain": [
              "<Figure size 432x288 with 1 Axes>"
            ]
          },
          "metadata": {
            "tags": []
          }
        }
      ]
    },
    {
      "cell_type": "markdown",
      "metadata": {
        "id": "ZJN0Q8UzdGlV"
      },
      "source": [
        "Le due classi (i.e. target del classificatore) appaiono leggermente sbilanciate: in dettaglio, la classe dei soggetti che manifestano dropout ha una cardinalità inferiore della classe in cui non si è avuto dropout."
      ]
    },
    {
      "cell_type": "markdown",
      "metadata": {
        "id": "6m6aNeE6kZZI"
      },
      "source": [
        "## Random under-sampling\n",
        "Tecnica consistente nell'eliminazione in maniera randomica di istanze della classe sovra-rappresentata (studenti che non hanno avuto un dropout) fintanto che la sua cardinalità coincida con quella della classe sotto-rappresentata."
      ]
    },
    {
      "cell_type": "code",
      "metadata": {
        "colab": {
          "base_uri": "https://localhost:8080/"
        },
        "id": "Vi9UK1Jkkb_X",
        "outputId": "c344eb30-d0af-409a-c4dd-c4a1ecd9c401"
      },
      "source": [
        "class_nodrop = train_dataset[train_dataset['DROPOUT'] == False] # Sovrarappresentata (== False funziona per casting implicito)\n",
        "class_drop = train_dataset[train_dataset['DROPOUT'] == True] # Sottorappresentata (== True funziona per casting implicito)\n",
        "\n",
        "# Sotto campionamento di class_drop in modo che abbia stessa cardinalità di class_nodrop\n",
        "class_nodrop = class_nodrop.sample(len(class_drop))\n",
        "\n",
        "print(f'Classe No-drop: {len(class_nodrop):,}')\n",
        "print(f'Classe Drop: {len(class_drop):,}')"
      ],
      "execution_count": null,
      "outputs": [
        {
          "output_type": "stream",
          "text": [
            "Classe No-drop: 74,620\n",
            "Classe Drop: 74,620\n"
          ],
          "name": "stdout"
        }
      ]
    },
    {
      "cell_type": "code",
      "metadata": {
        "id": "o7ZLgOb1KI0h",
        "colab": {
          "base_uri": "https://localhost:8080/"
        },
        "outputId": "647f4737-de3f-4135-e8bd-b6adbbbf9190"
      },
      "source": [
        "# Il dataset di training va aggiornato unendo i due class_drop e class_nodrop\n",
        "print(f'Dimensioni train_dataset originale: {train_dataset.shape}')\n",
        "train_dataset = class_drop.append(class_nodrop)\n",
        "train_dataset = train_dataset.sample(frac=1)\n",
        "print(f'Dimensioni train_dataset undersampled: {train_dataset.shape}')"
      ],
      "execution_count": null,
      "outputs": [
        {
          "output_type": "stream",
          "text": [
            "Dimensioni train_dataset originale: (219024, 50)\n",
            "Dimensioni train_dataset undersampled: (149240, 50)\n"
          ],
          "name": "stdout"
        }
      ]
    },
    {
      "cell_type": "code",
      "metadata": {
        "colab": {
          "base_uri": "https://localhost:8080/",
          "height": 248
        },
        "id": "r6H6sPzn5DsX",
        "outputId": "e497b55b-054d-4433-c30d-f49b3588c969"
      },
      "source": [
        "# Verifica che effettivamente l'undersampling abbia funzionato\n",
        "nr_nodrop, nr_drop = np.bincount(train_dataset['DROPOUT'])\n",
        "data = pd.Series([nr_nodrop, nr_drop])\n",
        "data.plot.pie(autopct=\"%.1f%%\");"
      ],
      "execution_count": null,
      "outputs": [
        {
          "output_type": "display_data",
          "data": {
            "image/png": "[encoded data removed]",
            "text/plain": [
              "<Figure size 432x288 with 1 Axes>"
            ]
          },
          "metadata": {
            "tags": []
          }
        }
      ]
    },
    {
      "cell_type": "markdown",
      "metadata": {
        "id": "9p59HqO4MAfg"
      },
      "source": [
        "## Synthetic minority over-sampling (SMOTE)\n",
        "Abbiamo scelto di tentare la variante della tecnica dell'over-sampling come alternativa al random under-sampling, in quanto permette di evitare la riduzione di cardinalità del training set che inevitabilmente segue al random under-sampling.\n",
        "\n",
        "\n",
        "VAI MICHELE SCELGO TE\n"
      ]
    },
    {
      "cell_type": "code",
      "metadata": {
        "id": "v3uTh1BpOxjt"
      },
      "source": [
        "# La seguente cella non riesce ad eseguire in Google Colab (finisce la memoria e riavvia il runtime).\n",
        "# I risultati di questa cella sono stati calcolati localmente e salvati su un dataset CSV che è possibile importare grazie alle cella seguente.\n",
        "# Imports\n",
        "from imblearn.over_sampling import SMOTENC\n",
        "\n",
        "# Create KMeans-Random instance\n",
        "categorical_features_indexes = [2, 3, 4, 5, 6, 7, 8, 9, 10, 11, 12, 13, 69, 70, 71, 72, 73, 74, 75, 76, 77, 78]\n",
        "smotenc = SMOTENC(categorical_features_indexes, random_state=19, n_jobs=-1)\n",
        "\n",
        "# Fit and resample imbalanced dataa\n",
        "X_SMOTE = train_dataset.loc[:, train_dataset.columns != 'DROPOUT']\n",
        "y_SMOTE = train_dataset['DROPOUT']\n",
        "X_SMOTE_res, y_SMOTE_res = smotenc.fit_resample(X_SMOTE, y_SMOTE)\n",
        "\n",
        "no_drop, drop = np.bincount(y_SMOTE['DROPOUT'])\n",
        "res_no_drop, res_drop = np.bincount(y_SMOTE_res['DROPOUT'])\n",
        "\n",
        "print(f'Classe No-drop originale: {len(no_drop):,} - Classe No-drop ricampionata: {len(res_no_drop):,}')\n",
        "print(f'Classe Drop originale: {len(drop):,} - Classe Drop ricampionata: {len(res_drop):,}')"
      ],
      "execution_count": null,
      "outputs": []
    },
    {
      "cell_type": "code",
      "metadata": {
        "id": "xpizgu1keGmC"
      },
      "source": [
        "if from_gdrive:\n",
        "    RESAMPLED_DATASET_PATH = \"Data/resampled_training_dataset.csv\"\n",
        "else:\n",
        "    RESAMPLED_DATASET_PATH = \"../resampled_training_dataset.csv\" \n",
        "\n",
        "resampled_train_dataset = pd.read_csv(RESAMPLED_DATASET_PATH, sep=',')"
      ],
      "execution_count": null,
      "outputs": []
    },
    {
      "cell_type": "code",
      "metadata": {
        "colab": {
          "base_uri": "https://localhost:8080/"
        },
        "id": "vOAilk3Kgy--",
        "outputId": "0d121209-48de-43c2-b844-1b0ec8e5357b"
      },
      "source": [
        "nr_nodrop_sample, nr_drop_sample = np.bincount(resampled_train_dataset['DROPOUT'])\n",
        "total_sample = nr_nodrop_sample + nr_drop_sample\n",
        "print(f'Nr di istanze: {total_sample:,}\\nIstanze con dropout a True: {nr_drop_sample:,} ({(100 * nr_drop_sample / total_sample):.2f}% del totale)\\nProporzione dropout True v/s False: {round(nr_drop_sample/nr_nodrop_sample, 2)} : 1')"
      ],
      "execution_count": null,
      "outputs": [
        {
          "output_type": "stream",
          "text": [
            "Nr di istanze: 288,572\n",
            "Istanze con dropout a True: 144,286 (50.00% del totale)\n",
            "Proporzione dropout True v/s False: 1.0 : 1\n"
          ],
          "name": "stdout"
        }
      ]
    },
    {
      "cell_type": "code",
      "metadata": {
        "colab": {
          "base_uri": "https://localhost:8080/",
          "height": 248
        },
        "id": "YAVimNfAhgFG",
        "outputId": "69518175-9b4c-4fa5-a90f-139a0cdd60b0"
      },
      "source": [
        "data = pd.Series([nr_nodrop_sample, nr_drop_sample])\n",
        "data.plot.pie(autopct=\"%.1f%%\");"
      ],
      "execution_count": null,
      "outputs": [
        {
          "output_type": "display_data",
          "data": {
            "image/png": "[encoded data removed]",
            "text/plain": [
              "<Figure size 432x288 with 1 Axes>"
            ]
          },
          "metadata": {
            "tags": []
          }
        }
      ]
    },
    {
      "cell_type": "markdown",
      "metadata": {
        "id": "Xa9b5de8aDtf"
      },
      "source": [
        "# Deep learning"
      ]
    },
    {
      "cell_type": "markdown",
      "metadata": {
        "id": "9oLyHxpuhU7g"
      },
      "source": [
        "## Conversione del dataframe di Pandas nel tensore di TensorFlow."
      ]
    },
    {
      "cell_type": "code",
      "metadata": {
        "id": "egzMbPotaHo-"
      },
      "source": [
        "def dataframe_to_dataset(dataframe):\n",
        "    dataframe = dataframe.copy()\n",
        "    dataframe = dataframe.drop(\"Unnamed: 0\", axis=1)\n",
        "    labels = dataframe.pop(\"DROPOUT\")\n",
        "    ds = tf.data.Dataset.from_tensor_slices((dict(dataframe), labels.values))\n",
        "    ds = ds.shuffle(buffer_size=len(dataframe))\n",
        "    return ds"
      ],
      "execution_count": 37,
      "outputs": []
    },
    {
      "cell_type": "code",
      "metadata": {
        "id": "NUC2fyiP6zEu",
        "colab": {
          "base_uri": "https://localhost:8080/"
        },
        "outputId": "400f45f7-5ac2-49dc-a2e4-e2bbd08b45be"
      },
      "source": [
        "#train_dataset = train_dataset.sample(100)\n",
        "train_ds = dataframe_to_dataset(train_dataset)\n",
        "val_ds = dataframe_to_dataset(validation_dataset)\n",
        "test_ds = dataframe_to_dataset(test_dataset)\n",
        "\n",
        "for x, y in train_ds.take(1):\n",
        "    print(\"Input:\", x)\n",
        "    print(\"Target:\", y)"
      ],
      "execution_count": 38,
      "outputs": [
        {
          "output_type": "stream",
          "text": [
            "Input: {'prog': <tf.Tensor: shape=(), dtype=int64, numpy=10>, 'sesso': <tf.Tensor: shape=(), dtype=int64, numpy=1>, 'mese': <tf.Tensor: shape=(), dtype=int64, numpy=10>, 'anno': <tf.Tensor: shape=(), dtype=int64, numpy=0>, 'luogo': <tf.Tensor: shape=(), dtype=int64, numpy=0>, 'eta': <tf.Tensor: shape=(), dtype=int64, numpy=0>, 'freq_asilo_nido': <tf.Tensor: shape=(), dtype=int64, numpy=0>, 'freq_scuola_materna': <tf.Tensor: shape=(), dtype=int64, numpy=1>, 'luogo_padre': <tf.Tensor: shape=(), dtype=int64, numpy=0>, 'titolo_padre': <tf.Tensor: shape=(), dtype=int64, numpy=1>, 'prof_padre': <tf.Tensor: shape=(), dtype=int64, numpy=7>, 'luogo_madre': <tf.Tensor: shape=(), dtype=int64, numpy=0>, 'titolo_madre': <tf.Tensor: shape=(), dtype=int64, numpy=1>, 'prof_madre': <tf.Tensor: shape=(), dtype=int64, numpy=1>, 'regolarità': <tf.Tensor: shape=(), dtype=int64, numpy=0>, 'cittadinanza': <tf.Tensor: shape=(), dtype=int64, numpy=0>, 'cod_provincia_ISTAT': <tf.Tensor: shape=(), dtype=int64, numpy=40>, 'sigla_provincia_istat': <tf.Tensor: shape=(), dtype=int64, numpy=40>, 'Nome_reg': <tf.Tensor: shape=(), dtype=int64, numpy=9>, 'Cod_reg': <tf.Tensor: shape=(), dtype=int64, numpy=9>, 'Areageo_3': <tf.Tensor: shape=(), dtype=int64, numpy=1>, 'Areageo_4': <tf.Tensor: shape=(), dtype=int64, numpy=1>, 'Areageo_5': <tf.Tensor: shape=(), dtype=int64, numpy=1>, 'Areageo_5_Istat': <tf.Tensor: shape=(), dtype=int64, numpy=1>, 'Pon': <tf.Tensor: shape=(), dtype=int64, numpy=0>, 'pu_ma_gr': <tf.Tensor: shape=(), dtype=int64, numpy=35>, 'pu_ma_no': <tf.Tensor: shape=(), dtype=float64, numpy=68.6274509803922>, 'Fattore_correzione_new': <tf.Tensor: shape=(), dtype=float64, numpy=0.591091612169658>, 'Cheating': <tf.Tensor: shape=(), dtype=float64, numpy=0.4089083878303421>, 'WLE_MAT': <tf.Tensor: shape=(), dtype=float64, numpy=0.74227>, 'WLE_MAT_200': <tf.Tensor: shape=(), dtype=float64, numpy=227.991239272535>, 'WLE_MAT_200_CORR': <tf.Tensor: shape=(), dtype=float64, numpy=134.763709182161>, 'pu_ma_no_corr': <tf.Tensor: shape=(), dtype=float64, numpy=40.56511063909421>, 'n_stud_prev': <tf.Tensor: shape=(), dtype=int64, numpy=25>, 'n_classi_prev': <tf.Tensor: shape=(), dtype=int64, numpy=3>, 'LIVELLI': <tf.Tensor: shape=(), dtype=int64, numpy=2>, 'Numeri': <tf.Tensor: shape=(), dtype=float64, numpy=0.5714285714285713>, 'Dati e previsioni': <tf.Tensor: shape=(), dtype=float64, numpy=0.9090909090909092>, 'Riconoscere le forme nello spazio e utilizzarle per la risoluzione di problemi geometrici o di modellizzazione': <tf.Tensor: shape=(), dtype=float64, numpy=0.2>, 'Conoscere e padroneggiare i contenuti specifici della matematica': <tf.Tensor: shape=(), dtype=float64, numpy=0.5>, 'Relazioni e funzioni': <tf.Tensor: shape=(), dtype=float64, numpy=0.9285714285714284>, 'Spazio figure': <tf.Tensor: shape=(), dtype=float64, numpy=0.3333333333333333>, 'Acquisire progressivamente forme tipiche del pensiero matematico': <tf.Tensor: shape=(), dtype=float64, numpy=0.5714285714285714>, 'Conoscere e utilizzare algoritmi e procedure': <tf.Tensor: shape=(), dtype=float64, numpy=0.75>, 'Rappresentare relazioni e dati e, in situazioni significative, utilizzare le rappresentazioni per ricavare informazioni, formulare giudizi e prendere decisioni': <tf.Tensor: shape=(), dtype=float64, numpy=1.0>, 'Riconoscere in contesti diversi il carattere misurabile di oggetti e fenomeni, utilizzare strumenti di misura, misurare grandezze, stimare misure di grandezze': <tf.Tensor: shape=(), dtype=float64, numpy=0.75>, 'Risolvere problemi utilizzando strategie in ambiti diversi – numerico, geometrico, algebrico –': <tf.Tensor: shape=(), dtype=float64, numpy=0.5>, \"Utilizzare strumenti, modelli e rappresentazioni nel trattamento quantitativo dell'informazione in ambito scientifico, tecnologico, economico e sociale\": <tf.Tensor: shape=(), dtype=float64, numpy=1.0000000000000002>}\n",
            "Target: tf.Tensor(1, shape=(), dtype=int64)\n"
          ],
          "name": "stdout"
        }
      ]
    },
    {
      "cell_type": "markdown",
      "metadata": {
        "id": "PsOInBIxRLBO"
      },
      "source": [
        "## Divisione del dataset di training in blocchi"
      ]
    },
    {
      "cell_type": "code",
      "metadata": {
        "id": "xRLJH5n8iNKh"
      },
      "source": [
        "train_ds = train_ds.batch(32, drop_remainder=True)\n",
        "val_ds = val_ds.batch(32, drop_remainder=True)\n",
        "test_ds = test_ds.batch(32, drop_remainder=True)"
      ],
      "execution_count": 39,
      "outputs": []
    },
    {
      "cell_type": "code",
      "metadata": {
        "id": "rexYr65kilq-"
      },
      "source": [
        "from tensorflow.keras.layers.experimental.preprocessing import IntegerLookup\n",
        "from tensorflow.keras.layers.experimental.preprocessing import Normalization\n",
        "from tensorflow.keras.layers.experimental.preprocessing import StringLookup\n",
        "\n",
        "\n",
        "def encode_numerical_feature(feature, name, dataset):\n",
        "    # Create a Normalization layer for our feature\n",
        "    normalizer = Normalization()\n",
        "\n",
        "    # Prepare a Dataset that only yields our feature\n",
        "    feature_ds = dataset.map(lambda x, y: x[name])\n",
        "    feature_ds = feature_ds.map(lambda x: tf.expand_dims(x, -1))\n",
        "\n",
        "    # Learn the statistics of the data\n",
        "    normalizer.adapt(feature_ds)\n",
        "\n",
        "    # Normalize the input feature\n",
        "    encoded_feature = normalizer(feature)\n",
        "    return encoded_feature\n",
        "\n",
        "\n",
        "def encode_categorical_feature(feature, name, dataset, is_string):\n",
        "    lookup_class = StringLookup if is_string else IntegerLookup\n",
        "    # Create a lookup layer which will turn strings into integer indices\n",
        "    lookup = lookup_class(output_mode=\"binary\")\n",
        "\n",
        "    # Prepare a Dataset that only yields our feature\n",
        "    feature_ds = dataset.map(lambda x, y: x[name])\n",
        "    feature_ds = feature_ds.map(lambda x: tf.expand_dims(x, -1))\n",
        "\n",
        "    # Learn the set of possible string values and assign them a fixed integer index\n",
        "    lookup.adapt(feature_ds)\n",
        "\n",
        "    # Turn the string input into integer indices\n",
        "    encoded_feature = lookup(feature)\n",
        "    return encoded_feature\n"
      ],
      "execution_count": 40,
      "outputs": []
    },
    {
      "cell_type": "code",
      "metadata": {
        "id": "tWFBtGPFoCyW"
      },
      "source": [
        "# Categorical features encoded as integers\n",
        "prog = keras.Input(shape=(1,), name=\"prog\", dtype=\"int64\")\n",
        "mese = keras.Input(shape=(1,), name=\"mese\", dtype=\"int64\")\n",
        "anno = keras.Input(shape=(1,), name=\"anno\", dtype=\"int64\")\n",
        "luogo = keras.Input(shape=(1,), name=\"luogo\", dtype=\"int64\")\n",
        "eta = keras.Input(shape=(1,), name=\"eta\", dtype=\"int64\")\n",
        "freq_asilo_nido = keras.Input(shape=(1,), name=\"freq_asilo_nido\", dtype=\"int64\")\n",
        "freq_scuola_materna = keras.Input(shape=(1,), name=\"freq_scuola_materna\", dtype=\"int64\")\n",
        "luogo_padre = keras.Input(shape=(1,), name=\"luogo_padre\", dtype=\"int64\")\n",
        "titolo_padre = keras.Input(shape=(1,), name=\"titolo_padre\", dtype=\"int64\")\n",
        "prof_padre = keras.Input(shape=(1,), name=\"prof_padre\", dtype=\"int64\")\n",
        "luogo_madre = keras.Input(shape=(1,), name=\"luogo_madre\", dtype=\"int64\")\n",
        "titolo_madre = keras.Input(shape=(1,), name=\"titolo_madre\", dtype=\"int64\")\n",
        "prof_madre = keras.Input(shape=(1,), name=\"prof_madre\", dtype=\"int64\")\n",
        "regolarita = keras.Input(shape=(1,), name=\"regolarità\", dtype=\"int64\")\n",
        "cittadinanza = keras.Input(shape=(1,), name=\"cittadinanza\", dtype=\"int64\")\n",
        "cod_provincia_ISTAT = keras.Input(shape=(1,), name=\"cod_provincia_ISTAT\", dtype=\"int64\")\n",
        "sigla_provincia_istat = keras.Input(shape=(1,), name=\"sigla_provincia_istat\", dtype=\"int64\")\n",
        "Nome_reg = keras.Input(shape=(1,), name=\"Nome_reg\", dtype=\"int64\")\n",
        "Cod_reg = keras.Input(shape=(1,), name=\"Cod_reg\", dtype=\"int64\")\n",
        "Areageo_3 = keras.Input(shape=(1,), name=\"Areageo_3\", dtype=\"int64\")\n",
        "Areageo_4 = keras.Input(shape=(1,), name=\"Areageo_4\", dtype=\"int64\")\n",
        "Areageo_5 = keras.Input(shape=(1,), name=\"Areageo_5\", dtype=\"int64\")\n",
        "Areageo_5_Istat = keras.Input(shape=(1,), name=\"Areageo_5_Istat\", dtype=\"int64\")\n",
        "LIVELLI = keras.Input(shape=(1,), name=\"LIVELLI\", dtype=\"int64\")\n",
        "\n",
        "sesso = keras.Input(shape=(1,), name=\"sesso\", dtype=\"int64\")\n",
        "Pon = keras.Input(shape=(1,), name=\"Pon\", dtype=\"int64\")\n",
        "\n",
        "# Numerical features\n",
        "pu_ma_gr = keras.Input(shape=(1,), name=\"pu_ma_gr\", dtype=\"float32\")\n",
        "pu_ma_no = keras.Input(shape=(1,), name=\"pu_ma_no\", dtype=\"float32\")\n",
        "Fattore_correzione_new = keras.Input(shape=(1,), name=\"Fattore_correzione_new\", dtype=\"float32\")\n",
        "Cheating = keras.Input(shape=(1,), name=\"Cheating\", dtype=\"float32\")\n",
        "WLE_MAT = keras.Input(shape=(1,), name=\"WLE_MAT\", dtype=\"float32\")\n",
        "WLE_MAT_200 = keras.Input(shape=(1,), name=\"WLE_MAT_200\", dtype=\"float32\")\n",
        "WLE_MAT_200_CORR = keras.Input(shape=(1,), name=\"WLE_MAT_200_CORR\", dtype=\"float32\")\n",
        "pu_ma_no_corr = keras.Input(shape=(1,), name=\"pu_ma_no_corr\", dtype=\"float32\")\n",
        "n_stud_prev = keras.Input(shape=(1,), name=\"n_stud_prev\", dtype=\"float32\")\n",
        "Numeri = keras.Input(shape=(1,), name=\"Numeri\", dtype=\"float32\")\n",
        "n_classi_prev = keras.Input(shape=(1,), name=\"n_classi_prev\", dtype=\"float32\")\n",
        "Dati = keras.Input(shape=(1,), name=\"Dati e previsioni\", dtype=\"float32\")\n",
        "Riconoscere_forme = keras.Input(shape=(1,), name=\"Riconoscere le forme nello spazio e utilizzarle per la risoluzione di problemi geometrici o di modellizzazione\", dtype=\"float32\")\n",
        "Conoscere_padr = keras.Input(shape=(1,), name=\"Conoscere e padroneggiare i contenuti specifici della matematica\", dtype=\"float32\")\n",
        "Relazioni = keras.Input(shape=(1,), name=\"Relazioni e funzioni\", dtype=\"float32\")\n",
        "Spazio = keras.Input(shape=(1,), name=\"Spazio figure\", dtype=\"float32\")\n",
        "Acquisire = keras.Input(shape=(1,), name=\"Acquisire progressivamente forme tipiche del pensiero matematico\", dtype=\"float32\")\n",
        "Conoscere_util = keras.Input(shape=(1,), name=\"Conoscere e utilizzare algoritmi e procedure\", dtype=\"float32\")\n",
        "Rappresentare = keras.Input(shape=(1,), name=\"Rappresentare relazioni e dati e, in situazioni significative, utilizzare le rappresentazioni per ricavare informazioni, formulare giudizi e prendere decisioni\", dtype=\"float32\")\n",
        "Riconoscere_contesti = keras.Input(shape=(1,), name=\"Riconoscere in contesti diversi il carattere misurabile di oggetti e fenomeni, utilizzare strumenti di misura, misurare grandezze, stimare misure di grandezze\", dtype=\"float32\")\n",
        "Risolvere = keras.Input(shape=(1,), name=\"Risolvere problemi utilizzando strategie in ambiti diversi – numerico, geometrico, algebrico –\", dtype=\"float32\")\n",
        "Utilizzare = keras.Input(shape=(1,), name=\"Utilizzare strumenti, modelli e rappresentazioni nel trattamento quantitativo dell'informazione in ambito scientifico, tecnologico, economico e sociale\", dtype=\"float32\")\n",
        "\n",
        "all_inputs = [\n",
        "    prog, \n",
        "    sesso, \n",
        "    mese, \n",
        "    anno, \n",
        "    luogo, \n",
        "    eta, \n",
        "    freq_asilo_nido, \n",
        "    freq_scuola_materna, \n",
        "    luogo_padre, \n",
        "    titolo_padre, \n",
        "    prof_padre, \n",
        "    luogo_madre, \n",
        "    titolo_madre, \n",
        "    prof_madre, \n",
        "    regolarita,\n",
        "    cittadinanza, \n",
        "    cod_provincia_ISTAT, \n",
        "    sigla_provincia_istat, \n",
        "    Nome_reg, \n",
        "    Cod_reg, \n",
        "    Areageo_3, \n",
        "    Areageo_4, \n",
        "    Areageo_5, \n",
        "    Areageo_5_Istat, \n",
        "    Pon, \n",
        "    pu_ma_gr, \n",
        "    pu_ma_no, \n",
        "    Fattore_correzione_new, \n",
        "    Cheating, \n",
        "    WLE_MAT, \n",
        "    WLE_MAT_200, \n",
        "    WLE_MAT_200_CORR, \n",
        "    pu_ma_no_corr, \n",
        "    n_stud_prev, \n",
        "    n_classi_prev, \n",
        "    LIVELLI, \n",
        "    Numeri, \n",
        "    Dati, \n",
        "    Riconoscere_forme, \n",
        "    Conoscere_padr, \n",
        "    Relazioni, \n",
        "    Spazio, \n",
        "    Acquisire, \n",
        "    Conoscere_util, \n",
        "    Rappresentare, \n",
        "    Riconoscere_contesti, \n",
        "    Risolvere, \n",
        "    Utilizzare     \n",
        "]"
      ],
      "execution_count": 41,
      "outputs": []
    },
    {
      "cell_type": "code",
      "metadata": {
        "id": "srzHs3M0rGy9"
      },
      "source": [
        "# Integer categorical features\n",
        "sesso_encoded = encode_categorical_feature(sesso, \"sesso\", train_ds, False)\n",
        "Pon_encoded = encode_categorical_feature(Pon, \"Pon\", train_ds, False)\n",
        "\n",
        "n_stud_prev_encoded = encode_numerical_feature(n_stud_prev, \"n_stud_prev\", train_ds)\n",
        "n_classi_prev_encoded = encode_numerical_feature(n_classi_prev, \"n_classi_prev\", train_ds)\n",
        "pu_ma_gr_encoded = encode_numerical_feature(pu_ma_gr, \"pu_ma_gr\", train_ds)\n",
        "pu_ma_no_encoded = encode_numerical_feature(pu_ma_no, \"pu_ma_no\", train_ds)\n",
        "Fattore_correzione_new_encoded = encode_numerical_feature(Fattore_correzione_new, \"Fattore_correzione_new\", train_ds)\n",
        "Cheating_encoded = encode_numerical_feature(Cheating, \"Cheating\", train_ds)\n",
        "WLE_MAT_encoded = encode_numerical_feature(WLE_MAT, \"WLE_MAT\", train_ds)\n",
        "WLE_MAT_200_encoded = encode_numerical_feature(WLE_MAT_200, \"WLE_MAT_200\", train_ds)\n",
        "WLE_MAT_200_CORR_encoded = encode_numerical_feature(WLE_MAT_200_CORR, \"WLE_MAT_200_CORR\", train_ds)\n",
        "pu_ma_no_corr_encoded = encode_numerical_feature(pu_ma_no_corr, \"pu_ma_no_corr\", train_ds)\n",
        "Numeri_encoded = encode_numerical_feature(Numeri, \"Numeri\", train_ds)\n",
        "Dati_encoded = encode_numerical_feature(Dati, \"Dati e previsioni\", train_ds)\n",
        "Riconoscere_forme_encoded = encode_numerical_feature(Riconoscere_forme, \"Riconoscere le forme nello spazio e utilizzarle per la risoluzione di problemi geometrici o di modellizzazione\", train_ds)\n",
        "Conoscere_padr_encoded = encode_numerical_feature(Conoscere_padr, \"Conoscere e padroneggiare i contenuti specifici della matematica\", train_ds)\n",
        "Relazioni_encoded = encode_numerical_feature(Relazioni, \"Relazioni e funzioni\", train_ds)\n",
        "Spazio_encoded = encode_numerical_feature(Spazio, \"Spazio figure\", train_ds)\n",
        "Acquisire_encoded = encode_numerical_feature(Acquisire, \"Acquisire progressivamente forme tipiche del pensiero matematico\", train_ds)\n",
        "Conoscere_util_encoded = encode_numerical_feature(Conoscere_util, \"Conoscere e utilizzare algoritmi e procedure\", train_ds)\n",
        "Rappresentare_encoded = encode_numerical_feature(Rappresentare, \"Rappresentare relazioni e dati e, in situazioni significative, utilizzare le rappresentazioni per ricavare informazioni, formulare giudizi e prendere decisioni\", train_ds)\n",
        "Riconoscere_contesti_encoded = encode_numerical_feature(Riconoscere_contesti, \"Riconoscere in contesti diversi il carattere misurabile di oggetti e fenomeni, utilizzare strumenti di misura, misurare grandezze, stimare misure di grandezze\", train_ds)\n",
        "Risolvere_encoded = encode_numerical_feature(Risolvere, \"Risolvere problemi utilizzando strategie in ambiti diversi – numerico, geometrico, algebrico –\", train_ds)\n",
        "Utilizzare_encoded = encode_numerical_feature(Utilizzare, \"Utilizzare strumenti, modelli e rappresentazioni nel trattamento quantitativo dell'informazione in ambito scientifico, tecnologico, economico e sociale\", train_ds)\n",
        "\n",
        "prog_encoded = encode_categorical_feature(prog, \"prog\", train_ds, False)\n",
        "mese_encoded = encode_categorical_feature(mese, \"mese\", train_ds, False)\n",
        "anno_encoded = encode_categorical_feature(anno, \"anno\", train_ds, False)\n",
        "luogo_encoded = encode_categorical_feature(luogo, \"luogo\", train_ds, False)\n",
        "eta_encoded = encode_categorical_feature(eta, \"eta\", train_ds, False)\n",
        "freq_asilo_nido_encoded = encode_categorical_feature(freq_asilo_nido, \"freq_asilo_nido\", train_ds, False)\n",
        "freq_scuola_materna_encoded = encode_categorical_feature(freq_scuola_materna, \"freq_scuola_materna\", train_ds, False)\n",
        "luogo_padre_encoded = encode_categorical_feature(luogo_padre, \"luogo_padre\", train_ds, False)\n",
        "titolo_padre_encoded = encode_categorical_feature(titolo_padre, \"titolo_padre\", train_ds, False)\n",
        "prof_padre_encoded = encode_categorical_feature(prof_padre, \"prof_padre\", train_ds, False)\n",
        "luogo_madre_encoded = encode_categorical_feature(luogo_madre, \"luogo_madre\", train_ds, False)\n",
        "titolo_madre_encoded = encode_categorical_feature(titolo_madre, \"titolo_madre\", train_ds, False)\n",
        "prof_madre_encoded = encode_categorical_feature(prof_madre, \"prof_madre\", train_ds, False)\n",
        "regolarita_encoded = encode_categorical_feature(regolarita, \"regolarità\", train_ds, False)\n",
        "cittadinanza_encoded = encode_categorical_feature(cittadinanza, \"cittadinanza\", train_ds, False)\n",
        "cod_provincia_ISTAT_encoded = encode_categorical_feature(cod_provincia_ISTAT, \"cod_provincia_ISTAT\", train_ds, False)\n",
        "sigla_provincia_istat_encoded = encode_categorical_feature(sigla_provincia_istat, \"sigla_provincia_istat\", train_ds, False)\n",
        "Nome_reg_encoded = encode_categorical_feature(Nome_reg, \"Nome_reg\", train_ds, False)\n",
        "Cod_reg_encoded = encode_categorical_feature(Cod_reg, \"Cod_reg\", train_ds, False)\n",
        "Areageo_3_encoded = encode_categorical_feature(Areageo_3, \"Areageo_3\", train_ds, False)\n",
        "Areageo_4_encoded = encode_categorical_feature(Areageo_4, \"Areageo_4\", train_ds, False)\n",
        "Areageo_5_encoded = encode_categorical_feature(Areageo_5, \"Areageo_5\", train_ds, False)\n",
        "Areageo_5_Istat_encoded = encode_categorical_feature(Areageo_5_Istat, \"Areageo_5_Istat\", train_ds, False)\n",
        "LIVELLI_encoded = encode_categorical_feature(LIVELLI, \"LIVELLI\", train_ds, False)\n"
      ],
      "execution_count": 42,
      "outputs": []
    },
    {
      "cell_type": "code",
      "metadata": {
        "id": "3lrPyVrGuEDP"
      },
      "source": [
        "all_features = layers.concatenate(\n",
        "    [\n",
        "        prog_encoded, \n",
        "        sesso_encoded, \n",
        "        mese_encoded, \n",
        "        anno_encoded, \n",
        "        luogo_encoded, \n",
        "        eta_encoded, \n",
        "        freq_asilo_nido_encoded, \n",
        "        freq_scuola_materna_encoded, \n",
        "        luogo_padre_encoded, \n",
        "        titolo_padre_encoded, \n",
        "        prof_padre_encoded, \n",
        "        luogo_madre_encoded, \n",
        "        titolo_madre_encoded, \n",
        "        prof_madre_encoded, \n",
        "        regolarita_encoded,\n",
        "        cittadinanza_encoded, \n",
        "        cod_provincia_ISTAT_encoded, \n",
        "        sigla_provincia_istat_encoded, \n",
        "        Nome_reg_encoded, \n",
        "        Cod_reg_encoded, \n",
        "        Areageo_3_encoded, \n",
        "        Areageo_4_encoded, \n",
        "        Areageo_5_encoded, \n",
        "        Areageo_5_Istat_encoded, \n",
        "        Pon_encoded, \n",
        "        pu_ma_gr_encoded, \n",
        "        pu_ma_no_encoded, \n",
        "        Fattore_correzione_new_encoded, \n",
        "        Cheating_encoded, \n",
        "        WLE_MAT_encoded, \n",
        "        WLE_MAT_200_encoded, \n",
        "        WLE_MAT_200_CORR_encoded, \n",
        "        pu_ma_no_corr_encoded, \n",
        "        n_stud_prev_encoded, \n",
        "        n_classi_prev_encoded, \n",
        "        LIVELLI_encoded, \n",
        "        Numeri_encoded, \n",
        "        Dati_encoded, \n",
        "        Riconoscere_forme_encoded, \n",
        "        Conoscere_padr_encoded, \n",
        "        Relazioni_encoded, \n",
        "        Spazio_encoded, \n",
        "        Acquisire_encoded, \n",
        "        Conoscere_util_encoded, \n",
        "        Rappresentare_encoded, \n",
        "        Riconoscere_contesti_encoded, \n",
        "        Risolvere_encoded, \n",
        "        Utilizzare_encoded\n",
        "    ]\n",
        ")"
      ],
      "execution_count": 44,
      "outputs": []
    },
    {
      "cell_type": "markdown",
      "metadata": {
        "id": "cVkCufpss3ps"
      },
      "source": [
        "## Diverse architetture"
      ]
    },
    {
      "cell_type": "markdown",
      "metadata": {
        "id": "0W3p94ZbtHxV"
      },
      "source": [
        "### Architettura 48-(32)-1 (relu - sigmoid) (Adam)"
      ]
    },
    {
      "cell_type": "code",
      "metadata": {
        "id": "85iF60GkvWuO"
      },
      "source": [
        "from tensorflow.keras import metrics\n",
        "from tensorflow.keras import optimizers\n",
        "from tensorflow.keras import losses\n",
        "\n",
        "my_init = keras.initializers.glorot_uniform(seed=1)\n",
        "\n",
        "x = layers.Dense(32, activation=\"relu\", kernel_initializer=my_init)(all_features)\n",
        "x = layers.Dropout(0.5, seed=1)(x)\n",
        "output = layers.Dense(1, activation=\"sigmoid\", kernel_initializer=my_init)(x)\n",
        "model = keras.Model(all_inputs, output)\n",
        "model.compile(optimizer=optimizers.Adam(),\n",
        "              loss=losses.BinaryCrossentropy(),\n",
        "              metrics=[metrics.Accuracy(),\n",
        "                       metrics.Precision(),\n",
        "                       metrics.Recall(),\n",
        "                       metrics.FalseNegatives(),\n",
        "                       metrics.FalsePositives(),\n",
        "                       metrics.TrueNegatives(),\n",
        "                       metrics.TruePositives()])"
      ],
      "execution_count": null,
      "outputs": []
    },
    {
      "cell_type": "code",
      "metadata": {
        "id": "z_DuwTPqvbcw"
      },
      "source": [
        "# keras.utils.plot_model(model, show_shapes=True, rankdir=\"LR\")"
      ],
      "execution_count": null,
      "outputs": []
    },
    {
      "cell_type": "code",
      "metadata": {
        "colab": {
          "base_uri": "https://localhost:8080/",
          "height": 390
        },
        "id": "dOP1zTVkve81",
        "outputId": "b38dcead-da2c-4f42-d93a-e9f71641c7ec"
      },
      "source": [
        "# addestramento del modello\n",
        "model.fit(train_ds, epochs=18, validation_data=val_ds, verbose=2)"
      ],
      "execution_count": null,
      "outputs": [
        {
          "output_type": "stream",
          "text": [
            "Epoch 1/18\n",
            "4663/4663 - 95s - loss: 0.0341 - accuracy: 0.0167 - precision: 0.9903 - recall: 0.9863 - false_negatives: 1019.0000 - false_positives: 723.0000 - true_negatives: 73884.0000 - true_positives: 73590.0000 - val_loss: 5.9930e-05 - val_accuracy: 5.6619e-04 - val_precision: 1.0000 - val_recall: 1.0000 - val_false_negatives: 0.0000e+00 - val_false_positives: 0.0000e+00 - val_true_negatives: 36097.0000 - val_true_positives: 18655.0000\n",
            "Epoch 2/18\n"
          ],
          "name": "stdout"
        },
        {
          "output_type": "error",
          "ename": "KeyboardInterrupt",
          "evalue": "ignored",
          "traceback": [
            "\u001b[0;31m---------------------------------------------------------------------------\u001b[0m",
            "\u001b[0;31mKeyboardInterrupt\u001b[0m                         Traceback (most recent call last)",
            "\u001b[0;32m<ipython-input-23-0f026c2f3610>\u001b[0m in \u001b[0;36m<module>\u001b[0;34m()\u001b[0m\n\u001b[1;32m      1\u001b[0m \u001b[0;31m# addestramento del modello\u001b[0m\u001b[0;34m\u001b[0m\u001b[0;34m\u001b[0m\u001b[0;34m\u001b[0m\u001b[0m\n\u001b[0;32m----> 2\u001b[0;31m \u001b[0mmodel\u001b[0m\u001b[0;34m.\u001b[0m\u001b[0mfit\u001b[0m\u001b[0;34m(\u001b[0m\u001b[0mtrain_ds\u001b[0m\u001b[0;34m,\u001b[0m \u001b[0mepochs\u001b[0m\u001b[0;34m=\u001b[0m\u001b[0;36m18\u001b[0m\u001b[0;34m,\u001b[0m \u001b[0mvalidation_data\u001b[0m\u001b[0;34m=\u001b[0m\u001b[0mval_ds\u001b[0m\u001b[0;34m,\u001b[0m \u001b[0mverbose\u001b[0m\u001b[0;34m=\u001b[0m\u001b[0;36m2\u001b[0m\u001b[0;34m)\u001b[0m\u001b[0;34m\u001b[0m\u001b[0;34m\u001b[0m\u001b[0m\n\u001b[0m",
            "\u001b[0;32m/usr/local/lib/python3.7/dist-packages/tensorflow/python/keras/engine/training.py\u001b[0m in \u001b[0;36mfit\u001b[0;34m(self, x, y, batch_size, epochs, verbose, callbacks, validation_split, validation_data, shuffle, class_weight, sample_weight, initial_epoch, steps_per_epoch, validation_steps, validation_batch_size, validation_freq, max_queue_size, workers, use_multiprocessing)\u001b[0m\n\u001b[1;32m   1181\u001b[0m                 _r=1):\n\u001b[1;32m   1182\u001b[0m               \u001b[0mcallbacks\u001b[0m\u001b[0;34m.\u001b[0m\u001b[0mon_train_batch_begin\u001b[0m\u001b[0;34m(\u001b[0m\u001b[0mstep\u001b[0m\u001b[0;34m)\u001b[0m\u001b[0;34m\u001b[0m\u001b[0;34m\u001b[0m\u001b[0m\n\u001b[0;32m-> 1183\u001b[0;31m               \u001b[0mtmp_logs\u001b[0m \u001b[0;34m=\u001b[0m \u001b[0mself\u001b[0m\u001b[0;34m.\u001b[0m\u001b[0mtrain_function\u001b[0m\u001b[0;34m(\u001b[0m\u001b[0miterator\u001b[0m\u001b[0;34m)\u001b[0m\u001b[0;34m\u001b[0m\u001b[0;34m\u001b[0m\u001b[0m\n\u001b[0m\u001b[1;32m   1184\u001b[0m               \u001b[0;32mif\u001b[0m \u001b[0mdata_handler\u001b[0m\u001b[0;34m.\u001b[0m\u001b[0mshould_sync\u001b[0m\u001b[0;34m:\u001b[0m\u001b[0;34m\u001b[0m\u001b[0;34m\u001b[0m\u001b[0m\n\u001b[1;32m   1185\u001b[0m                 \u001b[0mcontext\u001b[0m\u001b[0;34m.\u001b[0m\u001b[0masync_wait\u001b[0m\u001b[0;34m(\u001b[0m\u001b[0;34m)\u001b[0m\u001b[0;34m\u001b[0m\u001b[0;34m\u001b[0m\u001b[0m\n",
            "\u001b[0;32m/usr/local/lib/python3.7/dist-packages/tensorflow/python/eager/def_function.py\u001b[0m in \u001b[0;36m__call__\u001b[0;34m(self, *args, **kwds)\u001b[0m\n\u001b[1;32m    887\u001b[0m \u001b[0;34m\u001b[0m\u001b[0m\n\u001b[1;32m    888\u001b[0m       \u001b[0;32mwith\u001b[0m \u001b[0mOptionalXlaContext\u001b[0m\u001b[0;34m(\u001b[0m\u001b[0mself\u001b[0m\u001b[0;34m.\u001b[0m\u001b[0m_jit_compile\u001b[0m\u001b[0;34m)\u001b[0m\u001b[0;34m:\u001b[0m\u001b[0;34m\u001b[0m\u001b[0;34m\u001b[0m\u001b[0m\n\u001b[0;32m--> 889\u001b[0;31m         \u001b[0mresult\u001b[0m \u001b[0;34m=\u001b[0m \u001b[0mself\u001b[0m\u001b[0;34m.\u001b[0m\u001b[0m_call\u001b[0m\u001b[0;34m(\u001b[0m\u001b[0;34m*\u001b[0m\u001b[0margs\u001b[0m\u001b[0;34m,\u001b[0m \u001b[0;34m**\u001b[0m\u001b[0mkwds\u001b[0m\u001b[0;34m)\u001b[0m\u001b[0;34m\u001b[0m\u001b[0;34m\u001b[0m\u001b[0m\n\u001b[0m\u001b[1;32m    890\u001b[0m \u001b[0;34m\u001b[0m\u001b[0m\n\u001b[1;32m    891\u001b[0m       \u001b[0mnew_tracing_count\u001b[0m \u001b[0;34m=\u001b[0m \u001b[0mself\u001b[0m\u001b[0;34m.\u001b[0m\u001b[0mexperimental_get_tracing_count\u001b[0m\u001b[0;34m(\u001b[0m\u001b[0;34m)\u001b[0m\u001b[0;34m\u001b[0m\u001b[0;34m\u001b[0m\u001b[0m\n",
            "\u001b[0;32m/usr/local/lib/python3.7/dist-packages/tensorflow/python/eager/def_function.py\u001b[0m in \u001b[0;36m_call\u001b[0;34m(self, *args, **kwds)\u001b[0m\n\u001b[1;32m    915\u001b[0m       \u001b[0;31m# In this case we have created variables on the first call, so we run the\u001b[0m\u001b[0;34m\u001b[0m\u001b[0;34m\u001b[0m\u001b[0;34m\u001b[0m\u001b[0m\n\u001b[1;32m    916\u001b[0m       \u001b[0;31m# defunned version which is guaranteed to never create variables.\u001b[0m\u001b[0;34m\u001b[0m\u001b[0;34m\u001b[0m\u001b[0;34m\u001b[0m\u001b[0m\n\u001b[0;32m--> 917\u001b[0;31m       \u001b[0;32mreturn\u001b[0m \u001b[0mself\u001b[0m\u001b[0;34m.\u001b[0m\u001b[0m_stateless_fn\u001b[0m\u001b[0;34m(\u001b[0m\u001b[0;34m*\u001b[0m\u001b[0margs\u001b[0m\u001b[0;34m,\u001b[0m \u001b[0;34m**\u001b[0m\u001b[0mkwds\u001b[0m\u001b[0;34m)\u001b[0m  \u001b[0;31m# pylint: disable=not-callable\u001b[0m\u001b[0;34m\u001b[0m\u001b[0;34m\u001b[0m\u001b[0m\n\u001b[0m\u001b[1;32m    918\u001b[0m     \u001b[0;32melif\u001b[0m \u001b[0mself\u001b[0m\u001b[0;34m.\u001b[0m\u001b[0m_stateful_fn\u001b[0m \u001b[0;32mis\u001b[0m \u001b[0;32mnot\u001b[0m \u001b[0;32mNone\u001b[0m\u001b[0;34m:\u001b[0m\u001b[0;34m\u001b[0m\u001b[0;34m\u001b[0m\u001b[0m\n\u001b[1;32m    919\u001b[0m       \u001b[0;31m# Release the lock early so that multiple threads can perform the call\u001b[0m\u001b[0;34m\u001b[0m\u001b[0;34m\u001b[0m\u001b[0;34m\u001b[0m\u001b[0m\n",
            "\u001b[0;32m/usr/local/lib/python3.7/dist-packages/tensorflow/python/eager/function.py\u001b[0m in \u001b[0;36m__call__\u001b[0;34m(self, *args, **kwargs)\u001b[0m\n\u001b[1;32m   3022\u001b[0m        filtered_flat_args) = self._maybe_define_function(args, kwargs)\n\u001b[1;32m   3023\u001b[0m     return graph_function._call_flat(\n\u001b[0;32m-> 3024\u001b[0;31m         filtered_flat_args, captured_inputs=graph_function.captured_inputs)  # pylint: disable=protected-access\n\u001b[0m\u001b[1;32m   3025\u001b[0m \u001b[0;34m\u001b[0m\u001b[0m\n\u001b[1;32m   3026\u001b[0m   \u001b[0;34m@\u001b[0m\u001b[0mproperty\u001b[0m\u001b[0;34m\u001b[0m\u001b[0;34m\u001b[0m\u001b[0m\n",
            "\u001b[0;32m/usr/local/lib/python3.7/dist-packages/tensorflow/python/eager/function.py\u001b[0m in \u001b[0;36m_call_flat\u001b[0;34m(self, args, captured_inputs, cancellation_manager)\u001b[0m\n\u001b[1;32m   1959\u001b[0m       \u001b[0;31m# No tape is watching; skip to running the function.\u001b[0m\u001b[0;34m\u001b[0m\u001b[0;34m\u001b[0m\u001b[0;34m\u001b[0m\u001b[0m\n\u001b[1;32m   1960\u001b[0m       return self._build_call_outputs(self._inference_function.call(\n\u001b[0;32m-> 1961\u001b[0;31m           ctx, args, cancellation_manager=cancellation_manager))\n\u001b[0m\u001b[1;32m   1962\u001b[0m     forward_backward = self._select_forward_and_backward_functions(\n\u001b[1;32m   1963\u001b[0m         \u001b[0margs\u001b[0m\u001b[0;34m,\u001b[0m\u001b[0;34m\u001b[0m\u001b[0;34m\u001b[0m\u001b[0m\n",
            "\u001b[0;32m/usr/local/lib/python3.7/dist-packages/tensorflow/python/eager/function.py\u001b[0m in \u001b[0;36mcall\u001b[0;34m(self, ctx, args, cancellation_manager)\u001b[0m\n\u001b[1;32m    594\u001b[0m               \u001b[0minputs\u001b[0m\u001b[0;34m=\u001b[0m\u001b[0margs\u001b[0m\u001b[0;34m,\u001b[0m\u001b[0;34m\u001b[0m\u001b[0;34m\u001b[0m\u001b[0m\n\u001b[1;32m    595\u001b[0m               \u001b[0mattrs\u001b[0m\u001b[0;34m=\u001b[0m\u001b[0mattrs\u001b[0m\u001b[0;34m,\u001b[0m\u001b[0;34m\u001b[0m\u001b[0;34m\u001b[0m\u001b[0m\n\u001b[0;32m--> 596\u001b[0;31m               ctx=ctx)\n\u001b[0m\u001b[1;32m    597\u001b[0m         \u001b[0;32melse\u001b[0m\u001b[0;34m:\u001b[0m\u001b[0;34m\u001b[0m\u001b[0;34m\u001b[0m\u001b[0m\n\u001b[1;32m    598\u001b[0m           outputs = execute.execute_with_cancellation(\n",
            "\u001b[0;32m/usr/local/lib/python3.7/dist-packages/tensorflow/python/eager/execute.py\u001b[0m in \u001b[0;36mquick_execute\u001b[0;34m(op_name, num_outputs, inputs, attrs, ctx, name)\u001b[0m\n\u001b[1;32m     58\u001b[0m     \u001b[0mctx\u001b[0m\u001b[0;34m.\u001b[0m\u001b[0mensure_initialized\u001b[0m\u001b[0;34m(\u001b[0m\u001b[0;34m)\u001b[0m\u001b[0;34m\u001b[0m\u001b[0;34m\u001b[0m\u001b[0m\n\u001b[1;32m     59\u001b[0m     tensors = pywrap_tfe.TFE_Py_Execute(ctx._handle, device_name, op_name,\n\u001b[0;32m---> 60\u001b[0;31m                                         inputs, attrs, num_outputs)\n\u001b[0m\u001b[1;32m     61\u001b[0m   \u001b[0;32mexcept\u001b[0m \u001b[0mcore\u001b[0m\u001b[0;34m.\u001b[0m\u001b[0m_NotOkStatusException\u001b[0m \u001b[0;32mas\u001b[0m \u001b[0me\u001b[0m\u001b[0;34m:\u001b[0m\u001b[0;34m\u001b[0m\u001b[0;34m\u001b[0m\u001b[0m\n\u001b[1;32m     62\u001b[0m     \u001b[0;32mif\u001b[0m \u001b[0mname\u001b[0m \u001b[0;32mis\u001b[0m \u001b[0;32mnot\u001b[0m \u001b[0;32mNone\u001b[0m\u001b[0;34m:\u001b[0m\u001b[0;34m\u001b[0m\u001b[0;34m\u001b[0m\u001b[0m\n",
            "\u001b[0;31mKeyboardInterrupt\u001b[0m: "
          ]
        }
      ]
    },
    {
      "cell_type": "code",
      "metadata": {
        "id": "hIq1nb3xFnbh"
      },
      "source": [
        "score = model.evaluate(test_ds.batch(32, drop_remainder=True))\n",
        "print('Test loss:', score[0])\n",
        "print('Test accuracy:', score[1])"
      ],
      "execution_count": null,
      "outputs": []
    },
    {
      "cell_type": "markdown",
      "metadata": {
        "id": "x4WVUAwiuRBX"
      },
      "source": [
        "### Architettura 48-(32-32)-1 (tanh - tanh - sigmoid) (sgd)\n",
        "\n",
        "https://visualstudiomagazine.com/articles/2018/08/30/neural-binary-classification-keras.aspx\n",
        "\n",
        "The Glorot initialization algorithm is a relatively advanced technique that often works better than a random uniform algorithm."
      ]
    },
    {
      "cell_type": "code",
      "metadata": {
        "id": "50deTgNWupLT"
      },
      "source": [
        "my_init = keras.initializers.glorot_uniform(seed=1)\n",
        "\n",
        "x = layers.Dense(32, activation=\"tanh\", kernel_initializer=my_init)(all_features)\n",
        "x = layers.Dense(32, activation=\"tanh\", kernel_initializer=my_init)(x)\n",
        "output = layers.Dense(1, activation=\"sigmoid\", kernel_initializer=my_init)(x)\n",
        "\n",
        "model1 = keras.Model(all_inputs, output)\n",
        "\n",
        "model1.compile(optimizer=keras.optimizers.SGD(learning_rate=0.01),\n",
        "              loss=losses.BinaryCrossentropy(),\n",
        "              metrics=[metrics.Accuracy(),\n",
        "                       metrics.Precision(),\n",
        "                       metrics.Recall(),\n",
        "                       metrics.FalseNegatives(),\n",
        "                       metrics.FalsePositives(),\n",
        "                       metrics.TrueNegatives(),\n",
        "                       metrics.TruePositives()])"
      ],
      "execution_count": 45,
      "outputs": []
    },
    {
      "cell_type": "markdown",
      "metadata": {
        "id": "eQ3b8PbE0sZy"
      },
      "source": [
        "The demo uses a batch size of 32, which is called mini-batch training. Alternatives are a batch size of one, called online training, and a batch size equal to the size of the training set, called batch training. "
      ]
    },
    {
      "cell_type": "code",
      "metadata": {
        "id": "lCn56xr0zrNP",
        "colab": {
          "base_uri": "https://localhost:8080/",
          "height": 374
        },
        "outputId": "5c2699dd-eaf1-489b-9333-9fdccc2804d5"
      },
      "source": [
        "h = model1.fit(train_ds, batch_size=32, epochs=50, validation_data=val_ds, verbose=2)"
      ],
      "execution_count": 46,
      "outputs": [
        {
          "output_type": "stream",
          "text": [
            "Epoch 1/50\n",
            "4663/4663 - 93s - loss: 0.0692 - accuracy: 0.0000e+00 - precision_3: 0.9788 - recall_3: 0.9787 - false_negatives_3: 1587.0000 - false_positives_3: 1578.0000 - true_negatives_3: 73029.0000 - true_positives_3: 73022.0000 - val_loss: 0.0050 - val_accuracy: 0.0000e+00 - val_precision_3: 1.0000 - val_recall_3: 0.9977 - val_false_negatives_3: 43.0000 - val_false_positives_3: 0.0000e+00 - val_true_negatives_3: 36098.0000 - val_true_positives_3: 18611.0000\n",
            "Epoch 2/50\n"
          ],
          "name": "stdout"
        },
        {
          "output_type": "error",
          "ename": "KeyboardInterrupt",
          "evalue": "ignored",
          "traceback": [
            "\u001b[0;31m---------------------------------------------------------------------------\u001b[0m",
            "\u001b[0;31mKeyboardInterrupt\u001b[0m                         Traceback (most recent call last)",
            "\u001b[0;32m<ipython-input-46-ea9d08ddae02>\u001b[0m in \u001b[0;36m<module>\u001b[0;34m()\u001b[0m\n\u001b[0;32m----> 1\u001b[0;31m \u001b[0mh\u001b[0m \u001b[0;34m=\u001b[0m \u001b[0mmodel1\u001b[0m\u001b[0;34m.\u001b[0m\u001b[0mfit\u001b[0m\u001b[0;34m(\u001b[0m\u001b[0mtrain_ds\u001b[0m\u001b[0;34m,\u001b[0m \u001b[0mbatch_size\u001b[0m\u001b[0;34m=\u001b[0m\u001b[0;36m32\u001b[0m\u001b[0;34m,\u001b[0m \u001b[0mepochs\u001b[0m\u001b[0;34m=\u001b[0m\u001b[0;36m50\u001b[0m\u001b[0;34m,\u001b[0m \u001b[0mvalidation_data\u001b[0m\u001b[0;34m=\u001b[0m\u001b[0mval_ds\u001b[0m\u001b[0;34m,\u001b[0m \u001b[0mverbose\u001b[0m\u001b[0;34m=\u001b[0m\u001b[0;36m2\u001b[0m\u001b[0;34m)\u001b[0m\u001b[0;34m\u001b[0m\u001b[0;34m\u001b[0m\u001b[0m\n\u001b[0m",
            "\u001b[0;32m/usr/local/lib/python3.7/dist-packages/tensorflow/python/keras/engine/training.py\u001b[0m in \u001b[0;36mfit\u001b[0;34m(self, x, y, batch_size, epochs, verbose, callbacks, validation_split, validation_data, shuffle, class_weight, sample_weight, initial_epoch, steps_per_epoch, validation_steps, validation_batch_size, validation_freq, max_queue_size, workers, use_multiprocessing)\u001b[0m\n\u001b[1;32m   1181\u001b[0m                 _r=1):\n\u001b[1;32m   1182\u001b[0m               \u001b[0mcallbacks\u001b[0m\u001b[0;34m.\u001b[0m\u001b[0mon_train_batch_begin\u001b[0m\u001b[0;34m(\u001b[0m\u001b[0mstep\u001b[0m\u001b[0;34m)\u001b[0m\u001b[0;34m\u001b[0m\u001b[0;34m\u001b[0m\u001b[0m\n\u001b[0;32m-> 1183\u001b[0;31m               \u001b[0mtmp_logs\u001b[0m \u001b[0;34m=\u001b[0m \u001b[0mself\u001b[0m\u001b[0;34m.\u001b[0m\u001b[0mtrain_function\u001b[0m\u001b[0;34m(\u001b[0m\u001b[0miterator\u001b[0m\u001b[0;34m)\u001b[0m\u001b[0;34m\u001b[0m\u001b[0;34m\u001b[0m\u001b[0m\n\u001b[0m\u001b[1;32m   1184\u001b[0m               \u001b[0;32mif\u001b[0m \u001b[0mdata_handler\u001b[0m\u001b[0;34m.\u001b[0m\u001b[0mshould_sync\u001b[0m\u001b[0;34m:\u001b[0m\u001b[0;34m\u001b[0m\u001b[0;34m\u001b[0m\u001b[0m\n\u001b[1;32m   1185\u001b[0m                 \u001b[0mcontext\u001b[0m\u001b[0;34m.\u001b[0m\u001b[0masync_wait\u001b[0m\u001b[0;34m(\u001b[0m\u001b[0;34m)\u001b[0m\u001b[0;34m\u001b[0m\u001b[0;34m\u001b[0m\u001b[0m\n",
            "\u001b[0;32m/usr/local/lib/python3.7/dist-packages/tensorflow/python/eager/def_function.py\u001b[0m in \u001b[0;36m__call__\u001b[0;34m(self, *args, **kwds)\u001b[0m\n\u001b[1;32m    887\u001b[0m \u001b[0;34m\u001b[0m\u001b[0m\n\u001b[1;32m    888\u001b[0m       \u001b[0;32mwith\u001b[0m \u001b[0mOptionalXlaContext\u001b[0m\u001b[0;34m(\u001b[0m\u001b[0mself\u001b[0m\u001b[0;34m.\u001b[0m\u001b[0m_jit_compile\u001b[0m\u001b[0;34m)\u001b[0m\u001b[0;34m:\u001b[0m\u001b[0;34m\u001b[0m\u001b[0;34m\u001b[0m\u001b[0m\n\u001b[0;32m--> 889\u001b[0;31m         \u001b[0mresult\u001b[0m \u001b[0;34m=\u001b[0m \u001b[0mself\u001b[0m\u001b[0;34m.\u001b[0m\u001b[0m_call\u001b[0m\u001b[0;34m(\u001b[0m\u001b[0;34m*\u001b[0m\u001b[0margs\u001b[0m\u001b[0;34m,\u001b[0m \u001b[0;34m**\u001b[0m\u001b[0mkwds\u001b[0m\u001b[0;34m)\u001b[0m\u001b[0;34m\u001b[0m\u001b[0;34m\u001b[0m\u001b[0m\n\u001b[0m\u001b[1;32m    890\u001b[0m \u001b[0;34m\u001b[0m\u001b[0m\n\u001b[1;32m    891\u001b[0m       \u001b[0mnew_tracing_count\u001b[0m \u001b[0;34m=\u001b[0m \u001b[0mself\u001b[0m\u001b[0;34m.\u001b[0m\u001b[0mexperimental_get_tracing_count\u001b[0m\u001b[0;34m(\u001b[0m\u001b[0;34m)\u001b[0m\u001b[0;34m\u001b[0m\u001b[0;34m\u001b[0m\u001b[0m\n",
            "\u001b[0;32m/usr/local/lib/python3.7/dist-packages/tensorflow/python/eager/def_function.py\u001b[0m in \u001b[0;36m_call\u001b[0;34m(self, *args, **kwds)\u001b[0m\n\u001b[1;32m    915\u001b[0m       \u001b[0;31m# In this case we have created variables on the first call, so we run the\u001b[0m\u001b[0;34m\u001b[0m\u001b[0;34m\u001b[0m\u001b[0;34m\u001b[0m\u001b[0m\n\u001b[1;32m    916\u001b[0m       \u001b[0;31m# defunned version which is guaranteed to never create variables.\u001b[0m\u001b[0;34m\u001b[0m\u001b[0;34m\u001b[0m\u001b[0;34m\u001b[0m\u001b[0m\n\u001b[0;32m--> 917\u001b[0;31m       \u001b[0;32mreturn\u001b[0m \u001b[0mself\u001b[0m\u001b[0;34m.\u001b[0m\u001b[0m_stateless_fn\u001b[0m\u001b[0;34m(\u001b[0m\u001b[0;34m*\u001b[0m\u001b[0margs\u001b[0m\u001b[0;34m,\u001b[0m \u001b[0;34m**\u001b[0m\u001b[0mkwds\u001b[0m\u001b[0;34m)\u001b[0m  \u001b[0;31m# pylint: disable=not-callable\u001b[0m\u001b[0;34m\u001b[0m\u001b[0;34m\u001b[0m\u001b[0m\n\u001b[0m\u001b[1;32m    918\u001b[0m     \u001b[0;32melif\u001b[0m \u001b[0mself\u001b[0m\u001b[0;34m.\u001b[0m\u001b[0m_stateful_fn\u001b[0m \u001b[0;32mis\u001b[0m \u001b[0;32mnot\u001b[0m \u001b[0;32mNone\u001b[0m\u001b[0;34m:\u001b[0m\u001b[0;34m\u001b[0m\u001b[0;34m\u001b[0m\u001b[0m\n\u001b[1;32m    919\u001b[0m       \u001b[0;31m# Release the lock early so that multiple threads can perform the call\u001b[0m\u001b[0;34m\u001b[0m\u001b[0;34m\u001b[0m\u001b[0;34m\u001b[0m\u001b[0m\n",
            "\u001b[0;32m/usr/local/lib/python3.7/dist-packages/tensorflow/python/eager/function.py\u001b[0m in \u001b[0;36m__call__\u001b[0;34m(self, *args, **kwargs)\u001b[0m\n\u001b[1;32m   3022\u001b[0m        filtered_flat_args) = self._maybe_define_function(args, kwargs)\n\u001b[1;32m   3023\u001b[0m     return graph_function._call_flat(\n\u001b[0;32m-> 3024\u001b[0;31m         filtered_flat_args, captured_inputs=graph_function.captured_inputs)  # pylint: disable=protected-access\n\u001b[0m\u001b[1;32m   3025\u001b[0m \u001b[0;34m\u001b[0m\u001b[0m\n\u001b[1;32m   3026\u001b[0m   \u001b[0;34m@\u001b[0m\u001b[0mproperty\u001b[0m\u001b[0;34m\u001b[0m\u001b[0;34m\u001b[0m\u001b[0m\n",
            "\u001b[0;32m/usr/local/lib/python3.7/dist-packages/tensorflow/python/eager/function.py\u001b[0m in \u001b[0;36m_call_flat\u001b[0;34m(self, args, captured_inputs, cancellation_manager)\u001b[0m\n\u001b[1;32m   1959\u001b[0m       \u001b[0;31m# No tape is watching; skip to running the function.\u001b[0m\u001b[0;34m\u001b[0m\u001b[0;34m\u001b[0m\u001b[0;34m\u001b[0m\u001b[0m\n\u001b[1;32m   1960\u001b[0m       return self._build_call_outputs(self._inference_function.call(\n\u001b[0;32m-> 1961\u001b[0;31m           ctx, args, cancellation_manager=cancellation_manager))\n\u001b[0m\u001b[1;32m   1962\u001b[0m     forward_backward = self._select_forward_and_backward_functions(\n\u001b[1;32m   1963\u001b[0m         \u001b[0margs\u001b[0m\u001b[0;34m,\u001b[0m\u001b[0;34m\u001b[0m\u001b[0;34m\u001b[0m\u001b[0m\n",
            "\u001b[0;32m/usr/local/lib/python3.7/dist-packages/tensorflow/python/eager/function.py\u001b[0m in \u001b[0;36mcall\u001b[0;34m(self, ctx, args, cancellation_manager)\u001b[0m\n\u001b[1;32m    594\u001b[0m               \u001b[0minputs\u001b[0m\u001b[0;34m=\u001b[0m\u001b[0margs\u001b[0m\u001b[0;34m,\u001b[0m\u001b[0;34m\u001b[0m\u001b[0;34m\u001b[0m\u001b[0m\n\u001b[1;32m    595\u001b[0m               \u001b[0mattrs\u001b[0m\u001b[0;34m=\u001b[0m\u001b[0mattrs\u001b[0m\u001b[0;34m,\u001b[0m\u001b[0;34m\u001b[0m\u001b[0;34m\u001b[0m\u001b[0m\n\u001b[0;32m--> 596\u001b[0;31m               ctx=ctx)\n\u001b[0m\u001b[1;32m    597\u001b[0m         \u001b[0;32melse\u001b[0m\u001b[0;34m:\u001b[0m\u001b[0;34m\u001b[0m\u001b[0;34m\u001b[0m\u001b[0m\n\u001b[1;32m    598\u001b[0m           outputs = execute.execute_with_cancellation(\n",
            "\u001b[0;32m/usr/local/lib/python3.7/dist-packages/tensorflow/python/eager/execute.py\u001b[0m in \u001b[0;36mquick_execute\u001b[0;34m(op_name, num_outputs, inputs, attrs, ctx, name)\u001b[0m\n\u001b[1;32m     58\u001b[0m     \u001b[0mctx\u001b[0m\u001b[0;34m.\u001b[0m\u001b[0mensure_initialized\u001b[0m\u001b[0;34m(\u001b[0m\u001b[0;34m)\u001b[0m\u001b[0;34m\u001b[0m\u001b[0;34m\u001b[0m\u001b[0m\n\u001b[1;32m     59\u001b[0m     tensors = pywrap_tfe.TFE_Py_Execute(ctx._handle, device_name, op_name,\n\u001b[0;32m---> 60\u001b[0;31m                                         inputs, attrs, num_outputs)\n\u001b[0m\u001b[1;32m     61\u001b[0m   \u001b[0;32mexcept\u001b[0m \u001b[0mcore\u001b[0m\u001b[0;34m.\u001b[0m\u001b[0m_NotOkStatusException\u001b[0m \u001b[0;32mas\u001b[0m \u001b[0me\u001b[0m\u001b[0;34m:\u001b[0m\u001b[0;34m\u001b[0m\u001b[0;34m\u001b[0m\u001b[0m\n\u001b[1;32m     62\u001b[0m     \u001b[0;32mif\u001b[0m \u001b[0mname\u001b[0m \u001b[0;32mis\u001b[0m \u001b[0;32mnot\u001b[0m \u001b[0;32mNone\u001b[0m\u001b[0;34m:\u001b[0m\u001b[0;34m\u001b[0m\u001b[0;34m\u001b[0m\u001b[0m\n",
            "\u001b[0;31mKeyboardInterrupt\u001b[0m: "
          ]
        }
      ]
    },
    {
      "cell_type": "markdown",
      "metadata": {
        "id": "UiiVsLt81CpZ"
      },
      "source": [
        "The demo captures the return object from fit(), which is a log of training history information, but doesn't use it. This code would save the model using the default hierarchical data format, which you can think of as sort of like a binary XML. It is also possible to save check-point models during training using the custom callback mechanism."
      ]
    },
    {
      "cell_type": "code",
      "metadata": {
        "id": "xPxOD5CF1B7u"
      },
      "source": [
        "mp = \".\\\\Models\\\\banknote_model.h5\"\n",
        "model.save(mp)"
      ],
      "execution_count": null,
      "outputs": []
    },
    {
      "cell_type": "code",
      "metadata": {
        "id": "mcmbKtNj1UFy"
      },
      "source": [
        "score = model1.evaluate(test_ds.batch(32, drop_remainder=True))\n",
        "print('Test loss:', score[0])\n",
        "print('Test accuracy:', score[1])"
      ],
      "execution_count": null,
      "outputs": []
    },
    {
      "cell_type": "markdown",
      "metadata": {
        "id": "pC-Y0_c9ywJD"
      },
      "source": [
        "## Predizioni"
      ]
    },
    {
      "cell_type": "code",
      "metadata": {
        "id": "-3RkehPGwJdn"
      },
      "source": [
        "sample = {\n",
        "    \"age\": 60,\n",
        "    \"sex\": 1,\n",
        "    \"cp\": 1,\n",
        "    \"trestbps\": 145,\n",
        "    \"chol\": 233,\n",
        "    \"fbs\": 1,\n",
        "    \"restecg\": 2,\n",
        "    \"thalach\": 150,\n",
        "    \"exang\": 0,\n",
        "    \"oldpeak\": 2.3,\n",
        "    \"slope\": 3,\n",
        "    \"ca\": 0,\n",
        "    \"thal\": \"fixed\",\n",
        "}\n",
        "\n",
        "input_dict = {name: tf.convert_to_tensor([value]) for name, value in sample.items()}\n",
        "predictions = model.predict(input_dict)\n",
        "\n",
        "print(\n",
        "    \"This particular patient had a %.1f percent probability \"\n",
        "    \"of having a heart disease, as evaluated by our model.\" % (100 * predictions[0][0],)\n",
        ")"
      ],
      "execution_count": null,
      "outputs": []
    },
    {
      "cell_type": "markdown",
      "metadata": {
        "id": "mVXPbWHEil7M"
      },
      "source": [
        "# ESEGUI QUEST'ULTIMA CELLA PER SMONTARE GDRIVE"
      ]
    },
    {
      "cell_type": "code",
      "metadata": {
        "id": "tpuu1v81gsYr"
      },
      "source": [
        "drive.flush_and_unmount()\n",
        "print('All changes made in this colab session should now be visible in Drive.')"
      ],
      "execution_count": null,
      "outputs": []
    },
    {
      "cell_type": "markdown",
      "metadata": {
        "id": "njCGBlv3djEH"
      },
      "source": [
        "# Risultati ottenuti\n",
        "\n",
        "Brevi conclusioni traibili da questi risultati: non cambia quasi nulla con diverse configurazioni del solver. Bisogna per forza cambiare il modello.\n",
        "L'accuratezza 50% viene raggiunta dopo circa 10 epoche (è sostanzialmente stabile da quel momento in poi), tranne softmax che lo è dopo circa 20.\n",
        "\n",
        "## Architettura 48-(32)-1 (relu - sigmoid) (Adam)\n",
        "\n",
        "### Configurazione di default + epoche 30\n",
        "\n",
        "- Accuratezza: 50%\n",
        "- Accuratezza validazione: 34%\n",
        "- Epoche: 30\n",
        "\n",
        "### Configurazione con SGD\n",
        "\n",
        "- Accuratezza: 50%\n",
        "- Accuratezza validazione: 34%\n",
        "- Epoche: 50\n",
        "\n",
        "### Configurazione di default + dropout\n",
        "\n",
        "- Accuratezza: 50%\n",
        "- Accuratezza validazione: 34%\n",
        "- Epoche: 50\n",
        "\n",
        "### Configurazione di default + learning rate 0.01\n",
        "\n",
        "- Accuratezza: 50%\n",
        "- Accuratezza validazione: 34%\n",
        "- Epoche: 50\n",
        "\n",
        "### Configurazione di default + batch size 128\n",
        "\n",
        "- Accuratezza: 50%\n",
        "- Accuratezza validazione: 34%\n",
        "- Epoche: 50\n",
        "\n",
        "### Configurazione di default + activation softmax\n",
        "\n",
        "- Accuratezza: 50%\n",
        "- Accuratezza validazione: 34%\n",
        "- Epoche: 50\n",
        "\n",
        "## Architettura 48-(32-32)-1 (tanh - tanh - sigmoid) (sgd)\n",
        "\n",
        "### Configurazione\n",
        "\n",
        "- Accuratezza: %\n",
        "- Accuratezza validazione: %\n",
        "- Epoche: 50"
      ]
    }
  ]
}