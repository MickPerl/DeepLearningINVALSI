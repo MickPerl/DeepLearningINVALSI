{
  "nbformat": 4,
  "nbformat_minor": 0,
  "metadata": {
    "colab": {
      "name": "ProjectAI.ipynb",
      "provenance": [],
      "collapsed_sections": [],
      "toc_visible": true
    },
    "kernelspec": {
      "display_name": "Python 3",
      "language": "python",
      "name": "python3"
    },
    "language_info": {
      "codemirror_mode": {
        "name": "ipython",
        "version": 3
      },
      "file_extension": ".py",
      "mimetype": "text/x-python",
      "name": "python",
      "nbconvert_exporter": "python",
      "pygments_lexer": "ipython3",
      "version": "3.9.5"
    }
  },
  "cells": [
    {
      "cell_type": "markdown",
      "metadata": {
        "id": "XDspGgUS55Xo"
      },
      "source": [
        "[![Open In Colab](https://colab.research.google.com/assets/colab-badge.svg)](https://colab.research.google.com/drive/1QPsU3xbgoY25jiMgoWamYhxKLT_iMHYA#scrollTo=XDspGgUS55Xo)"
      ]
    },
    {
      "cell_type": "markdown",
      "metadata": {
        "id": "NUg8I6hAdzjz"
      },
      "source": [
        "# Import delle librerire fondamentali per l'analisi dei dati"
      ]
    },
    {
      "cell_type": "code",
      "metadata": {
        "id": "dxT1q959d-rL"
      },
      "source": [
        "import pandas as pd\n",
        "import numpy as np\n",
        "import tensorflow as tf\n",
        "import re\n",
        "from sklearn.model_selection import train_test_split"
      ],
      "execution_count": null,
      "outputs": []
    },
    {
      "cell_type": "markdown",
      "metadata": {
        "id": "kcnbPK6Ibq7D"
      },
      "source": [
        "# Ottenimento dataset\n",
        "La variabile `DATASET_PATH` sarà settata con il valore corretto.\n",
        "\n",
        "**Settare a** `True` **la variabile** `from_gdrive` **per accedere al dataset tramite Google Dirve. Settarla a** `False`\n",
        "**per accedere al dataset in locale.**"
      ]
    },
    {
      "cell_type": "code",
      "metadata": {
        "colab": {
          "base_uri": "https://localhost:8080/"
        },
        "id": "ICIk29N7Rf88",
        "outputId": "7974b7e6-d8b9-43b7-90b7-46740e5269a9"
      },
      "source": [
        "from_gdrive = True\n",
        "if from_gdrive:\n",
        "    from google.colab import drive\n",
        "    drive.mount(\"/content/gdrive\")\n",
        "    %cd gdrive/MyDrive/ProjectAI/\n",
        "    DATASET_PATH = \"Data/invalsi_mat_2014.csv\"\n",
        "else:\n",
        "    DATASET_PATH = \"../invalsi_mat_2014.csv\""
      ],
      "execution_count": null,
      "outputs": [
        {
          "output_type": "stream",
          "text": [
            "Mounted at /content/gdrive\n",
            "/content/gdrive/MyDrive/ProjectAI\n"
          ],
          "name": "stdout"
        }
      ]
    },
    {
      "cell_type": "code",
      "metadata": {
        "id": "FGOx3t8pZpnm"
      },
      "source": [
        "in_jupyter_notebook = False\n",
        "if in_jupyter_notebook:\n",
        "    from IPython.core.display import display, HTML\n",
        "    display(HTML(\"<style>.container { width:100% !important; }</style>\"))"
      ],
      "execution_count": null,
      "outputs": []
    },
    {
      "cell_type": "markdown",
      "metadata": {
        "id": "ImDtO788e8ZM"
      },
      "source": [
        "## Utility per tipi e conversioni"
      ]
    },
    {
      "cell_type": "code",
      "metadata": {
        "id": "XRNMMf13oGTm"
      },
      "source": [
        "from typing import List, Dict, Tuple\n",
        "string_list = List[str]\n",
        "one_hot_list = Tuple[int]\n",
        "one_hot_encoding = Dict[str, one_hot_list]"
      ],
      "execution_count": null,
      "outputs": []
    },
    {
      "cell_type": "markdown",
      "metadata": {
        "id": "o38E8qc6eCgd"
      },
      "source": [
        "## Mappe e funzioni per conversioni valori del dataset in valori numerici o booleani"
      ]
    },
    {
      "cell_type": "code",
      "metadata": {
        "id": "Ix0xEhejePKl"
      },
      "source": [
        "def from_categorical_to_one_hot(categorical_data: string_list) -> one_hot_encoding:\n",
        "    dictionary_to_return = {}\n",
        "    indices = list(range(len(categorical_data)))\n",
        "    one_hot_matrix = tf.one_hot(indices, len(indices))\n",
        "    for index, key in enumerate(categorical_data):\n",
        "        dictionary_to_return[key] = one_hot_matrix[index]\n",
        "    \n",
        "    return dictionary_to_return\n",
        "\n",
        "#Features categorica -> One Hot Encoding\n",
        "list_MESI = [\"Gennaio\", \"Febbraio\", \"Marzo\", \"Aprile\", \"Maggio\", \"Giugno\", \"Luglio\", \"Agosto\", \"Settembre\", \"Ottobre\", \"Novembre\", \"Dicembre\", \"Non disponibile\"]\n",
        "MESI = from_categorical_to_one_hot(list_MESI)\n",
        "\n",
        "#Features categorica -> One Hot Encoding\n",
        "list_ANNI = [\"2000\", \"2001\", \"1999\", \"1998\", \"<=1997\", \">=2002\", \"Non disponibile\"]\n",
        "ANNI = from_categorical_to_one_hot(list_ANNI)\n",
        "\n",
        "def convert_question_result(result: str):\n",
        "    return result == \"Corretta\" # alternativamente result == \"Errata\"\n",
        "\n",
        "#Features categorica -> One Hot Encoding\n",
        "list_REGOLARITA = ['Regolare', 'Posticipatario', 'Anticipatario', 'Dato mancante']\n",
        "REGOLARITA = from_categorical_to_one_hot(list_REGOLARITA)\n",
        "\n",
        "#Features categorica -> One Hot Encoding\n",
        "list_AREA_GEOGRAFICA_5_ISTAT = ['Sud', 'Nord est', 'Centro', 'Nord ovest', 'Isole']\n",
        "AREA_GEOGRAFICA_5_ISTAT = from_categorical_to_one_hot(list_AREA_GEOGRAFICA_5_ISTAT)\n",
        "\n",
        "#Features categorica -> One Hot Encoding\n",
        "list_AREA_GEOGRAFICA_5 = ['Sud', 'Nord est', 'Centro', 'Nord ovest', 'Sud e isole']\n",
        "AREA_GEOGRAFICA_5 = from_categorical_to_one_hot(list_AREA_GEOGRAFICA_5)\n",
        "\n",
        "#Features categorica -> One Hot Encoding\n",
        "list_AREA_GEOGRAFICA_4 = ['Mezzogiorno', 'Nord est', 'Centro', 'Nord ovest']\n",
        "AREA_GEOGRAFICA_4 = from_categorical_to_one_hot(list_AREA_GEOGRAFICA_4)\n",
        "\n",
        "#Features categorica -> One Hot Encoding\n",
        "list_AREA_GEOGRAFICA_3 = ['Mezzogiorno', 'Nord', 'Centro']\n",
        "AREA_GEOGRAFICA_3 = from_categorical_to_one_hot(list_AREA_GEOGRAFICA_3)\n",
        "\n",
        "#Features categorica -> One Hot Encoding\n",
        "list_REGIONI = ['Campania', 'Emilia-Romagna', 'Lazio', 'Piemonte', 'Puglia', 'Lombardia', 'Veneto', 'Sicilia', 'Prov. Aut. Trento', 'Friuli-Venezia Giulia', 'Abruzzo', 'Liguria', 'Toscana', 'Sardegna', 'Calabria', 'Molise', 'Marche', 'Umbria', 'Basilicata', 'Prov. Aut. Bolzano (l. it.)']\n",
        "REGIONI = from_categorical_to_one_hot(list_REGIONI)\n",
        "\n",
        "#Features categorica -> One Hot Encoding\n",
        "list_PROVINCE = ['', 'RE', 'FR', 'TO', 'BA', 'CO', 'LE', 'RO', 'CT', 'RM', 'TA', 'BS', 'SA', 'TN', 'UD', 'FG', 'LT', 'AG', 'CH', 'PC', 'TS', 'SR', 'SP', 'PD', 'SI', 'PA', 'TP', 'BO', 'CA', 'CN', 'RC', 'TE', 'MI', 'LC', 'LU', 'FI', 'AQ', 'TV', 'RG', 'VA', 'GO', 'MO', 'GE', 'AL', 'CB', 'PR', 'OR', 'VE', 'MC', 'NO', 'PT', 'MN', 'VR', 'PI', 'AP', 'LO', 'VI', 'SV', 'PU', 'BG', 'AR', 'VT', 'LI', 'SS', 'BR', 'RA', 'TR', 'SO', 'IM', 'PZ', 'GR', 'AN', 'PN', 'ME', 'CR', 'FE', 'BI', 'PV', 'PG', 'VB', 'BL', 'PE', 'CS', 'CZ', 'AV', 'RN', 'CL', 'AT', 'MS', 'KR', 'RI', 'EN', 'CE', 'MT', 'VV', 'VC', 'NU', 'FC', 'PO', 'BZ', 'BN', 'IS', \n",
        "            'NA', # presente in cod_provincia_ISTAT ma non in sigla_provincia_istat\n",
        "            'PS', # presente in cod_provincia_ISTAT ma non in sigla_provincia_istat\n",
        "            'FO', # presente in cod_provincia_ISTAT ma non in sigla_provincia_istat\n",
        "            'LB', # presente in cod_provincia_ISTAT ma non in sigla_provincia_istat\n",
        "]\n",
        "PROVINCE = from_categorical_to_one_hot(list_PROVINCE)\n",
        "\n",
        "#Features categorica -> One Hot Encoding\n",
        "list_CITTADINANZA = ['Italiano', 'Straniero II generazione', 'Straniero I generazione', 'Dato mancante']\n",
        "CITTADINANZA = from_categorical_to_one_hot(list_CITTADINANZA)\n",
        "\n",
        "list_VOTI_NUMERICI = ['1', '2', '3', '4', '5', '6', '7', '8', '9', '10']\n",
        "def voto_orale_decode(voto_orale: str):\n",
        "    if voto_orale in list_VOTI_NUMERICI:\n",
        "        return int(voto_orale)\n",
        "    elif voto_orale == 'Non disponibile':\n",
        "        return np.nan\n",
        "    elif voto_orale == 'Non classificato': \n",
        "        return 0\n",
        "\n",
        "list_VOTI_NAN = ['Non disponibile', 'Senza voto scritto']\n",
        "def voto_scritto_decode(voto_scritto: str):\n",
        "    if voto_scritto in list_VOTI_NUMERICI:\n",
        "        return int(voto_scritto)\n",
        "    elif voto_scritto in list_VOTI_NAN:\n",
        "        return np.nan\n",
        "    elif voto_scritto == 'Non classificato': \n",
        "        return 0\n",
        "    \n",
        "#Features categorica -> One Hot Encoding\n",
        "list_PROFESSIONI = ['1. Disoccupato/a', '2. Casalingo/a', '3. Dirigente, docente universitario, funzionario o ufficiale militare', '4. Imprenditore/proprietario agricolo', '5. Professionista dipendente, sottuff. militare o libero profession. (medico, av', '6. Lavoratore in proprio (commerciante, coltivatore diretto, artigiano, meccanic', '7. Insegnante, impiegato, militare graduato', '8. Operaio, addetto ai servizi/socio di cooperativa', '9. Pensionato/a', '10. Non disponibile']\n",
        "PROFESSIONI = from_categorical_to_one_hot(list_PROFESSIONI)\n",
        "\n",
        "#Features categorica -> One Hot Encoding\n",
        "list_TITOLI = ['1. Licenza elementare', '2. Licenza media', '3. Qualifica professionale triennale', '4. Diploma di maturità', '5. Altro titolo di studio superiore al diploma (I.S.E.F., Accademia di Belle Art', '6. Laurea o titolo superiore (ad esempio Dottorato di Ricerca)', '7. Non disponibile']\n",
        "TITOLI = from_categorical_to_one_hot(list_TITOLI)\n",
        "\n",
        "#Features categorica -> One Hot Encoding\n",
        "list_LUOGHI_GENITORI = ['Italia (o Repubblica di San Marino)', 'Unione Europea', 'Paese europeo Non UE', 'Altro', 'Non disponibile']\n",
        "LUOGHI_GENITORI = from_categorical_to_one_hot(list_LUOGHI_GENITORI)\n",
        "\n",
        "#Features categorica -> One Hot Encoding\n",
        "list_FREQUENZA_SCUOLA = ['No', 'Sì', 'Non disponibile']\n",
        "FREQUENZA_SCUOLA = from_categorical_to_one_hot(list_FREQUENZA_SCUOLA)\n",
        "\n",
        "#Features categorica -> One Hot Encoding\n",
        "list_LUOGO_DI_NASCITA = ['Italia (o Repubblica di San Marino)', 'Unione Europea', 'Paese europeo Non UE', 'Altro', 'Non disponibile']\n",
        "LUOGO_DI_NASCITA = from_categorical_to_one_hot(list_LUOGO_DI_NASCITA)"
      ],
      "execution_count": null,
      "outputs": []
    },
    {
      "cell_type": "markdown",
      "metadata": {
        "id": "PB7HCRC7eemV"
      },
      "source": [
        "Definiamo le conversioni che si dovranno eseguire al momento dell'import."
      ]
    },
    {
      "cell_type": "code",
      "metadata": {
        "id": "mTqfUwl0erHM"
      },
      "source": [
        "columns_converters = {\n",
        "    \"CODICE_SCUOLA\": str, #identificativo della scuola\n",
        "    \"CODICE_PLESSO\": str, #identificativo del plesso\n",
        "    \"CODICE_CLASSE\": str, #identificato della classe\n",
        "    \"macrotipologia\": str, #categoria di scuola\n",
        "    \"campione\": int, #campione di riferimento\n",
        "    \"livello\": int,\n",
        "    \"prog\": int,\n",
        "    \"CODICE_STUDENTE\": str, #codice dello studente\n",
        "    \"sesso\": str, #sesso dello studente\n",
        "    \"mese\": lambda month: MESI[month], #mese di nascita\n",
        "    \"anno\": lambda year: ANNI[year], #anno di nascita\n",
        "    \"luogo\": lambda luogo: LUOGO_DI_NASCITA[luogo],\n",
        "    \"eta\": str, # cosa vuol dire eta?\n",
        "    \"codice_orario\": lambda _: np.nan, # unico dato: Mancante di sistema\n",
        "    \"freq_asilo_nido\": lambda frequenza: FREQUENZA_SCUOLA[frequenza],\n",
        "    \"freq_scuola_materna\": lambda frequenza: FREQUENZA_SCUOLA[frequenza],\n",
        "    \"luogo_padre\": lambda luogo: LUOGHI_GENITORI[luogo],\n",
        "    \"titolo_padre\": lambda titolo: TITOLI[titolo],\n",
        "    \"prof_padre\": lambda professione: PROFESSIONI[professione],\n",
        "    \"luogo_madre\": lambda luogo: LUOGHI_GENITORI[luogo],\n",
        "    \"titolo_madre\": lambda titolo: TITOLI[titolo],\n",
        "    \"prof_madre\": lambda professione: PROFESSIONI[professione],\n",
        "    \"voto_scritto_ita\": lambda voto: voto_scritto_decode(voto),\n",
        "    \"voto_orale_ita\": lambda voto: voto_orale_decode(voto),\n",
        "    \"voto_scritto_mat\": lambda voto: voto_scritto_decode(voto),\n",
        "    \"voto_orale_mat\": lambda voto: voto_orale_decode(voto),\n",
        "    \"D1\": lambda result: convert_question_result(result),\n",
        "    \"D2\": lambda result: convert_question_result(result),\n",
        "    \"D3_a\": lambda result: convert_question_result(result),\n",
        "    \"D3_b\": lambda result: convert_question_result(result),\n",
        "    \"D4_a\": lambda result: convert_question_result(result),\n",
        "    \"D4_b\": lambda result: convert_question_result(result),\n",
        "    \"D4_c\": lambda result: convert_question_result(result),\n",
        "    \"D4_d\": lambda result: convert_question_result(result),\n",
        "    \"D5_a\": lambda result: convert_question_result(result),\n",
        "    \"D5_b\": lambda result: convert_question_result(result),\n",
        "    \"D6\": lambda result: convert_question_result(result),\n",
        "    \"D7_a\": lambda result: convert_question_result(result),\n",
        "    \"D7_b\": lambda result: convert_question_result(result),\n",
        "    \"D8\": lambda result: convert_question_result(result),\n",
        "    \"D9\": lambda result: convert_question_result(result),\n",
        "    \"D10_a\": lambda result: convert_question_result(result),\n",
        "    \"D10_b1\": lambda result: convert_question_result(result),\n",
        "    \"D10_b2\": lambda result: convert_question_result(result),\n",
        "    \"D10_b3\": lambda result: convert_question_result(result),\n",
        "    \"D11_a\": lambda result: convert_question_result(result),\n",
        "    \"D11_b\": lambda result: convert_question_result(result),\n",
        "    \"D12_a\": lambda result: convert_question_result(result),\n",
        "    \"D12_b\": lambda result: convert_question_result(result),\n",
        "    \"D13_a\": lambda result: convert_question_result(result),\n",
        "    \"D13_b\": lambda result: convert_question_result(result),\n",
        "    \"D13_c\": lambda result: convert_question_result(result),\n",
        "    \"D14\": lambda result: convert_question_result(result),\n",
        "    \"D15\": lambda result: convert_question_result(result),\n",
        "    \"D16_a\": lambda result: convert_question_result(result),\n",
        "    \"D16_b\": lambda result: convert_question_result(result),\n",
        "    \"D16_c\": lambda result: convert_question_result(result),\n",
        "    \"D16_d\": lambda result: convert_question_result(result),\n",
        "    \"D17_a\": lambda result: convert_question_result(result),\n",
        "    \"D17_b\": lambda result: convert_question_result(result),\n",
        "    \"D18\": lambda result: convert_question_result(result),\n",
        "    \"D19_a\": lambda result: convert_question_result(result),\n",
        "    \"D19_b\": lambda result: convert_question_result(result),\n",
        "    \"D20\": lambda result: convert_question_result(result),\n",
        "    \"D21\": lambda result: convert_question_result(result),\n",
        "    \"D22\": lambda result: convert_question_result(result),\n",
        "    \"D23_a\": lambda result: convert_question_result(result),\n",
        "    \"D23_b\": lambda result: convert_question_result(result),\n",
        "    \"D23_c\": lambda result: convert_question_result(result),\n",
        "    \"D23_d\": lambda result: convert_question_result(result),\n",
        "    \"D24_a\": lambda result: convert_question_result(result),\n",
        "    \"D24_b\": lambda result: convert_question_result(result),\n",
        "    \"D25\": lambda result: convert_question_result(result),\n",
        "    \"D26_a\": lambda result: convert_question_result(result),\n",
        "    \"D26_b\": lambda result: convert_question_result(result),\n",
        "    \"D26_c\": lambda result: convert_question_result(result),\n",
        "    \"D26_d\": lambda result: convert_question_result(result),\n",
        "    \"regolarità\": lambda regular: REGOLARITA[regular],\n",
        "    \"cittadinanza\": lambda cittadinanza: CITTADINANZA[cittadinanza],\n",
        "    \"cod_provincia_ISTAT\": lambda province_istat: PROVINCE[province_istat.upper()],\n",
        "    \"sigla_provincia_istat\": lambda province: PROVINCE[province],\n",
        "    \"Nome_reg\": lambda regione: REGIONI[\" \".join(regione.split())],\n",
        "    \"Cod_reg\": lambda codice: REGIONI[codice],\n",
        "    \"Areageo_3\": lambda area: AREA_GEOGRAFICA_3[area],\n",
        "    \"Areageo_4\": lambda area: AREA_GEOGRAFICA_4[area],\n",
        "    \"Areageo_5\": lambda area: AREA_GEOGRAFICA_5[area],\n",
        "    \"Areageo_5_Istat\": lambda area: AREA_GEOGRAFICA_5_ISTAT[area],\n",
        "    \"Pon\": lambda pon: True if pon == \"Area_Pon\" else False, # lo studente appartiene all'aera Pon oppure no\n",
        "    \"pu_ma_gr\": int,\n",
        "    \"pu_ma_no\": float,\n",
        "    \"Fattore_correzione_new\": float,\n",
        "    \"Cheating\": float,\n",
        "    \"PesoClasse\": lambda val: float(val) if val != \"\" else np.nan,\n",
        "    \"PesoScuola\": lambda val: float(val) if val != \"\" else np.nan,\n",
        "    \"PesoTotale_Matematica\": lambda val: float(val) if val != \"\" else np.nan,\n",
        "    \"WLE_MAT\": float,\n",
        "    \"WLE_MAT_200\": float,\n",
        "    \"WLE_MAT_200_CORR\": float,\n",
        "    \"pu_ma_no_corr\": float,\n",
        "    \"n_stud_prev\": lambda val: int(float(val)),\n",
        "    \"n_classi_prev\": lambda val: int(float(val)),\n",
        "    \"LIVELLI\": int,\n",
        "    \"DROPOUT\": eval\n",
        "}"
      ],
      "execution_count": null,
      "outputs": []
    },
    {
      "cell_type": "markdown",
      "metadata": {
        "id": "Ef9Xh_mJfGPS"
      },
      "source": [
        "## Lettura del dataset"
      ]
    },
    {
      "cell_type": "code",
      "metadata": {
        "id": "POdTrO5WfJpq"
      },
      "source": [
        "dataset = pd.read_csv(DATASET_PATH,\n",
        "                      sep=';', \n",
        "                      converters=columns_converters)\n",
        "columns_to_drop = [\"CODICE_SCUOLA\",\n",
        "                   \"CODICE_PLESSO\",\n",
        "                   \"CODICE_CLASSE\",\n",
        "                   \"macrotipologia\",\n",
        "                   \"campione\",\n",
        "                   \"livello\",\n",
        "                   \"CODICE_STUDENTE\",\n",
        "                   \"codice_orario\",\n",
        "                   \"PesoClasse\", # potrebbe essere utile?\n",
        "                   \"PesoScuola\", # potrebbe essere utile?\n",
        "                   \"PesoTotale_Matematica\"] # potrebbe essere utile?\n",
        "dataset = dataset.drop(columns_to_drop, axis=1)"
      ],
      "execution_count": null,
      "outputs": []
    },
    {
      "cell_type": "markdown",
      "metadata": {
        "collapsed": false,
        "pycharm": {
          "name": "#%% md\n"
        },
        "id": "EO3-0RsFDR4V"
      },
      "source": [
        "## Colonne di cui valutare eliminazione"
      ]
    },
    {
      "cell_type": "code",
      "metadata": {
        "pycharm": {
          "name": "#%%\n"
        },
        "colab": {
          "base_uri": "https://localhost:8080/"
        },
        "id": "mTglNHcqDR4V",
        "outputId": "dfff34e7-dc80-4c95-d81d-57a286b27a8d"
      },
      "source": [
        "columns_maybe_to_drop = [\"voto_scritto_ita\", #Ricco di NaN\n",
        "                         \"voto_scritto_mat\",\n",
        "                         \"voto_orale_ita\",\n",
        "                         \"voto_orale_mat\"] #Ricco di NaN\n",
        "for col in columns_maybe_to_drop:\n",
        "    print(\"Percentage of NaN in column: \", col, end=\" \")\n",
        "    print(round(dataset[col].isnull().mean() * 100, 2), \"%\")"
      ],
      "execution_count": null,
      "outputs": [
        {
          "output_type": "stream",
          "text": [
            "Percentage of NaN in column:  voto_scritto_ita 68.33 %\n",
            "Percentage of NaN in column:  voto_scritto_mat 68.27 %\n",
            "Percentage of NaN in column:  voto_orale_ita 11.3 %\n",
            "Percentage of NaN in column:  voto_orale_mat 11.42 %\n"
          ],
          "name": "stdout"
        }
      ]
    },
    {
      "cell_type": "markdown",
      "metadata": {
        "id": "j3YeO8Ycfx7u"
      },
      "source": [
        "# Matrici correlazione tra domande"
      ]
    },
    {
      "cell_type": "code",
      "metadata": {
        "id": "6EqG0d5Mf2CO"
      },
      "source": [
        "questions_columns = [col for col in columns_converters.keys() if re.search(\"^D\\d\", col)]\n",
        "questions_dataset = dataset[questions_columns]"
      ],
      "execution_count": null,
      "outputs": []
    },
    {
      "cell_type": "markdown",
      "metadata": {
        "id": "RNEbExY6gQcu"
      },
      "source": [
        "## Standard correlation coefficient (pearson method)"
      ]
    },
    {
      "cell_type": "code",
      "metadata": {
        "id": "pe416QwMgJ6U",
        "scrolled": true
      },
      "source": [
        "questions_correlate_matrix_pearson = questions_dataset.corr(method='pearson')\n",
        "questions_correlate_matrix_pearson.style.background_gradient(cmap='coolwarm')"
      ],
      "execution_count": null,
      "outputs": []
    },
    {
      "cell_type": "markdown",
      "metadata": {
        "id": "ABgGSd1tgYej"
      },
      "source": [
        "## Kendall Tau correlation coefficient"
      ]
    },
    {
      "cell_type": "code",
      "metadata": {
        "id": "VN09a_kCgNe0",
        "scrolled": true
      },
      "source": [
        "questions_correlate_matrix_pearson = questions_dataset.corr(method='kendall')\n",
        "questions_correlate_matrix_pearson.style.background_gradient(cmap='coolwarm')"
      ],
      "execution_count": null,
      "outputs": []
    },
    {
      "cell_type": "markdown",
      "metadata": {
        "id": "e7wAdEsKgkvg"
      },
      "source": [
        "## Spearman rank correlation"
      ]
    },
    {
      "cell_type": "code",
      "metadata": {
        "id": "gKUli2aEgfZ5",
        "scrolled": true
      },
      "source": [
        "questions_correlate_matrix_pearson = questions_dataset.corr(method='spearman')\n",
        "questions_correlate_matrix_pearson.style.background_gradient(cmap='coolwarm')"
      ],
      "execution_count": null,
      "outputs": []
    },
    {
      "cell_type": "markdown",
      "metadata": {
        "id": "JBU9svIjbD9t"
      },
      "source": [
        "## Nota sulle matrici di correlazione ottenute\n",
        "Le **matrici di correlazione sulle domande** non evidenziano significative dipendenze lineari tra di essse: i valori più elevati appaiono in corrispondenza di domande consecutive, il più delle volte parti della stessa domanda (e.g. D7, D3 e D4).  \n",
        "Conseguentemente, **non è possibile realizzare alcuna riduzione di dimensionalità**."
      ]
    },
    {
      "cell_type": "markdown",
      "metadata": {
        "id": "x4rVw_SqFdPe"
      },
      "source": [
        "# Split dataset in training, validation e test"
      ]
    },
    {
      "cell_type": "code",
      "metadata": {
        "id": "YK77ZxFOFjpS"
      },
      "source": [
        "train_dataset, test_dataset = train_test_split(dataset, test_size=0.2)\n",
        "train_dataset, validation_dataset = train_test_split(train_dataset, test_size=0.2)"
      ],
      "execution_count": null,
      "outputs": []
    },
    {
      "cell_type": "markdown",
      "metadata": {
        "id": "Ce0xEolbKOeQ"
      },
      "source": [
        "# Valutazione sbilanciamento del dataset"
      ]
    },
    {
      "cell_type": "code",
      "metadata": {
        "colab": {
          "base_uri": "https://localhost:8080/"
        },
        "id": "SM8tXExZKaF7",
        "outputId": "ef195c7e-738b-4657-ace0-87865f84776b"
      },
      "source": [
        "nr_nodrop, nr_drop = np.bincount(train_dataset['DROPOUT'])\n",
        "total = nr_nodrop + nr_drop\n",
        "print(f'Nr di istanze: {total:,}\\nIstanze con dropout a True: {nr_drop:,} ({(100 * nr_drop / total):.2f}% del totale)\\nProporzione dropout True v/s False: {round(nr_drop/nr_nodrop, 2)} : 1')"
      ],
      "execution_count": null,
      "outputs": [
        {
          "output_type": "stream",
          "text": [
            "Nr di istanze: 219,024\n",
            "Istanze con dropout a True: 74,443 (33.99% del totale)\n",
            "Proporzione dropout True v/s False: 0.51 : 1\n"
          ],
          "name": "stdout"
        }
      ]
    },
    {
      "cell_type": "code",
      "metadata": {
        "colab": {
          "base_uri": "https://localhost:8080/",
          "height": 248
        },
        "id": "tR5LJ8RUl9LL",
        "outputId": "50d8e0a2-1c86-4036-8ed0-7adb7d0aa652"
      },
      "source": [
        "data = pd.Series([nr_nodrop, nr_drop])\n",
        "data.plot.pie(autopct=\"%.1f%%\");"
      ],
      "execution_count": null,
      "outputs": [
        {
          "output_type": "display_data",
          "data": {
            "image/png": "[encoded data removed]",
            "text/plain": [
              "<Figure size 432x288 with 1 Axes>"
            ]
          },
          "metadata": {
            "tags": []
          }
        }
      ]
    },
    {
      "cell_type": "markdown",
      "metadata": {
        "id": "ZJN0Q8UzdGlV"
      },
      "source": [
        "Le due classi (i.e. target del classificatore) appaiono leggermente sbilanciate: in dettaglio, la classe dei soggetti che manifestano dropout ha una cardinalità inferiore della classe in cui non si è avuto dropout."
      ]
    },
    {
      "cell_type": "markdown",
      "metadata": {
        "id": "6m6aNeE6kZZI"
      },
      "source": [
        "## Random under-sampling\n",
        "Tecnica consistente nell'eliminazione in maniera randomica di istanze della classe sovra-rappresentata fintanto che la sua cardinalità coincida con quella della classe sotto-rappresentata."
      ]
    },
    {
      "cell_type": "code",
      "metadata": {
        "colab": {
          "base_uri": "https://localhost:8080/"
        },
        "id": "Vi9UK1Jkkb_X",
        "outputId": "018f40f0-dc36-4f65-a660-d3b28700860d"
      },
      "source": [
        "class_nodrop = train_dataset[train_dataset['DROPOUT'] == False]\n",
        "class_drop = train_dataset[train_dataset['DROPOUT'] == True]\n",
        "\n",
        "# Sotto campionamento di class_drop in modo che abbia stessa cardinalità di class_nodrop\n",
        "class_nodrop = class_nodrop.sample(len(class_drop))\n",
        "\n",
        "print(f'Classe No-drop: {len(class_nodrop):,}')\n",
        "print(f'Classe Drop: {len(class_drop):,}')"
      ],
      "execution_count": null,
      "outputs": [
        {
          "output_type": "stream",
          "text": [
            "Classe No-drop: 74,443\n",
            "Classe Drop: 74,443\n"
          ],
          "name": "stdout"
        }
      ]
    },
    {
      "cell_type": "code",
      "metadata": {
        "id": "o7ZLgOb1KI0h"
      },
      "source": [
        "train_dataset = class_drop.append(class_nodrop)"
      ],
      "execution_count": null,
      "outputs": []
    },
    {
      "cell_type": "code",
      "metadata": {
        "colab": {
          "base_uri": "https://localhost:8080/"
        },
        "id": "_wR9aP_YKmYp",
        "outputId": "0bba25af-ca95-4391-951a-e820526c491b"
      },
      "source": [
        "train_dataset.shape"
      ],
      "execution_count": null,
      "outputs": [
        {
          "output_type": "execute_result",
          "data": {
            "text/plain": [
              "(148886, 93)"
            ]
          },
          "metadata": {
            "tags": []
          },
          "execution_count": 111
        }
      ]
    },
    {
      "cell_type": "code",
      "metadata": {
        "colab": {
          "base_uri": "https://localhost:8080/",
          "height": 248
        },
        "id": "r6H6sPzn5DsX",
        "outputId": "05ed840a-5ee8-4d4c-f623-285dda789303"
      },
      "source": [
        "nr_nodrop, nr_drop = np.bincount(train_dataset['DROPOUT'])\n",
        "data = pd.Series([nr_nodrop, nr_drop])\n",
        "data.plot.pie(autopct=\"%.1f%%\");"
      ],
      "execution_count": null,
      "outputs": [
        {
          "output_type": "display_data",
          "data": {
            "image/png": "[encoded data removed]",
            "text/plain": [
              "<Figure size 432x288 with 1 Axes>"
            ]
          },
          "metadata": {
            "tags": []
          }
        }
      ]
    },
    {
      "cell_type": "markdown",
      "metadata": {
        "id": "9p59HqO4MAfg"
      },
      "source": [
        "## Cluster-based over-sampling\n",
        "Abbiamo scelto di tentare la variante \"cluster-based\" della tecnica dell'over-sampling come alternativa al random under-sampling, in quanto permette di evitare la riduzione di cardinalità del training set che inevitabilmente segue al random under-sampling.\n",
        "\n",
        "Inoltre, nel caso del cluster based over sampling, l'incremento della cardinalità non è guidato da pura casualità (come avviene nel random over-sampling), bensì prevede l'individuazione di cluster all'interno di ogni classe, in modo da poter procedere ad una duplicazione di istanze che sia più uniforme e meno incline all'over-fitting.\n"
      ]
    },
    {
      "cell_type": "markdown",
      "metadata": {
        "id": "RNqvECF_Wkw4"
      },
      "source": [
        "https://cluster-over-sampling.readthedocs.io/en/latest/auto_examples/plot_cluster_oversampler.html\n",
        "\n",
        "https://aiandfriends.blog/site/project/clustering-based-oversampling/"
      ]
    },
    {
      "cell_type": "markdown",
      "metadata": {
        "id": "mVXPbWHEil7M"
      },
      "source": [
        "# ESEGUI QUEST'ULTIMA CELLA PER SMONTARE GDRIVE"
      ]
    },
    {
      "cell_type": "code",
      "metadata": {
        "colab": {
          "base_uri": "https://localhost:8080/"
        },
        "id": "tpuu1v81gsYr",
        "outputId": "c6695bb9-b383-46c5-8779-55ce686fec29"
      },
      "source": [
        "drive.flush_and_unmount()\n",
        "print('All changes made in this colab session should now be visible in Drive.')"
      ],
      "execution_count": null,
      "outputs": [
        {
          "output_type": "stream",
          "text": [
            "All changes made in this colab session should now be visible in Drive.\n"
          ],
          "name": "stdout"
        }
      ]
    }
  ]
}