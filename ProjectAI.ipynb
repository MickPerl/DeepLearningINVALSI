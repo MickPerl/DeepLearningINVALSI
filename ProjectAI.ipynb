{
  "nbformat": 4,
  "nbformat_minor": 0,
  "metadata": {
    "colab": {
      "name": "ProjectAI.ipynb",
      "provenance": []
    },
    "kernelspec": {
      "name": "python3",
      "display_name": "Python 3"
    },
    "language_info": {
      "name": "python"
    },
    "accelerator": "TPU"
  },
  "cells": [
    {
      "cell_type": "markdown",
      "metadata": {
        "id": "XDspGgUS55Xo"
      },
      "source": [
        "[![Open In Colab](https://colab.research.google.com/assets/colab-badge.svg)](https://colab.research.google.com/drive/1QPsU3xbgoY25jiMgoWamYhxKLT_iMHYA#scrollTo=XDspGgUS55Xo)"
      ]
    },
    {
      "cell_type": "markdown",
      "metadata": {
        "id": "kcnbPK6Ibq7D"
      },
      "source": [
        "# Codice per montare GDrive su GColab"
      ]
    },
    {
      "cell_type": "code",
      "metadata": {
        "colab": {
          "base_uri": "https://localhost:8080/"
        },
        "id": "ICIk29N7Rf88",
        "outputId": "6dc969d4-9429-479a-c1aa-78b0d587da9a"
      },
      "source": [
        "from google.colab import drive\n",
        "drive.mount(\"/content/gdrive\")\n",
        "%cd /content/gdrive/MyDrive/DataProjectAI"
      ],
      "execution_count": null,
      "outputs": [
        {
          "output_type": "stream",
          "text": [
            "Mounted at /content/gdrive\n",
            "/content/gdrive/.shortcut-targets-by-id/1A0bC_-pQ-oWUI2c5-EqQVAZ6051G0tKg/DataProjectAI\n"
          ],
          "name": "stdout"
        }
      ]
    }
  ]
}